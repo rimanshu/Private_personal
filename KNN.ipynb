{
 "cells": [
  {
   "cell_type": "markdown",
   "metadata": {},
   "source": [
    "#KNN"
   ]
  },
  {
   "cell_type": "code",
   "execution_count": null,
   "metadata": {},
   "outputs": [],
   "source": [
    "#https://www.analyticsvidhya.com/blog/2018/08/k-nearest-neighbor-introduction-regression-python/\n",
    "#https://www.analyticsvidhya.com/blog/2017/09/30-questions-test-k-nearest-neighbors-algorithm/\n",
    "#https://stackabuse.com/k-nearest-neighbors-algorithm-in-python-and-scikit-learn/\n",
    "\n",
    "#KNN is supervised(labeled data) machine learning algoriths and classification technique. KNN is based on feature similarity.\n",
    "#It classify the data points based on how its neighbour are classified.\n",
    "#KNN stores all available cases and classfies new cases based on a similarity measure. Data points is classify by majority of \n",
    "#votes from its nearest neighbour.\n",
    "\n",
    "#choosing the right value of k is process of parameter tunning, and its important for better accuracy.\n",
    "\n",
    "#To choose a value of k we need to take a square of n(number of data points.Odd value of k is selected to avoid confusion b/w points\n",
    "\n",
    "#KNN is used when dataset is small because KNN is lazy learner i.e doesn't learn a discriminative function from trainig dataset\n",
    "#Also KNN will be used when data is noise free like class column have values underweight, one-fourty, 23, hello kitty, normal.\n",
    "\n"
   ]
  },
  {
   "cell_type": "code",
   "execution_count": 4,
   "metadata": {},
   "outputs": [],
   "source": [
    "# Predict Diabetes use cases- Predict whether a person will be diagnosed with diabetes or not\n",
    "\n",
    "import pandas as pd\n",
    "import numpy as np\n",
    "from sklearn.model_selection import train_test_split\n",
    "from sklearn.preprocessing import StandardScaler\n",
    "from sklearn.neighbors import KNeighborsClassifier\n",
    "from sklearn.metrics import confusion_matrix\n",
    "from sklearn.metrics import accuracy_score\n",
    "from sklearn.metrics import f1_score\n"
   ]
  },
  {
   "cell_type": "code",
   "execution_count": 25,
   "metadata": {},
   "outputs": [
    {
     "name": "stdout",
     "output_type": "stream",
     "text": [
      "[[94 13]\n",
      " [15 32]]\n",
      "0.6956521739130436\n",
      "0.8181818181818182\n"
     ]
    }
   ],
   "source": [
    "datasets = pd.read_csv('C:\\\\Users\\\\rimanshu\\\\Desktop\\\\Jupyter\\\\diabetes.csv')\n",
    "datasets.head()\n",
    "\n",
    "#Valuse of 'Glucose', 'Bloodpressure' cannot accepted as zero coz it will effect the outcomes.\n",
    "#replace zeros with mean values.\n",
    "zero_not_accepted = ['Glucose','BloodPressure','SkinThickness','Insulin','BMI']\n",
    "\n",
    "for column in zero_not_accepted:\n",
    "    datasets[column] = datasets[column].replace(0,np.NaN)\n",
    "    mean =int(datasets[column].mean(skipna=True))\n",
    "    datasets[column] = datasets[column].replace(np.NaN,mean)\n",
    "    \n",
    "#Split the data and train it\n",
    "X = datasets.iloc[:, 0:8]\n",
    "Y = datasets.iloc[:, 8]\n",
    "\n",
    "X_train, X_test, Y_train, Y_test = train_test_split(X,Y, random_state =0, test_size =0.2)\n",
    "\n",
    "#Feature Scaling\n",
    "sc_X = StandardScaler()\n",
    "X_train=sc_X.fit_transform(X_train)\n",
    "X_test=sc_X.transform(X_test)\n",
    "\n",
    "# Define the model : Init KNN \n",
    "len(Y) # 768\n",
    "import math\n",
    "math.sqrt(len(Y_train)) # 24\n",
    "math.sqrt(len(Y_test)) #12 (we will have odd so 12 -1 = 11)\n",
    "\n",
    "classifier = KNeighborsClassifier(n_neighbors=11, p=2, metric='euclidean') # p= 2 means result is diabetes or not.\n",
    "classifier.fit(X_train,Y_train)\n",
    "#Predict the test set result\n",
    "y_pred = classifier.predict(X_test)\n",
    "y_pred\n",
    "\n",
    "#Evalute model\n",
    "cm =confusion_matrix(Y_test,y_pred)\n",
    "print(cm) \n",
    "print(f1_score(Y_test,y_pred)) #0.6956521739130436\n",
    "print(accuracy_score(Y_test,y_pred)) #0.8181818181818182\n"
   ]
  }
 ],
 "metadata": {
  "kernelspec": {
   "display_name": "Python 3",
   "language": "python",
   "name": "python3"
  },
  "language_info": {
   "codemirror_mode": {
    "name": "ipython",
    "version": 3
   },
   "file_extension": ".py",
   "mimetype": "text/x-python",
   "name": "python",
   "nbconvert_exporter": "python",
   "pygments_lexer": "ipython3",
   "version": "3.7.0"
  }
 },
 "nbformat": 4,
 "nbformat_minor": 2
}
