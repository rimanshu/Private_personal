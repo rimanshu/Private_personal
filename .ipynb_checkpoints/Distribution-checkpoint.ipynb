{
 "cells": [
  {
   "cell_type": "code",
   "execution_count": 32,
   "metadata": {},
   "outputs": [
    {
     "name": "stdout",
     "output_type": "stream",
     "text": [
      "0.41643387127450104\n"
     ]
    }
   ],
   "source": [
    "from scipy.stats import t\n",
    "Pvalue = ((1 - t.cdf(0.215, 15-1))*200)\n",
    "print(Pvalue)"
   ]
  },
  {
   "cell_type": "markdown",
   "metadata": {},
   "source": [
    "PDF - probability density function. Y axis have probility and x axis has data or values. It will show the probablity of data distribution falls in that particular area\n",
    "\n",
    "CDF - Cummulative density function. Y axis have % distribution and x axis has data or values. It will show how much % percentage of data distribution falls in that area.\n",
    "\n"
   ]
  },
  {
   "cell_type": "markdown",
   "metadata": {},
   "source": [
    "# Data Distribution"
   ]
  },
  {
   "cell_type": "markdown",
   "metadata": {},
   "source": [
    "A histogram is the most commonly used graph to show frequency distributions. In a histogram, each bar groups numbers into ranges. Taller bars show that more data falls in that range\n",
    "\n",
    "Histogram is a diagram consisting of rectangles whose area is proportional to the frequency of a variable and whose width is equal to the class interval.\n",
    "\n",
    "Histograms are used to show distributions of variables while bar charts are used to compare variables. Histograms plot quantitative data with ranges of the data grouped into bins or intervals while bar charts plot categorical data"
   ]
  },
  {
   "attachments": {
    "image.png": {
     "image/png": "[encoded data removed]"
    }
   },
   "cell_type": "markdown",
   "metadata": {},
   "source": [
    "Joey: Yes, in fact we did more than that. We conducted an experiment by changing the colour and deploying the website for 8 hours, and recorded the average clicks per hour. And these are our findings:\n",
    "Number of clicks before changing the colour: 1500/hour\n",
    "Number of clicks after changing the colour: 1513/hour\n",
    "\n",
    "![image.png](attachment:image.png)\n",
    "\n",
    "“The aggregation of a sufficiently large number of independent random variables results in a random variable which will be approximately a normal distribution”\n",
    "\n",
    "Non Random Variable: It is a variable whose value can be set by us. Example: Temperature of the microwave, no of clothes purchased in this month etc. These variables can take more than one values but you can set it according to our intent.\n",
    "\n",
    "Random Variable: It is an opposite of non-random variable. It is a variable and it takes a value from a possible outcome set. Meaning, we can only measure or observe the values. Example: If you toss a coin, you wouldn’t know the outcome of a particular toss before tossing it, but you would know that outcome can be either head or tail.\n",
    "\n",
    "To explain the independence part, consider the experiment of tossing a coin and rolling a die one after another. Let X be the outcome of the coin toss and Y be the outcome of the die roll. Clearly, X and Y are random variables. Here, X doesn’t get influence by the value of Y and vice versa. This is what is technically called “independent random variables”.\n",
    "\n",
    "Joey: But is there any way to quantify the outcome of a random variable?\n",
    "Chandler: Yes there is. We use something called probability distribution function (PDF) to quantify it. It assigns probability values to all the possible outcomes of a random variable.\n",
    "\n",
    "Joey: Now I understand what the central limit theorem is trying to convey. If we sum/average (aggregation) large number of independent random variables, the resultant random variable approximately follows a normal distribution (a special type of distribution). Am I right?\n",
    "\n",
    "Joey: So you are trying to say that number of average clicks per hours which we obtained is a random variable and it follows a normal distribution?"
   ]
  },
  {
   "cell_type": "markdown",
   "metadata": {},
   "source": [
    "There are two types of random variables.\n",
    "\n",
    "Discrete random variable: A variable that can take only countable number of values, for example, tossing a coin where there are only two possible outcomes, head and tail,or throwing a die where the outcome could be any number between 1and 6.\n",
    "\n",
    "Continuous random variable: A variable that can take infinitely many values in a given interval of two specified values, for example, height of a man, which could take any value between 140 cms to 220 cms (ideally!) or the amount of rainfall in a city which generally could take any value between 0 cm to 60 cms\n",
    "\n",
    "Normal distribution is a common probability distribution for representing continuous random variables. It is also called Gaussian distribution. \n",
    "\n",
    "if we are dealing with discrete probability distribution functions, then we can just use the summation function to calculate the required probabilities. For example, the probability of getting a number less than 3 on a roll of die can be obtained by just summing the probability of obtaining 1 and the probability of obtaining 2 which is 13(16.+ 16). But for a continuous probability distribution function, we use the integration function to calculate the required probabilities. Here, the probability value is given by the area under the curve. The total area under the curve is 1. Let take an example to see how this probability computation is done.\n",
    "\n",
    "Some of the interesting properties of the normal distribution are as follows: \n",
    "The mean, median and mode of a normal distribution are always equal.\n",
    "The total area under the curve is 1.\n",
    "It is very important because of the central limit theorem\n",
    "\n",
    "Linear combination of random variables again results in a random variable which is normally distributed, for example, if X1 and X2 are two independent normal random variables and Z = X1 + X2, then the random variable Z also will follow a normal distribution.\n",
    "\n",
    "Standard normal distribution is a normal distribution with mean 0 and variance 1 = Z = (x-mean)/std\n",
    "\n",
    "PDF or probablity from python code.\n",
    "\n",
    "import scipy.stats\n",
    "\n",
    "A=scipy.stats.norm(3500, 500)\n",
    "\n",
    "A.cdf(3100)\n",
    "\n"
   ]
  },
  {
   "cell_type": "markdown",
   "metadata": {},
   "source": [
    "# Corelation and Covarience"
   ]
  },
  {
   "cell_type": "markdown",
   "metadata": {},
   "source": [
    "df.corr()              \n",
    "df.cov()                                           \n",
    "sn.pairplot(df,kind='scatter') #Plotting corelation                   \n"
   ]
  },
  {
   "cell_type": "code",
   "execution_count": null,
   "metadata": {},
   "outputs": [],
   "source": [
    "#Distribution is relationship between observations in a sample space.\n",
    "#A distribution is simply a collection of data, or scores, on a variable. Usually, these scores are arranged in order from \n",
    "#smallest to largest and then they can be presented graphically.\n",
    "\n",
    "#https://machinelearningmastery.com/statistical-data-distributions/\n",
    "\n",
    "#https://www.youtube.com/watch?v=rzFX5NWojp0\n",
    "\n",
    "#This distribution describes the grouping or the density of the observations, called the probability density function.\n",
    "#https://machinelearningmastery.com/statistical-data-distributions/\n",
    "\n",
    "#A distribution is simply a collection of data, or scores, on a variable. Usually, these scores are arranged in order from \n",
    "#smallest to largest and then they can be presented graphically.\n",
    "\n",
    "#Distributions are often described in terms of their density or density functions.\n",
    "\n",
    "#Density functions are functions that describe how the proportion of data or likelihood of the proportion of observations \n",
    "#change over the range of the distribution.\n",
    "\n",
    "#For continuous distributions, the Gaussian naive Bayes is the algorithm of choice. \n",
    "#For discrete features, multinomial and Bernoulli distributions as popular.\n",
    "\n",
    "#Normal Distribution is always centered on mean or average. Width of curve represents the standard deviations.\n",
    "#Knowing the standard deviation is helpful because normal curve is drawn in such a way that 95% of the measurment fall between\n",
    "#+/- standard deviation around mean. example babied std is .6 and men is 4 and mean for babies is 20 and men is 70 so. \n",
    "#data is fall in between for babies is 20+/-.3 and 70+/-2\n",
    "\n",
    "#####################  Uniform Distribution  ############################\n",
    "\n",
    "#Uniform distribution is equal probability of selecting values between 0 and 1.\n",
    "\n",
    "############################  Binomail Distribution #######################################\n",
    "\n",
    "#If we use the binomail distribution to calculate the p value then it is called Binomail test.\n",
    "# P value is the probility of the observed data (4 out of 7 people prefer orange) plus the probability of all the possibilities\n",
    "#that are equally likely or rarer.\n",
    "\n"
   ]
  },
  {
   "cell_type": "markdown",
   "metadata": {},
   "source": [
    "# Central Limit Theorem"
   ]
  },
  {
   "cell_type": "code",
   "execution_count": null,
   "metadata": {},
   "outputs": [],
   "source": [
    "#https://www.youtube.com/watch?v=YAlJCEDH2uY&t=238s\n",
    "#https://towardsdatascience.com/the-only-theorem-data-scientists-need-to-know-a50a263d013c\n",
    "#https://towardsdatascience.com/understanding-the-central-limit-theorem-642473c63ad8\n",
    "\n",
    "# The Central Limit Theorem states that the sampling distribution of the sample means approaches a normal distribution as the \n",
    "# sample size gets larger — no matter what the shape of the population distribution. This fact holds especially true for sample \n",
    "# sizes over 30. All this is saying is that as you take more samples, especially large ones, your graph of the sample means will \n",
    "# look more like a normal distribution.\n",
    "\n",
    "#The central limit theorem (CLT) is simple. It just says that with a large sample size, sample means are normally distributed.\n",
    "#Default poeple says that sample should be 30. CLT used mainly in Null hhypothesis.\n",
    "\n",
    "#It says that if we aggregate sufficiently large number of random variables, we eventually end up getting a normal distribution \n",
    "#irrespective of the nature of the original random variables.\n",
    "\n",
    "#A sample mean is the average of a random subset of a larger group. So if you randomly picked 10 people out of 100 and \n",
    "#recorded their heights, the average of those 10 heights would be the sample mean.\n",
    "\n",
    "# We can draw histogram of that mean and make a bell curve. we will have to take 100 means and make bell curve.\n",
    "\n",
    "#It doesn't matter what distribution you start with but the mean will normally distributed.\n",
    "\n",
    "# We can use mean normal distribution to make confidence interval. If there is diff b/w of mean of two samples than it is called \n",
    "#t test while annova is diff among the mean of three or more samples.\n",
    "\n",
    "#how do you understand how likely some data is when your hypothesis is wrong? To do this you need to construct the range of \n",
    "#values you could see given that your hypothesis is wrong, and then assess the likelihood of your observed value in that context.\n",
    "#Luckily this is exactly what the CLT allows you to do."
   ]
  },
  {
   "cell_type": "code",
   "execution_count": null,
   "metadata": {},
   "outputs": [],
   "source": [
    "# demonstration of the central limit theorem\n",
    "from numpy.random import seed\n",
    "from numpy.random import randint\n",
    "from numpy import mean\n",
    "from matplotlib import pyplot\n",
    "# seed the random number generator\n",
    "seed(1)\n",
    "# calculate the mean of 50 dice rolls 1000 times\n",
    "means = [mean(randint(1, 7, 50)) for _ in range(1000)]\n",
    "# plot the distribution of sample means\n",
    "pyplot.hist(means)\n",
    "pyplot.show()\n",
    "1\n",
    "2\n",
    "3\n",
    "4\n",
    "5\n",
    "6\n",
    "7\n",
    "8\n",
    "9\n",
    "10\n",
    "11\n",
    "12\n",
    "# demonstration of the central limit theorem\n",
    "from numpy.random import seed\n",
    "from numpy.random import randint\n",
    "from numpy import mean\n",
    "from matplotlib import pyplot\n",
    "# seed the random number generator\n",
    "seed(1)\n",
    "# calculate the mean of 50 dice rolls 1000 times\n",
    "means = [mean(randint(1, 7, 50)) for _ in range(1000)]\n",
    "# plot the distribution of sample means\n",
    "pyplot.hist(means)\n",
    "pyplot.show()"
   ]
  }
 ],
 "metadata": {
  "kernelspec": {
   "display_name": "Python 3",
   "language": "python",
   "name": "python3"
  },
  "language_info": {
   "codemirror_mode": {
    "name": "ipython",
    "version": 3
   },
   "file_extension": ".py",
   "mimetype": "text/x-python",
   "name": "python",
   "nbconvert_exporter": "python",
   "pygments_lexer": "ipython3",
   "version": "3.8.5"
  }
 },
 "nbformat": 4,
 "nbformat_minor": 2
}
