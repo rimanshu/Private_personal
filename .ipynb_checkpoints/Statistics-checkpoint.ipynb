{
 "cells": [
  {
   "cell_type": "markdown",
   "metadata": {},
   "source": [
    "# Statistical Concepts"
   ]
  },
  {
   "cell_type": "markdown",
   "metadata": {},
   "source": [
    "https://towardsdatascience.com/hypothesis-testing-in-machine-learning-using-python-a0dc89e169ce\n",
    "\n",
    "https://nbviewer.jupyter.org/github/Yorko/mlcourse.ai/blob/master/jupyter_english/tutorials/statistical_hypothesis_testing_in_python_panin_kirill.ipynb\n",
    "\n",
    "https://medium.com/analytics-vidhya/using-the-corrected-paired-students-t-test-for-comparing-the-performance-of-machine-learning-dc6529eaa97f\n",
    "\n",
    "https://machinelearningmastery.com/statistical-hypothesis-tests-in-python-cheat-sheet/\n",
    "\n",
    "https://data-flair.training/blogs/python-statistics/\n",
    "\n",
    "https://github.com/rimanshu/MachineLearning/blob/master/Hypothesis%20testing/Paired%20T-test.ipynb\n",
    "\n",
    "Videos - https://www.youtube.com/watch?v=4-rxTA_5_xA&t=65s "
   ]
  },
  {
   "cell_type": "markdown",
   "metadata": {},
   "source": [
    "How to tell if x, y are independent?\n",
    "\n",
    "There are two ways to tell if they are independent:\n",
    "\n",
    "By looking at the p-Value: If the p-Value is less than 0.05, we fail to reject the null hypothesis that the x and y are independent. So for the example output above, (p-Value=2.954e-07), we reject the null hypothesis and conclude that x and y are not independent.\n",
    "\n",
    "From Chi.sq value: For 2 x 2 contingency tables with 2 degrees of freedom (d.o.f), if the Chi-Squared calculated is greater than 3.841 (critical value), we reject the null hypothesis that the variables are independent. To find the critical value of larger d.o.f contingency tables, use qchisq(0.95, n-1), where n is the number of variables."
   ]
  },
  {
   "cell_type": "markdown",
   "metadata": {},
   "source": [
    "# Hypothesis"
   ]
  },
  {
   "cell_type": "markdown",
   "metadata": {},
   "source": [
    "Hypothesis Testing so important for Data Scientist, because you should know how to check distributions and relations between data.\n",
    "\n",
    "We evalute two mutually exclusive statements on population using sample of data.\n",
    "\n",
    "The types of tests to use in different circumstances, such as normality checking, relationships between variables, and differences between samples\n",
    "\n",
    "Each test will return at least two things:\n",
    "\n",
    "Statistic: A quantity calculated by the test that can be interpreted in the context of the test via comparing it to critical values from the distribution of the test statistic.\n",
    "p−value: Used to interpret the test, in first case wheher the sample will drawn from a Gaussian distribution.\n",
    "\n",
    "we'll be testing data that the sample was drawn from a Gaussian distribution. Technically this is called the null hypothesis, or H0. A threshold level is chosen called alpha, typically 5% (or 0.05), that is used to interpret the p-value\n",
    "\n",
    "p<=alpha: reject H0, not normal.\n",
    "\n",
    "p>alpha: fail to reject H0, normal.\n",
    "\n",
    "we are seeking results with a larger p-value to confirm that our sample was likely drawn from a Gaussian distribution.\n",
    "\n",
    "A result above 5% DOESN'T MEAN that the null hypothesis is true. It means that it is very likely true given available evidence. The p-value is not the probability of the data fitting a Gaussian distribution\n",
    "\n",
    "P value and significance value is diff. significance value is value falls under confidance interval. If p value is less than\n",
    "significance value then we reject the null hypothesis."
   ]
  },
  {
   "cell_type": "markdown",
   "metadata": {},
   "source": [
    "Null hypothesis :- In inferential statistics, the null hypothesis is a general statement or default position that there is no relationship between two measured phenomena, or no association among groups. Whatever the default question is will be used as \n",
    "null hypothesis.\n",
    "\n",
    "Type I error: When we reject the null hypothesis, although that hypothesis was true. Type I error is denoted by alpha. In hypothesis testing, the normal curve that shows the critical region is called the alpha region. This is same as FN.\n",
    "\n",
    "Type II errors: When we accept the null hypothesis but it is false. Type II errors are denoted by beta. In Hypothesis testing, the normal curve that shows the acceptance region is called the beta region. This is same as FP.\n",
    "\n",
    "One tailed test :- A test of a statistical hypothesis , where the region of rejection is on only one side of the sampling distribution , is called a one-tailed test. It is just giving the diff between the mean of sample distribution and Population distribution. We can find the mean of population and compare with sample mean.                                  \n",
    "Example :- a college has ≥ 4000 student or data science ≤ 80% org adopted. from scipy.stats import ttest_1samp\n",
    "\n",
    "Two-tailed test :- A two-tailed test is a statistical test in which the critical area of a distribution is two-sided and tests whether a sample is greater than or less than a certain range of values. If the sample being tested falls into either of the critical areas, the alternative hypothesis is accepted instead of the null hypothesis.                  \n",
    "Example : a college != 4000 student or data science != 80% org adopted"
   ]
  },
  {
   "cell_type": "markdown",
   "metadata": {},
   "source": [
    "### Simple Example of Null Hyposthesis :- "
   ]
  },
  {
   "cell_type": "markdown",
   "metadata": {},
   "source": [
    "Example : you have a coin and you don’t know whether that is fair or tricky so let’s decide null and alternate hypothesis     \n",
    "H0 : a coin is a fair coin.             \n",
    "H1 : a coin is a tricky coin. and alpha = 5% or 0.05                   \n",
    "Now let’s toss the coin and calculate p- value ( probability value).                          \n",
    "Toss a coin 1st time and result is tail- P-value = 50% (as head and tail have equal probability)                          \n",
    "Toss a coin 2nd time and result is tail, now p-value = 50/2 = 25%                            \n",
    "and similarly we Toss 6 consecutive time and got result as P-value = 1.5% but we set our significance level as 95% means 5% error rate we allow and here we see we are beyond that level i.e. our null- hypothesis does not hold good so we need to reject and propose that this coin is a tricky coin which is actually."
   ]
  },
  {
   "cell_type": "code",
   "execution_count": 6,
   "metadata": {
    "scrolled": true
   },
   "outputs": [
    {
     "data": {
      "image/png": "[encoded data removed]",
      "text/plain": [
       "<Figure size 432x288 with 1 Axes>"
      ]
     },
     "metadata": {
      "needs_background": "light"
     },
     "output_type": "display_data"
    }
   ],
   "source": [
    "import numpy as np\n",
    "import matplotlib.pyplot as plt\n",
    "import seaborn as sns\n",
    "\n",
    "normal = np.random.standard_normal(1000) # Draw random samples from a normal (Gaussian) distribution.\n",
    "uniform = np.random.uniform(size=1000)\n",
    "log_normal = np.random.lognormal(size=1000)\n",
    "\n",
    "sns.distplot(log_normal); sns.distplot(normal);\n",
    "sns.distplot(uniform);"
   ]
  },
  {
   "cell_type": "markdown",
   "metadata": {},
   "source": [
    "# Statistical Hyposthesis Test :- "
   ]
  },
  {
   "cell_type": "markdown",
   "metadata": {},
   "source": [
    "### Normality Test"
   ]
  },
  {
   "cell_type": "markdown",
   "metadata": {},
   "source": [
    "statistical tests that you can use to check if your data has a Gaussian distribution. It is based on single feature.\n",
    "\n",
    "D’Agostino’s K^2 test -\n",
    "\n",
    "Interpretation\n",
    "\n",
    "H0: the sample has a Gaussian distribution.\n",
    "H1: the sample does not have a Gaussian distribution.\n",
    "\n",
    "Skew is a quantification of how much a distribution is pushed left or right, a measure of asymmetry in the distribution.      \n",
    "Kurtosis quantifies how much of the distribution is in the tail. It is a simple and commonly used statistical test for normality.\n",
    "\n",
    "from scipy.stats import normaltest           \n",
    "stat, p = normaltest(normal)                 \n",
    "stat1, p1 = normaltest(log_normal)                   \n",
    "\n",
    "print('Statistics', (stat,p), (stat1,p1)) # Statistics=0.829, p=0.661 - For normal , Statistics=787.383, p=0.000\n",
    "\n",
    "alpha = 0.05               \n",
    "if p > alpha:                 \n",
    "    print('Sample looks Gaussian (fail to reject H0)')              \n",
    "else:                 \n",
    "    print('Sample does not look Gaussian (reject H0)')                          \n",
    "    \n",
    "Visual Normality Checks - Through Histogram or distplot as above (sns.distplot(normal);) and fig = sm.qqplot(normal, line='s')\n"
   ]
  },
  {
   "cell_type": "markdown",
   "metadata": {},
   "source": [
    "### Corelation Test"
   ]
  },
  {
   "cell_type": "markdown",
   "metadata": {},
   "source": [
    "statistical tests that you can use to check if two samples are related.\n",
    "\n",
    "x = np.random.normal(0,1,1000)    \n",
    "y = (3 * x) - np.random.normal(0,2,1000)\n",
    "\n",
    "Pearson’s Correlation Coefficient - Tests whether two samples have a linear relationship. range is -1 to +1. formula is \n",
    "cov(x,y)/stdx * stdy\n",
    "\n",
    "H0: the two samples are independent.\n",
    "H1: there is a dependency between the samples.\n",
    "\n",
    "from scipy.stats import pearsonr\n",
    "\n",
    "corr, p = pearsonr(x, y)      \n",
    "corr, p (0.8207236708707059, 7.2042131600280555e-245)\n",
    "\n",
    "Spearman’s Rank Correlation - Tests whether two samples have a monotonic relationship. Observations in each sample can be ranked. Range is 0 to +1. formula is cov(x,y)/rankofx * rankofy. it captures non-linear properties.\n",
    "\n",
    "from scipy.stats import spearmanr     \n",
    "corr, p = spearmanr(x, y)      \n",
    "corr, p  ((0.8076902436902438, 3.2834508833351045e-231))"
   ]
  },
  {
   "cell_type": "markdown",
   "metadata": {},
   "source": [
    "### Chi-Squared Test"
   ]
  },
  {
   "cell_type": "markdown",
   "metadata": {},
   "source": [
    "Chi-Squared Test - Tests whether two categorical variables are related or independent. If you have one categorical feature then we have to apply one sample propotion test.\n",
    "\n",
    "Chi-Square Test- The test is applied when you have two categorical variables from a single population. It is used to determine whether there is a significant association between the two variables.\n",
    "For example, in an election survey, voters might be classified by gender (male or female) and voting preference (Democrat, Republican, or Independent). We could use a chi-square test for independence to determine whether gender is related to voting preference\n",
    "\n",
    "Assumptions\n",
    "\n",
    "Observations used in the calculation of the contingency table are independent.     \n",
    "25 or more examples in each cell of the contingency table.          \n",
    "Interpretation     \n",
    "H0: the two samples are independent.\n",
    "H1: there is a dependency between the samples.\n",
    "\n",
    "from scipy.stats import chi2_contingency                  \n",
    "table = [[10, 20, 30],[6,  9,  17]]          # Make one dataframe from crosstab function from two categorical feature.                \n",
    "stat, p, dof, expected = chi2_contingency(table)                     \n",
    "print('stat=%.3f, p=%.3f' % (stat, p))                    \n",
    "if p > 0.05:                  \n",
    "\tprint('Probably independent')              \n",
    "else:                  \n",
    "\tprint('Probably dependent')                  "
   ]
  },
  {
   "cell_type": "markdown",
   "metadata": {},
   "source": [
    "### P Value"
   ]
  },
  {
   "cell_type": "markdown",
   "metadata": {},
   "source": [
    "p-value for a statistical model is the probability that when the null hypothesis is true              \n",
    "The p-value can be thought of as the probability of observing the two data samples given the base assumption (null hypothesis) that the two samples were drawn from a population with the same distribution.\n",
    "\n",
    "p <= alpha: reject null hypothesis, different distribution.\n",
    "p > alpha: fail to reject null hypothesis, same distribution\n",
    "\n",
    "x1 = 3*np.random.randn(1000) + 20                       \n",
    "x2 = 3*np.random.randn(1000) + 21                           \n",
    "print('x1: mean=%.3f stdv=%.3f' % (np.mean(x1), np.std(x1)))                  \n",
    "print('x2: mean=%.3f stdv=%.3f' % (np.mean(x2), np.std(x2)))                 \n",
    "sns.distplot(x1);sns.distplot(x2);                         "
   ]
  },
  {
   "cell_type": "markdown",
   "metadata": {},
   "source": [
    "### Stationary Tests"
   ]
  },
  {
   "cell_type": "markdown",
   "metadata": {},
   "source": [
    "This section lists statistical tests that you can use to check if a time series is stationary or not.\n",
    "\n",
    "Augmented Dickey-Fuller Unit Root Test - Tests whether a time series has a unit root, e.g. has a trend or more generally is autoregressive.\n",
    "\n",
    "Assumptions     \n",
    "Observations in are temporally ordered.      \n",
    "Interpretation              \n",
    "H0: a unit root is present (series is non-stationary).           \n",
    "H1: a unit root is not present (series is stationary).            \n",
    "\n",
    "Example of the Augmented Dickey-Fuller unit root test                 \n",
    "from statsmodels.tsa.stattools import adfuller               \n",
    "data = [0, 1, 2, 3, 4, 5, 6, 7, 8, 9]                      \n",
    "stat, p, lags, obs, crit, t = adfuller(data)                  \n",
    "print('stat=%.3f, p=%.3f' % (stat, p))                 \n",
    "if p > 0.05:             \n",
    "\tprint('Probably not Stationary')                     \n",
    "else:                                  \n",
    "\tprint('Probably Stationary')                    "
   ]
  },
  {
   "cell_type": "markdown",
   "metadata": {},
   "source": [
    "### Parametric Statistical Hypothesis Tests\n",
    "\n",
    "https://www.youtube.com/watch?v=YrhlQB3mQFI&list=PLZoTAELRMXVPBTrWtJkn3wWQxZkmTXGwe&index=43 \n",
    "\n",
    "### one categorical feature - One sample proportion test. Two Categorical feature - Chi Square test\n",
    "### One numerical or two numerical test = t test and two categorical with more than 2 category and one numerical - Anova test"
   ]
  },
  {
   "cell_type": "markdown",
   "metadata": {},
   "source": [
    "Student’s t-test - It is for independent samples. Tests whether the means of two independent samples are significantly different. One of the most commonly used t tests is the independent samples t test. You use this test when you want to compare the means of two independent samples on a given variable\n",
    "\n",
    "We can use ttest when two numeric or continious variable or (one numeric and one binary categorical feature). Example Gender(binary only), Weight or Weight and Height. It is for two tailed test. One tailed test can be for one variable i.e numeric and Categorical.\n",
    "\n",
    "Assumptions                        \n",
    "Observations in each sample are independent and identically distributed (iid).            \n",
    "Observations in each sample are normally distributed.               \n",
    "Observations in each sample have the same variance.                 \n",
    "Interpretation                               \n",
    "\n",
    "H0: the means of the samples are equal.                  \n",
    "H1: the means of the samples are unequal.                \n",
    "    \n",
    "from scipy.stats import ttest_ind                        \n",
    "stat, p = ttest_ind(x1, x2)                         \n",
    "print('P value:', p)                      \n",
    "alpha = 0.05                            \n",
    "P value: 1.810726433096305e-13                 "
   ]
  },
  {
   "cell_type": "markdown",
   "metadata": {},
   "source": [
    "Paired Student’s t-test - It is for dependent samples\n",
    "Tests whether the means of two paired samples are significantly different. The paired Student’s t-test for quantifying the difference between the mean of two dependent data samples.\n",
    "\n",
    "When you want to check the mean of two different sample from same population distribution.\n",
    "\n",
    "Paired sampled t-test :- The paired sample t-test is also called dependent sample t-test. It’s an uni variate test that tests for a significant difference between 2 related variables. An example of this is if you where to collect the blood pressure for an individual before and after some treatment, condition, or time point.             \n",
    "H0 :- means difference between two sample is 0               \n",
    "H1:- mean difference between two sample is not 0\n",
    "\n",
    "Assumptions             \n",
    "Observations in each sample are independent and identically distributed (iid).                 \n",
    "Observations in each sample are normally distributed.                \n",
    "Observations in each sample have the same variance.                    \n",
    "Observations across each sample are paired.                     \n",
    "Interpretation\n",
    "\n",
    "H0: the means of the samples are equal.              \n",
    "H1: the means of the samples are unequal.\n",
    "    \n",
    "from scipy.stats import ttest_rel         \n",
    "stat, p = ttest_rel(x1, x2)                 \n",
    "print('P value:', p)                 \n",
    "alpha = 0.05            \n",
    "P value: 2.0798605083628403e-12\n",
    "Different distributions (reject H0)"
   ]
  },
  {
   "cell_type": "markdown",
   "metadata": {},
   "source": [
    "When you can run a Z Test - Your sample size is greater than 30 ans we know the mean and std. Otherwise, use a t test.\n",
    "\n",
    "import pandas as pd           \n",
    "from scipy import stats                                 \n",
    "from statsmodels.stats import weightstats as stests                       \n",
    "ztest ,pval = stests.ztest(df['bp_before'], x2=None, value=156)                    \n",
    "ztest ,pval1 = stests.ztest(df['bp_before'], x2=df['bp_after'], value=0,alternative='two-sided')"
   ]
  },
  {
   "cell_type": "markdown",
   "metadata": {},
   "source": [
    "Analysis of Variance Test (ANOVA) ¶\n",
    "Tests whether the means of two or more independent samples are significantly different. The ANOVA and repeated measures ANOVA for checking the similarity or difference between the means of 2 or more data samples. It will use when more than two categories and one or more numeric feature\n",
    "\n",
    "ANOVA (F-TEST) :- The t-test works well when dealing with two groups, but sometimes we want to compare more than two groups at the same time. For example, if we wanted to test whether voter age differs based on some categorical variable like race, we have to compare the means of each level or group the variable. We could carry out a separate t-test for each pair of groups, but when you conduct many tests you increase the chances of false positives. The analysis of variance or ANOVA is a statistical inference test that lets you compare multiple groups at the same time.\n",
    "\n",
    "F = Between group variability / Within group variability\n",
    "\n",
    "H0: the means of the samples are equal.\n",
    "H1: one or more of the means of the samples are unequal.\n",
    "\n",
    "It tell whether two or more groups are similar or not based on their mean similarity and f-score.\n",
    "Example : there are 3 different category of plant and their weight and need to check whether all 3 group are similar or not (code in python below)\n",
    "\n",
    "from scipy.stats import f_oneway                                \n",
    "df_anova = pd.read_csv('PlantGrowth.csv')                      \n",
    "df_anova = df_anova[['weight','group']]                    \n",
    "grps = pd.unique(df_anova.group.values)                   \n",
    "d_data = {grp:df_anova['weight'][df_anova.group == grp] for grp in grps}                \n",
    " \n",
    "F, p = f_oneway(d_data['ctrl'], d_data['trt1'], d_data['trt2'])              \n",
    "print(\"p-value for significance is: \", p)\n",
    "\n",
    "\n",
    "Two Way F-test :- Two way F-test is extension of 1-way f-test, it is used when we have 2 independent variable and 2+ groups. 2-way F-test does not tell which variable is dominant. if we need to check individual significance then Post-hoc testing need to be performed.\n",
    "\n",
    "import statsmodels.api as sm                 \n",
    "from statsmodels.formula.api import ols                           \n",
    "df_anova2 = pd.read_csv(\"https://raw.githubusercontent.com/Opensourcefordatascience/Data-sets/master/crop_yield.csv\")         \n",
    "model = ols('Yield ~ C(Fert)*C(Water)', df_anova2).fit()                         \n",
    "print(f\"Overall model F({model.df_model: .0f},{model.df_resid: .0f}) = {model.fvalue: .3f}, p = {model.f_pvalue: .4f}\")     \n",
    "res = sm.stats.anova_lm(model, typ= 2)              \n",
    "res\n"
   ]
  },
  {
   "cell_type": "code",
   "execution_count": null,
   "metadata": {},
   "outputs": [],
   "source": [
    "#https://medium.com/datadriveninvestor/a-quick-guide-to-hypothesis-testing-8c95205f2a1c\n",
    "#https://medium.com/codezillas/statistics-review-for-data-scientists-and-management-df8f94760221\n",
    "#https://medium.com/@ageitgey/machine-learning-is-fun-80ea3ec3c471 ---- very important\n",
    "#https://towardsdatascience.com/hypothesis-testing-in-machine-learning-using-python-a0dc89e169ce\n",
    "\n",
    "#In Hypothesis testing we make an assumption about the data and then perform investigation considering that our assumption is true\n",
    "#Now the observation we get from our investigation is used for validating our assumption.\n",
    "\n",
    "# It sounds confusing but please be patient everything will be clear as you go down.\n",
    "\n",
    "# Let me define some terms :\n",
    "# Null hypothesis(H0) : A null hypothesis is the assumption we made before performing any calculation and consider it to be “true”\n",
    "#initially.\n",
    "# Alternative hypothesis(H1) : An alternative hypothesis is simply opposite of null hypothesis if there is strong evidence against\n",
    "#null hypothesis then we move to alternative hypothesis.\n",
    "# P — Value : P-value is the probability for a given statistical model , when the null hypothesis is true. p-value is used as a \n",
    "#rejection point to provide the smallest level of significance at which the null hypothesis would be rejected.\n",
    "# Test Statistics : A value calculated from a sample or experiment. Test statistics can be any value like mean of a distribution,\n",
    "#frequency of observation or anything it provide evidence either in support or against of null hypothesis.\n"
   ]
  },
  {
   "cell_type": "code",
   "execution_count": 18,
   "metadata": {},
   "outputs": [],
   "source": [
    "#AUC and ROC curve - Relationship between sensivity(recall) and 1- specificity(-ve recall)\n",
    "#https://techgrabyte.com/10-machine-learning-algorithms-application/"
   ]
  },
  {
   "cell_type": "code",
   "execution_count": null,
   "metadata": {},
   "outputs": [],
   "source": [
    "#probability and P&C\n",
    "#Independent Events - P(A and B) = P(A) × P(B)\n",
    "#Conditional or dependent events -P(A and B) = P(A) x P(B|A) or P(B|A) = P(A and B) / P(A) -PB|A means probability of b after a.\n",
    "#70% of your friends like Chocolate, and 35% like Chocolate AND like Strawberry.\n",
    "#What percent of those who like Chocolate also like Strawberry?\n",
    "#P(Strawberry|Chocolate) = P(Chocolate and Strawberry) / P(Chocolate)\n",
    "#Mutually Exclusive events -P(A or B) = P(A) + P(B) coz P(A and B) is 0.\n",
    "#A card cannot be a King AND a Queen at the same time!\n",
    " \n",
    "#Dependent Events (such as removing marbles from a bag) are affected by previous events\n",
    "#Independent events (such as a coin toss) are not affected by previous events\n",
    "\n",
    "#Permutation and Combination \n",
    "#When the order doesn't matter, it is a Combination.\n",
    "#When the order does matter it is a Permutation.\n",
    "#Permutations -There are basically two types of permutation: 10P3\n",
    "#Repetition is Allowed: such as the lock above. It could be \"333\". - n × n × ... (r times) = nr\n",
    "#No Repetition: for example the first three people in a running race. You can't be first and second. n!/(n − r)!\n",
    "\n",
    "#Combinations without Repetition - n!/r!(n − r)!\n",
    "\n",
    "#Bayes Theorem - P(A|B) =\t P(A) P(B|A)/P(B) or P(Rain|Cloud) =  P(Rain) P(Cloud|Rain)/P(Cloud)"
   ]
  }
 ],
 "metadata": {
  "kernelspec": {
   "display_name": "Python 3",
   "language": "python",
   "name": "python3"
  },
  "language_info": {
   "codemirror_mode": {
    "name": "ipython",
    "version": 3
   },
   "file_extension": ".py",
   "mimetype": "text/x-python",
   "name": "python",
   "nbconvert_exporter": "python",
   "pygments_lexer": "ipython3",
   "version": "3.8.5"
  }
 },
 "nbformat": 4,
 "nbformat_minor": 2
}
