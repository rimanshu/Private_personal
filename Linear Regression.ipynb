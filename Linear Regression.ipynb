{
 "cells": [
  {
   "cell_type": "markdown",
   "metadata": {},
   "source": [
    "# Linear regression "
   ]
  },
  {
   "cell_type": "markdown",
   "metadata": {},
   "source": [
    "https://www.analyticsvidhya.com/blog/2017/06/a-comprehensive-guide-for-linear-ridge-and-lasso-regression/\n",
    "\n",
    "https://towardsdatascience.com/linear-regression-simplified-ordinary-least-square-vs-gradient-descent-48145de2cf76\n",
    "\n",
    "Projects - \n",
    "\n",
    "https://github.com/rimanshu/udacity/blob/master/MLND/boston_housing/boston_housing.ipynb\n",
    "    \n",
    "https://github.com/rimanshu/regression-python"
   ]
  },
  {
   "cell_type": "code",
   "execution_count": null,
   "metadata": {},
   "outputs": [],
   "source": [
    "# Price = m*area + c\n",
    "# y=mx+c---- m is slope, gradient and coefficient and c is intrecept c = (y1-y2)/(x1-x2)\n",
    "#https://www.mathsisfun.com/algebra/index.html\n",
    "\n",
    "#https://medium.com/@jyotiyadav99111/statistics-how-should-i-interpret-results-of-ols-3bde1ebeec01\n",
    "\n",
    "#Regression is divided into three parts linear, multiple, polynomial regression\n",
    "\n",
    "##### Linear regression is a stastical model which predicts the relationship between independent & dependent variable.\n",
    "\n",
    "#Example - Based on the rainfall this year how much crop will be yield this year. rainfall is independent variable(features) and \n",
    "#crop is dependent variable\n",
    "# data could be numerical and categorical i.e Numerical data is age, salary, height or range of any numbers\n",
    "#etc and categorical data is gender,color, dog bread.\n",
    "### More example of lm is economic growth, product price, housing sales, score predictions,\n",
    "\n",
    "##### Multiple linear regression example is rainfall, food given to crop, harvesting etc to predict the crop yeild.\n",
    "#one or more independent variable in case of multiple linear regression. y =x1m1+x2m2 ..... +c\n",
    "\n",
    "##### In polynomial linear regression we will draw the curve line instead of stright line\n",
    "\n",
    "## There is lot of ways to minimizing the distance between the line and data points like sum of squared errors, sum of absolute error\n",
    "# and root mean square error\n"
   ]
  },
  {
   "cell_type": "markdown",
   "metadata": {},
   "source": [
    "Best fit line is line from which your error between the actual data points and observed data points would be minimum. \n",
    "Error is called Mean sqauared error. Process to find out the mean sqaured error is called gredient decent. \n",
    "Gredient decent algorithm is algorithms to find out the best fit line for a given training dataset.\n",
    "\n",
    "MSE = SSE/n = E(Ya-Yp)^2/n\n",
    "\n",
    "Sum of residuals (∑(Y – h(X)))\n",
    "Sum of the absolute value of residuals (∑|Y-h(X)|)\n",
    "Sum of square of residuals ( ∑ (Y-h(X))2) \n"
   ]
  },
  {
   "cell_type": "markdown",
   "metadata": {},
   "source": [
    "Polynimial Regression - \n",
    "\n",
    "Polynomial regression is another form of regression in which the maximum power of the independent variable is more than 1. \n",
    "In this regression technique, the best fit line is not a straight line instead it is in the form of a curve.\n",
    "\n",
    "Clearly the quadratic equation fits the data better than simple linear equation. In this case, what do you think will the \n",
    "R-square value of quadratic regression greater than simple linear regression? Definitely yes, because quadratic regression\n",
    "fits the data better than linear regression\n",
    "\n",
    "we cannt be use Polynomial or higher degree to get better result coz it will have over fitting and underfitting problem.\n",
    "\n",
    "By removing overfitting and underfitting problem we use regularization technique like Ridge, lassso and Elastic.\n",
    "\n",
    "In regularization, what we do is normally we keep the same number of features, but reduce the magnitude of the coefficients\n",
    "\n",
    "Regularization means reduce the magnitude or value of Coeficient so that it will reduce the high variance from model.\n",
    "\n"
   ]
  },
  {
   "cell_type": "markdown",
   "metadata": {},
   "source": [
    "from sklearn.linear_model import Ridge\n",
    "\n",
    "training the model\n",
    "\n",
    "ridgeReg = Ridge(alpha=0.05, normalize=True)\n",
    "Alpha is hyperparameter of Ridge so we can increase the value to reduce the coeficient of features. \n",
    "By this we can improve R squared value.\n",
    "\n",
    "It shrinks the parameters, therefore it is mostly used to prevent multicollinearity.\n",
    "It reduces the model complexity by coefficient shrinkage.\n",
    "It uses L2 regularization technique. (which I will discussed later in this article)"
   ]
  },
  {
   "cell_type": "markdown",
   "metadata": {},
   "source": [
    "Lasso regression -\n",
    "\n",
    "from sklearn.linear_model import Lasso\n",
    "\n",
    "lassoReg = Lasso(alpha=0.3, normalize=True)\n",
    "\n",
    "It will do feature selection and find higher magnitude feature and reduce magnitude of coeficient and rest functionality \n",
    "will be same.\n",
    "\n",
    "We can see that as we increased the value of alpha, coefficients were approaching towards zero, \n",
    "but if you see in case of lasso, even at smaller alpha’s, our coefficients are reducing to absolute zeroes. \n",
    "Therefore, lasso selects the only some feature while reduces the coefficients of others to zero. \n",
    "This property is known as feature selection and which is absent in case of ridge.\n",
    "\n",
    "It is generally used when we have more number of features, because it automatically does feature selection."
   ]
  },
  {
   "cell_type": "markdown",
   "metadata": {},
   "source": [
    "If we apply ridge regression to it, it will retain all of the features but will shrink the coefficients. \n",
    "But the problem is that model will still remain complex as there are 10,000 features, thus may lead to poor model performance.\n",
    "\n",
    "The main problem with lasso regression is when we have correlated variables, it retains only one variable and sets other \n",
    "correlated variables to zero. That will possibly lead to some loss of information resulting in lower accuracy in our model."
   ]
  },
  {
   "cell_type": "markdown",
   "metadata": {},
   "source": [
    "from sklearn.linear_model import ElasticNet\n",
    "\n",
    "ENreg = ElasticNet(alpha=1, l1_ratio=0.5, normalize=False)\n",
    "\n",
    "we get the value of R-Square, which is very less than both ridge and lasso because we dont have large dataset.\n",
    "\n",
    "Elastic net is basically a combination of both L1 and L2 regularization. So if you know elastic net, you can implement \n",
    "both Ridge and Lasso by tuning the parameters. So it uses both L1 and L2 penality term.\n",
    "\n"
   ]
  },
  {
   "cell_type": "markdown",
   "metadata": {},
   "source": [
    "R squared is same as we got score or confidence score in linear regression model.\n",
    "\n",
    "yhat = model.predict(X)\n",
    "SS_Residual = sum((y-yhat)**2)       \n",
    "SS_Total = sum((y-np.mean(y))**2)     \n",
    "r_squared = 1 - (float(SS_Residual))/SS_Total\n",
    "adjusted_r_squared = 1 - (1-r_squared)*(len(y)-1)/(len(y)-X.shape[1]-1)\n",
    "\n",
    "Adjusted R2 = 1- (1-R2)(N-1)/N-p-1\n",
    "\n",
    "where\n",
    "\n",
    "R2 = Sample R square\n",
    "\n",
    "p = Number of predictors\n",
    "\n",
    "N = total sample size"
   ]
  },
  {
   "cell_type": "markdown",
   "metadata": {},
   "source": [
    "Nominal variable use One-hot or dummy variable concept and will be used by non tree theorems while Ordinal variables uses \n",
    "label encoder and use tree based algoridthms.\n",
    "\n",
    "Nominal and ordinal variables are types of categorical variables, and there can be any number of categories the values can \n",
    "belong to. In terms of ordinal variables, it is assumed that there is some order to the variables, or that the variables \n",
    "should have different weights. Therefore, the categorical variables can be converted into continuous values by assigning \n",
    "them numbers starting at zero and running until the length of the categories.\n",
    "\n",
    "Converting nominal variables into continuous variables is the most challenging task out of all three types of conversion. \n",
    "This is because nominal variables should not have a different weight or order attached to them, it is presumed that all \n",
    "categorical variables have equivalent \"values\". This means that you cannot simply order them from zero to the number of \n",
    "categories as this would imply that the earlier categories have less \"value\" than later categories."
   ]
  },
  {
   "cell_type": "code",
   "execution_count": null,
   "metadata": {},
   "outputs": [],
   "source": [
    "OLS - ordinary least squared \n",
    "\n",
    "import statsmodels.api as sm\n",
    "\n",
    "# separate our my predictor variables (X) from my outcome variable y\n",
    "X = df2[predictors]\n",
    "y = df2['meantempm']\n",
    "\n",
    "# Add a constant to the predictor variable set to represent the Bo intercept\n",
    "X = sm.add_constant(X)\n",
    "X.ix[:5, :5]\n",
    "\n",
    "alpha = 0.05\n",
    "\n",
    "# (2) Fit the model\n",
    "model = sm.OLS(y, X).fit()\n",
    "\n",
    "# (3) evaluate the coefficients' p-values\n",
    "model.summary()"
   ]
  },
  {
   "cell_type": "code",
   "execution_count": 11,
   "metadata": {},
   "outputs": [
    {
     "data": {
      "text/html": [
       "<div>\n",
       "<style scoped>\n",
       "    .dataframe tbody tr th:only-of-type {\n",
       "        vertical-align: middle;\n",
       "    }\n",
       "\n",
       "    .dataframe tbody tr th {\n",
       "        vertical-align: top;\n",
       "    }\n",
       "\n",
       "    .dataframe thead th {\n",
       "        text-align: right;\n",
       "    }\n",
       "</style>\n",
       "<table border=\"1\" class=\"dataframe\">\n",
       "  <thead>\n",
       "    <tr style=\"text-align: right;\">\n",
       "      <th></th>\n",
       "      <th>area</th>\n",
       "      <th>price</th>\n",
       "    </tr>\n",
       "  </thead>\n",
       "  <tbody>\n",
       "    <tr>\n",
       "      <th>0</th>\n",
       "      <td>2600</td>\n",
       "      <td>550000</td>\n",
       "    </tr>\n",
       "    <tr>\n",
       "      <th>1</th>\n",
       "      <td>3000</td>\n",
       "      <td>565000</td>\n",
       "    </tr>\n",
       "    <tr>\n",
       "      <th>2</th>\n",
       "      <td>3200</td>\n",
       "      <td>610000</td>\n",
       "    </tr>\n",
       "    <tr>\n",
       "      <th>3</th>\n",
       "      <td>3600</td>\n",
       "      <td>680000</td>\n",
       "    </tr>\n",
       "    <tr>\n",
       "      <th>4</th>\n",
       "      <td>4000</td>\n",
       "      <td>725000</td>\n",
       "    </tr>\n",
       "  </tbody>\n",
       "</table>\n",
       "</div>"
      ],
      "text/plain": [
       "   area   price\n",
       "0  2600  550000\n",
       "1  3000  565000\n",
       "2  3200  610000\n",
       "3  3600  680000\n",
       "4  4000  725000"
      ]
     },
     "execution_count": 11,
     "metadata": {},
     "output_type": "execute_result"
    }
   ],
   "source": [
    "import pandas as pd\n",
    "import numpy as np\n",
    "from sklearn import linear_model\n",
    "import matplotlib.pyplot as plt\n",
    "\n",
    "df = pd.read_csv(\"D://Work//Python//py_master//ML//1_linear_reg//homeprices.csv\")\n",
    "df"
   ]
  },
  {
   "cell_type": "code",
   "execution_count": 18,
   "metadata": {},
   "outputs": [
    {
     "data": {
      "text/plain": [
       "<matplotlib.collections.PathCollection at 0xf6bee0c160>"
      ]
     },
     "execution_count": 18,
     "metadata": {},
     "output_type": "execute_result"
    },
    {
     "data": {
      "image/png": "[encoded data removed]",
      "text/plain": [
       "<Figure size 432x288 with 1 Axes>"
      ]
     },
     "metadata": {
      "needs_background": "light"
     },
     "output_type": "display_data"
    }
   ],
   "source": [
    "%matplotlib inline\n",
    "plt.xlabel('area(sqr ft)')\n",
    "plt.ylabel('price(US$)')\n",
    "plt.scatter(df.area, df.price, color ='red')"
   ]
  },
  {
   "cell_type": "code",
   "execution_count": 19,
   "metadata": {},
   "outputs": [
    {
     "data": {
      "text/plain": [
       "180616.43835616432"
      ]
     },
     "execution_count": 19,
     "metadata": {},
     "output_type": "execute_result"
    }
   ],
   "source": [
    "# Create linear regression object. We will use whole datset to train the model.\n",
    "reg = linear_model.LinearRegression()\n",
    "reg.fit(df[['area']],df.price)  #It means fitting the model though given data or data points. We dont need to train model everytime\n",
    "\n",
    "reg.predict(3300) # 180616.43835616432. We had used the [['area']] coz we will have to give input as integer\n",
    "reg.coef_ #array([135.78767123])\n",
    "reg.intercept_ #180616.43835616432\n",
    "reg.score(X,Y) # To find out how much accurate your model is.\n",
    "#y=m*x+c you can calculate the values from here\n"
   ]
  },
  {
   "cell_type": "code",
   "execution_count": 28,
   "metadata": {},
   "outputs": [],
   "source": [
    "d = pd.read_csv(\"D://Work//Python//py_master//ML//1_linear_reg//areas.csv\")\n",
    "d\n",
    "p=reg.predict(d)  # Predict will take two dimentional array as per my understanding so we defined df.['area'] above\n",
    "p\n",
    "d['Prices']=p # to make a new column in current dataset of area.\n",
    "d\n",
    "d.to_csv(\"D://Work//Python//Prediction_areas.csv\",index=False)"
   ]
  },
  {
   "cell_type": "code",
   "execution_count": 37,
   "metadata": {},
   "outputs": [
    {
     "data": {
      "text/plain": [
       "[<matplotlib.lines.Line2D at 0xf6bee53828>]"
      ]
     },
     "execution_count": 37,
     "metadata": {},
     "output_type": "execute_result"
    },
    {
     "data": {
      "image/png": "[encoded data removed]",
      "text/plain": [
       "<Figure size 432x288 with 1 Axes>"
      ]
     },
     "metadata": {
      "needs_background": "light"
     },
     "output_type": "display_data"
    }
   ],
   "source": [
    "# Area prediction with staight line\n",
    "\n",
    "%matplotlib inline\n",
    "plt.xlabel('area(sqr ft)')\n",
    "plt.ylabel('price(US$)')\n",
    "plt.scatter(df.area, df.price, color ='red')\n",
    "plt.tight_layout()\n",
    "plt.plot(df.area,reg.predict(df[['area']]), color ='blue')"
   ]
  },
  {
   "cell_type": "code",
   "execution_count": null,
   "metadata": {},
   "outputs": [],
   "source": [
    "#Exercise to predict the income in 2020\n",
    "import pandas as pd\n",
    "import numpy as np\n",
    "from sklearn import linear_model\n",
    "import matplotlib.pyplot as plt\n",
    "\n",
    "df = pd.read_csv(\"D://Work//Python//py_master//ML//1_linear_reg//Exercise//canada_per_capita_income.csv\")\n",
    "df.columns\n",
    "df.rename(columns={'per capita income (US$)':'income'},inplace=True) #Rename column name\n",
    "\n",
    "df.describe() # to get the summary of dataframe\n",
    "df.describe().T # for transpose the df or change the rows and columns\n",
    "#df.describe().transpose()\n",
    "\n",
    "reg=linear_model.LinearRegression()\n",
    "reg.fit(df[['year']],df.income)\n",
    "p=reg.predict([[2020]])\n",
    "p"
   ]
  },
  {
   "cell_type": "markdown",
   "metadata": {},
   "source": [
    "# Multiple Linear Regression"
   ]
  },
  {
   "cell_type": "code",
   "execution_count": 44,
   "metadata": {},
   "outputs": [
    {
     "data": {
      "text/html": [
       "<div>\n",
       "<style scoped>\n",
       "    .dataframe tbody tr th:only-of-type {\n",
       "        vertical-align: middle;\n",
       "    }\n",
       "\n",
       "    .dataframe tbody tr th {\n",
       "        vertical-align: top;\n",
       "    }\n",
       "\n",
       "    .dataframe thead th {\n",
       "        text-align: right;\n",
       "    }\n",
       "</style>\n",
       "<table border=\"1\" class=\"dataframe\">\n",
       "  <thead>\n",
       "    <tr style=\"text-align: right;\">\n",
       "      <th></th>\n",
       "      <th>area</th>\n",
       "      <th>bedrooms</th>\n",
       "      <th>age</th>\n",
       "      <th>price</th>\n",
       "    </tr>\n",
       "  </thead>\n",
       "  <tbody>\n",
       "    <tr>\n",
       "      <th>0</th>\n",
       "      <td>2600</td>\n",
       "      <td>3.0</td>\n",
       "      <td>20</td>\n",
       "      <td>550000</td>\n",
       "    </tr>\n",
       "    <tr>\n",
       "      <th>1</th>\n",
       "      <td>3000</td>\n",
       "      <td>4.0</td>\n",
       "      <td>15</td>\n",
       "      <td>565000</td>\n",
       "    </tr>\n",
       "    <tr>\n",
       "      <th>2</th>\n",
       "      <td>3200</td>\n",
       "      <td>NaN</td>\n",
       "      <td>18</td>\n",
       "      <td>610000</td>\n",
       "    </tr>\n",
       "    <tr>\n",
       "      <th>3</th>\n",
       "      <td>3600</td>\n",
       "      <td>3.0</td>\n",
       "      <td>30</td>\n",
       "      <td>595000</td>\n",
       "    </tr>\n",
       "    <tr>\n",
       "      <th>4</th>\n",
       "      <td>4000</td>\n",
       "      <td>5.0</td>\n",
       "      <td>8</td>\n",
       "      <td>760000</td>\n",
       "    </tr>\n",
       "    <tr>\n",
       "      <th>5</th>\n",
       "      <td>4100</td>\n",
       "      <td>6.0</td>\n",
       "      <td>8</td>\n",
       "      <td>810000</td>\n",
       "    </tr>\n",
       "  </tbody>\n",
       "</table>\n",
       "</div>"
      ],
      "text/plain": [
       "   area  bedrooms  age   price\n",
       "0  2600       3.0   20  550000\n",
       "1  3000       4.0   15  565000\n",
       "2  3200       NaN   18  610000\n",
       "3  3600       3.0   30  595000\n",
       "4  4000       5.0    8  760000\n",
       "5  4100       6.0    8  810000"
      ]
     },
     "execution_count": 44,
     "metadata": {},
     "output_type": "execute_result"
    }
   ],
   "source": [
    "import pandas as pd\n",
    "import numpy as np\n",
    "from sklearn import linear_model\n",
    "import matplotlib.pyplot as plt\n",
    "\n",
    "df = pd.read_csv(\"D://Work//Python//py_master//ML//2_linear_reg_multivariate//homeprices.csv\")\n",
    "df"
   ]
  },
  {
   "cell_type": "code",
   "execution_count": 50,
   "metadata": {},
   "outputs": [
    {
     "data": {
      "text/html": [
       "<div>\n",
       "<style scoped>\n",
       "    .dataframe tbody tr th:only-of-type {\n",
       "        vertical-align: middle;\n",
       "    }\n",
       "\n",
       "    .dataframe tbody tr th {\n",
       "        vertical-align: top;\n",
       "    }\n",
       "\n",
       "    .dataframe thead th {\n",
       "        text-align: right;\n",
       "    }\n",
       "</style>\n",
       "<table border=\"1\" class=\"dataframe\">\n",
       "  <thead>\n",
       "    <tr style=\"text-align: right;\">\n",
       "      <th></th>\n",
       "      <th>area</th>\n",
       "      <th>bedrooms</th>\n",
       "      <th>age</th>\n",
       "      <th>price</th>\n",
       "    </tr>\n",
       "  </thead>\n",
       "  <tbody>\n",
       "    <tr>\n",
       "      <th>0</th>\n",
       "      <td>2600</td>\n",
       "      <td>3.0</td>\n",
       "      <td>20</td>\n",
       "      <td>550000</td>\n",
       "    </tr>\n",
       "    <tr>\n",
       "      <th>1</th>\n",
       "      <td>3000</td>\n",
       "      <td>4.0</td>\n",
       "      <td>15</td>\n",
       "      <td>565000</td>\n",
       "    </tr>\n",
       "    <tr>\n",
       "      <th>2</th>\n",
       "      <td>3200</td>\n",
       "      <td>4.0</td>\n",
       "      <td>18</td>\n",
       "      <td>610000</td>\n",
       "    </tr>\n",
       "    <tr>\n",
       "      <th>3</th>\n",
       "      <td>3600</td>\n",
       "      <td>3.0</td>\n",
       "      <td>30</td>\n",
       "      <td>595000</td>\n",
       "    </tr>\n",
       "    <tr>\n",
       "      <th>4</th>\n",
       "      <td>4000</td>\n",
       "      <td>5.0</td>\n",
       "      <td>8</td>\n",
       "      <td>760000</td>\n",
       "    </tr>\n",
       "    <tr>\n",
       "      <th>5</th>\n",
       "      <td>4100</td>\n",
       "      <td>6.0</td>\n",
       "      <td>8</td>\n",
       "      <td>810000</td>\n",
       "    </tr>\n",
       "  </tbody>\n",
       "</table>\n",
       "</div>"
      ],
      "text/plain": [
       "   area  bedrooms  age   price\n",
       "0  2600       3.0   20  550000\n",
       "1  3000       4.0   15  565000\n",
       "2  3200       4.0   18  610000\n",
       "3  3600       3.0   30  595000\n",
       "4  4000       5.0    8  760000\n",
       "5  4100       6.0    8  810000"
      ]
     },
     "execution_count": 50,
     "metadata": {},
     "output_type": "execute_result"
    }
   ],
   "source": [
    "import math\n",
    "median_bedrooms=math.floor(df.bedrooms.median()) # To make a integer\n",
    "median_bedrooms\n",
    "\n",
    "df.bedrooms.fillna(median_bedrooms,inplace=True) # To fill the na value from median\n",
    "df"
   ]
  },
  {
   "cell_type": "code",
   "execution_count": 59,
   "metadata": {},
   "outputs": [
    {
     "data": {
      "text/plain": [
       "array([498408.25158031])"
      ]
     },
     "execution_count": 59,
     "metadata": {},
     "output_type": "execute_result"
    }
   ],
   "source": [
    "# Create a linear regression model\n",
    "reg=linear_model.LinearRegression()\n",
    "reg.fit(df[['area','bedrooms','age']],df.price)\n",
    "\n",
    "reg.coef_ # Slope or m values\n",
    "reg.intercept_\n",
    "reg.predict([[3000,3,40]])  #array([498408.25158031]) and price varies according to age"
   ]
  },
  {
   "cell_type": "code",
   "execution_count": 15,
   "metadata": {},
   "outputs": [
    {
     "data": {
      "text/plain": [
       "array([93747.79628651])"
      ]
     },
     "execution_count": 15,
     "metadata": {},
     "output_type": "execute_result"
    }
   ],
   "source": [
    "#Exercise to predict the salary based on experience\n",
    "import pandas as pd\n",
    "import numpy as np\n",
    "from sklearn import linear_model\n",
    "import matplotlib.pyplot as plt\n",
    "from word2number import w2n\n",
    "import math\n",
    "\n",
    "df=pd.read_csv(\"D://Work//Python//py_master//ML//2_linear_reg_multivariate//Exercise//hiring.csv\")\n",
    "df\n",
    "\n",
    "df.experience=df.experience.fillna(\"zero\") #Convert nan into zeros\n",
    "df\n",
    "\n",
    "df.experience=df.experience.apply(w2n.word_to_num)  # Convert word to number through w2n package\n",
    "df\n",
    "\n",
    "df.rename(columns={'test_score(out of 10)':'test_score', 'interview_score(out of 10)':'interview_score', 'salary($)':'salary'},inplace=True)\n",
    "df # Rename of columns\n",
    "\n",
    "median_test_score = math.floor(df['test_score'].mean())\n",
    "median_test_score\n",
    "\n",
    "df.test_score.fillna(median_test_score,inplace=True)\n",
    "df\n",
    "\n",
    "reg=linear_model.LinearRegression()\n",
    "reg.fit(df[['experience','test_score','interview_score']],df.salary)\n",
    "\n",
    "reg.predict([[2,9,6]])\n",
    "reg.predict([[12,10,10]])"
   ]
  },
  {
   "cell_type": "code",
   "execution_count": 66,
   "metadata": {
    "scrolled": true
   },
   "outputs": [
    {
     "name": "stdout",
     "output_type": "stream",
     "text": [
      "Requirement already satisfied: word2number in c:\\users\\rimanshu\\anaconda3\\lib\\site-packages (1.1)\n"
     ]
    },
    {
     "name": "stderr",
     "output_type": "stream",
     "text": [
      "twisted 18.7.0 requires PyHamcrest>=1.9.0, which is not installed.\n",
      "You are using pip version 10.0.1, however version 18.1 is available.\n",
      "You should consider upgrading via the 'python -m pip install --upgrade pip' command.\n"
     ]
    }
   ],
   "source": [
    "import sys\n",
    "!{sys.executable} -m pip install pickel\n",
    "#pip install word2number\n",
    "#from word2number import w2n   ---- for spyder"
   ]
  },
  {
   "cell_type": "code",
   "execution_count": 20,
   "metadata": {},
   "outputs": [
    {
     "data": {
      "text/plain": [
       "array([93747.79628651])"
      ]
     },
     "execution_count": 20,
     "metadata": {},
     "output_type": "execute_result"
    }
   ],
   "source": [
    "# Using pickel or saving the model for future\n",
    "\n",
    "#Hi there fellas. In this post i am going to tell you about pickle. It is used for serializing and de-serializing a Python object\n",
    "#structure. Any object in python can be pickled so that it can be saved on disk. What pickle does is that it “serialises” the \n",
    "#object first before writing it to file. Pickling is a way to convert a python object (list, dict, etc.) into a character stream.\n",
    "#The idea is that this character stream contains all the information necessary to reconstruct the object in another python script.\n",
    "\n",
    "#Save the model for further reference\n",
    "import pickle\n",
    "with open('D://Work//Python//py_master//ML//model_pickel','wb') as file:\n",
    "    pickle.dump(reg,file)\n",
    "\n",
    "#Load saved model\n",
    "with open('D://Work//Python//py_master//ML//model_pickel','rb') as file:\n",
    "    mp=pickle.load(file)\n",
    "    \n",
    "mp.predict([[12,10,10]]) # same prediction as earlier\n",
    "\n",
    "# Same work in sklearn joblib and it will used for large numpy array and more efficient in that case\n",
    "#from sklearn.externals import joblib\n",
    "#joblib.dump(reg,file)\n",
    "#mp=joblib.load(file)"
   ]
  },
  {
   "cell_type": "code",
   "execution_count": 23,
   "metadata": {},
   "outputs": [
    {
     "data": {
      "text/plain": [
       "0.9573929037221873"
      ]
     },
     "execution_count": 23,
     "metadata": {},
     "output_type": "execute_result"
    }
   ],
   "source": [
    "# Categorical variable, Dummy Variable and one hot coding\n",
    "# Categorical variable is of two types one is nominal and other is ordinal variable.\n",
    "#Nominal varible doesn't have any relationship or ordering. ex - M and F, red, blue, green.\n",
    "#Ordinal variable does have relationship and ordering like high, medium, low  gradiate, master, phd,  satisfied, nutral, dissatisfied\n",
    "\n",
    "# When we have text in any column or we have string as any column datatype then we will not use direct numbering as explained above\n",
    "# we will use One hot encoding method\n",
    "\n",
    "import pandas as pd\n",
    "df = pd.read_csv(\"D://Work//Python//py_master//ML//5_one_hot_encoding//homeprices.csv\")\n",
    "df\n",
    "\n",
    "dummies=pd.get_dummies(df.town)  # To create dummies variable\n",
    "dummies\n",
    "\n",
    "merged=pd.concat([df,dummies], axis='columns') # Need to define how we are joining and concat both datasets\n",
    "merged\n",
    "\n",
    "# We have to drop the town text column and then will have to drop the one of dummy variables coz of dummy varaible trap \n",
    "#or multicolinear issue which will messup the ML model. When one varaible is drived from other varaibles then it is said to be \n",
    "#Multicolinear variable. So thumb rule is drop one of the dummy varaible.\n",
    "\n",
    "final=merged.drop(['town','west windsor'],axis='columns')\n",
    "final # Now df looks good. If you use LR model then it will drop automatically but drop by own is good practice.\n",
    "\n",
    "#Create LR model\n",
    "from sklearn.linear_model import LinearRegression\n",
    "model=LinearRegression()\n",
    "\n",
    "X=final.drop('price', axis='columns') # to make x and y to put into model\n",
    "X\n",
    "\n",
    "Y=final.price\n",
    "Y\n",
    "\n",
    "model.fit(X,Y)\n",
    "\n",
    "model.predict([[2800,0,1]])\n",
    "\n",
    "model.score(X,Y) # To find out how much accurate your model is."
   ]
  },
  {
   "cell_type": "code",
   "execution_count": 29,
   "metadata": {},
   "outputs": [
    {
     "data": {
      "text/plain": [
       "LinearRegression(copy_X=True, fit_intercept=True, n_jobs=1, normalize=False)"
      ]
     },
     "execution_count": 29,
     "metadata": {},
     "output_type": "execute_result"
    }
   ],
   "source": [
    "# Second Method to create dummy varaibles\n",
    "# sklearn one hot encoder substitute to work with dummy variables. ITS JUST ANOTHER WAY OF DEALING WITH DUMMY VARIABLES. \n",
    "\n",
    "import pandas as pd\n",
    "import numpy as np\n",
    "df = pd.read_csv(\"D://Work//Python//py_master//ML//5_one_hot_encoding//homeprices.csv\")\n",
    "df\n",
    "from sklearn.preprocessing import LabelEncoder\n",
    "le=LabelEncoder()\n",
    "\n",
    "dfle=df # make new dataframe\n",
    "dfle.town=le.fit_transform(dfle.town)\n",
    "\n",
    "X=df[['town','area']].values # I want 2d array not dataframe\n",
    "Y=df.price\n",
    "\n",
    "from sklearn.preprocessing import OneHotEncoder\n",
    "ohe=OneHotEncoder(categorical_features=[0]) # Means first column otherwise it will take whole X as categorical\n",
    "X=ohe.fit_transform(X).toarray()\n",
    "X[:,1:] # Drop 1st column\n",
    "\n",
    "model.fit(X,Y)\n",
    "#model.predict([[1,0,2800]])"
   ]
  },
  {
   "cell_type": "code",
   "execution_count": 10,
   "metadata": {},
   "outputs": [
    {
     "data": {
      "text/plain": [
       "<matplotlib.collections.PathCollection at 0x2c8b0eab00>"
      ]
     },
     "execution_count": 10,
     "metadata": {},
     "output_type": "execute_result"
    },
    {
     "data": {
      "image/png": "[encoded data removed]",
      "text/plain": [
       "<Figure size 432x288 with 1 Axes>"
      ]
     },
     "metadata": {
      "needs_background": "light"
     },
     "output_type": "display_data"
    }
   ],
   "source": [
    "# Train and test the model by ratio of 80% : 20%\n",
    "import pandas as pd\n",
    "import numpy as np\n",
    "import matplotlib.pyplot as plt\n",
    "%matplotlib inline\n",
    "\n",
    "df=pd.read_csv(\"D://Work//Python//py_master//ML//6_train_test_split//carprices.csv\")\n",
    "df # \tMileage\tAge(yrs)\tSell Price($)\n",
    "\n",
    "plt.scatter(df['Mileage'], df['Sell Price($)'])\n",
    "plt.scatter(df['Age(yrs)'], df['Sell Price($)'])"
   ]
  },
  {
   "cell_type": "code",
   "execution_count": 28,
   "metadata": {},
   "outputs": [
    {
     "data": {
      "text/plain": [
       "7     19300\n",
       "10    18700\n",
       "5     26750\n",
       "6     32000\n",
       "Name: Sell Price($), dtype: int64"
      ]
     },
     "execution_count": 28,
     "metadata": {},
     "output_type": "execute_result"
    }
   ],
   "source": [
    "X=df[['Mileage','Age(yrs)']]\n",
    "Y=df['Sell Price($)']\n",
    "\n",
    "from sklearn.model_selection import train_test_split\n",
    "from sklearn.linear_model import LinearRegression\n",
    "X_train, X_test, Y_train, Y_test = train_test_split(X,Y,test_size=0.2, random_state=10)\n",
    "len(X) #20\n",
    "len(X_train)#16\n",
    "len(X_test) #4\n",
    "X_train # Without random Variable it will produce diff random samples for thats why we used random_state parameter\n",
    "\n",
    "clf=LinearRegression()\n",
    "clf.fit(X_train,Y_train)\n",
    "clf.predict(X_test) #array([20474.0745775 , 16352.07892168, 25174.14834912, 27197.42175439])\n",
    "clf.score(X_test,Y_test) # 0.7332339593090138\n",
    "Y_test \n"
   ]
  },
  {
   "cell_type": "code",
   "execution_count": 35,
   "metadata": {},
   "outputs": [
    {
     "data": {
      "text/plain": [
       "0.7332339593090138"
      ]
     },
     "execution_count": 35,
     "metadata": {},
     "output_type": "execute_result"
    }
   ],
   "source": [
    "clf.score(X_test,Y_test)"
   ]
  },
  {
   "cell_type": "code",
   "execution_count": null,
   "metadata": {},
   "outputs": [],
   "source": [
    "# Calculating RMSE¶\n",
    "# RMSE calculate the difference between the actual value and predicted value of the response variable\n",
    "# The square root of the mean/average of the square of all of the error.\n",
    "# Compared to the similar Mean Absolute Error, RMSE amplifies and severely punishes large errors.\n",
    "# The lesser the RMSE value, the better is the model.\n",
    "\n",
    "\n",
    "# Evaluating Model Accuracy¶\n",
    "# R-squared is a statistical measure of how close the data are to the fitted regression line.\n",
    "# R-square signifies percentage of variations in the reponse variable that can be explained by the model.\n",
    "# R-squared = Explained variation / Total variation\n",
    "# Total variation is variation of response variable around it's mean.\n",
    "# R-squared value varies between 0 and 100%. 0% signifies that the model explains none of the variability, \n",
    "# while 100% signifies that the model explains all the variability of the response. The closer the r-square to 100%, \n",
    "# the better is the model."
   ]
  },
  {
   "cell_type": "code",
   "execution_count": 11,
   "metadata": {},
   "outputs": [],
   "source": [
    "#Gradient decent is algorithm that finds best fit line for given training data set.\n",
    "#MSE - costfunction\n",
    "\n",
    "import numpy as np\n",
    "\n",
    "\n",
    "def gradient_decent(x,y):\n",
    "    m_curr=b_curr=0\n",
    "    iterations=1000\n",
    "    n=len(x)\n",
    "    learning_rate=.0001 # Speed to take step.\n",
    "    \n",
    "    for i in range(iterations):\n",
    "        y_pred=m_curr*x +b_curr\n",
    "        cost=(1/n)*sum([val**2 for val in (y-y_pred)]) # MSE\n",
    "        md=-(2/n)*sum(x*(y-y_pred)) #md is mderivative and # step size\n",
    "        bd=-(2/n)*sum((y-y_pred))\n",
    "        m_curr=m_curr -learning_rate*md\n",
    "        b_curr=b_curr -learning_rate*bd\n",
    "        print(\"m {},b {}, iteration {}\".format(m_curr,b_curr,cost,i))\n",
    "        \n",
    "        \n",
    "x=np.array([1,2,3,4,5])\n",
    "y=np.array([5,7,9,11,13])\n",
    "\n",
    "        "
   ]
  },
  {
   "cell_type": "code",
   "execution_count": null,
   "metadata": {},
   "outputs": [],
   "source": []
  }
 ],
 "metadata": {
  "kernelspec": {
   "display_name": "Python 3",
   "language": "python",
   "name": "python3"
  },
  "language_info": {
   "codemirror_mode": {
    "name": "ipython",
    "version": 3
   },
   "file_extension": ".py",
   "mimetype": "text/x-python",
   "name": "python",
   "nbconvert_exporter": "python",
   "pygments_lexer": "ipython3",
   "version": "3.7.3"
  }
 },
 "nbformat": 4,
 "nbformat_minor": 2
}
