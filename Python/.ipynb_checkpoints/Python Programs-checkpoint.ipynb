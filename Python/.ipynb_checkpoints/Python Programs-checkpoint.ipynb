{
 "cells": [
  {
   "cell_type": "markdown",
   "metadata": {},
   "source": [
    "# Find the average of numbers in a list in Python?"
   ]
  },
  {
   "cell_type": "code",
   "execution_count": 9,
   "metadata": {
    "scrolled": true
   },
   "outputs": [
    {
     "name": "stdout",
     "output_type": "stream",
     "text": [
      "Enter Number of elements to be inserted :5\n",
      "Enter Elements:7\n",
      "Enter Elements:8\n",
      "Enter Elements:54\n",
      "Enter Elements:65\n",
      "Enter Elements:874\n",
      "Average of numbers in list 201.6\n"
     ]
    }
   ],
   "source": [
    "n=int(input(\"Enter Number of elements to be inserted :\"))\n",
    "a=[]\n",
    "\n",
    "for i in range(0,n):\n",
    "    elem=int(input(\"Enter Elements:\"))\n",
    "    a.append(elem)\n",
    "    avg=sum(a)/n\n",
    "\n",
    "print(\"Average of numbers in list\", avg)"
   ]
  },
  {
   "cell_type": "code",
   "execution_count": null,
   "metadata": {},
   "outputs": [],
   "source": [
    "#reversal of string\n",
    "\n",
    "def rev_sent(s):\n",
    "    return \" \".join(reversed(s.split()))"
   ]
  },
  {
   "cell_type": "markdown",
   "metadata": {},
   "source": [
    "# Python Program to Reverse a Number?"
   ]
  },
  {
   "cell_type": "code",
   "execution_count": 5,
   "metadata": {},
   "outputs": [
    {
     "name": "stdout",
     "output_type": "stream",
     "text": [
      "Enter Number234\n",
      "Reverse of the number: 432\n"
     ]
    }
   ],
   "source": [
    "n=int(input(\"Enter Number\"))\n",
    "rev=0\n",
    "\n",
    "while(n>0):\n",
    "    dig=n%10\n",
    "    rev=rev*10 + dig\n",
    "    n=n//10\n",
    "print(\"Reverse of the number:\",rev)\n"
   ]
  },
  {
   "cell_type": "markdown",
   "metadata": {},
   "source": [
    "# Write a program to find sum of the digits of a number in Python?"
   ]
  },
  {
   "cell_type": "code",
   "execution_count": 11,
   "metadata": {},
   "outputs": [
    {
     "name": "stdout",
     "output_type": "stream",
     "text": [
      "Enter the numbers87458\n",
      "Sum of numbers is : 32\n"
     ]
    }
   ],
   "source": [
    "n=int(input(\"Enter the numbers\"))\n",
    "sum=0\n",
    "\n",
    "while(n>0):\n",
    "    dig=n%10\n",
    "    sum=sum+dig\n",
    "    n=n//10\n",
    "print(\"Sum of numbers is :\",sum)"
   ]
  },
  {
   "cell_type": "markdown",
   "metadata": {},
   "source": [
    "# Write a Python Program to Check if a Number is a Palindrome or not?"
   ]
  },
  {
   "cell_type": "code",
   "execution_count": 16,
   "metadata": {},
   "outputs": [
    {
     "name": "stdout",
     "output_type": "stream",
     "text": [
      "Enter Number874\n",
      "I am sorry :( entered numbered is not Palindrome\n"
     ]
    }
   ],
   "source": [
    "n=int(input(\"Enter Number\"))\n",
    "temp=n\n",
    "rev=0\n",
    "\n",
    "while(n>0):\n",
    "    dig=n%10\n",
    "    rev=rev*10+dig\n",
    "    n=n//10\n",
    "if(temp==rev):\n",
    "    print(\"Entered numbered is Palindrome\")\n",
    "else:\n",
    "    print(\"I am sorry :( entered numbered is not Palindrome\")"
   ]
  },
  {
   "cell_type": "markdown",
   "metadata": {},
   "source": [
    "# Write a Python Program to Count the Number of Digits in a Number?"
   ]
  },
  {
   "cell_type": "code",
   "execution_count": 7,
   "metadata": {},
   "outputs": [
    {
     "name": "stdout",
     "output_type": "stream",
     "text": [
      "Enter the number 21\n",
      "Lenght of entered number is:  2\n"
     ]
    }
   ],
   "source": [
    "n=int(input(\"Enter the number \"))\n",
    "count=0\n",
    "while(n>0):\n",
    "    count=count+1\n",
    "    n=n//10\n",
    "print(\"Lenght of entered number is: \",count)"
   ]
  },
  {
   "cell_type": "code",
   "execution_count": 14,
   "metadata": {},
   "outputs": [
    {
     "name": "stdout",
     "output_type": "stream",
     "text": [
      "1\n"
     ]
    }
   ],
   "source": [
    "str1 = [\"ABCD\"]\n",
    "print(len(str1))"
   ]
  },
  {
   "cell_type": "markdown",
   "metadata": {},
   "source": [
    "# Write a Python Program to Print Table of a Given Number?"
   ]
  },
  {
   "cell_type": "code",
   "execution_count": 3,
   "metadata": {},
   "outputs": [
    {
     "name": "stdout",
     "output_type": "stream",
     "text": [
      "Enter the number: 4\n",
      "4 x 1 = 4\n",
      "4 x 2 = 8\n",
      "4 x 3 = 12\n",
      "4 x 4 = 16\n",
      "4 x 5 = 20\n",
      "4 x 6 = 24\n",
      "4 x 7 = 28\n",
      "4 x 8 = 32\n",
      "4 x 9 = 36\n",
      "4 x 10 = 40\n"
     ]
    }
   ],
   "source": [
    "n=int(input(\"Enter the number: \"))\n",
    "for i in range(1,11):\n",
    "    print(n,\"x\",i,\"=\",n*i)"
   ]
  },
  {
   "cell_type": "markdown",
   "metadata": {},
   "source": [
    "# Write a Python Program to Check if a Number is an Armstrong Number?"
   ]
  },
  {
   "cell_type": "code",
   "execution_count": 16,
   "metadata": {},
   "outputs": [
    {
     "name": "stdout",
     "output_type": "stream",
     "text": [
      "Enter Number:1634\n",
      "1634 is an Armstrong number\n"
     ]
    }
   ],
   "source": [
    "num = int(input(\"Enter Number:\"))\n",
    "order = len(str(num))\n",
    "sum = 0\n",
    "\n",
    "# find the sum of the cube of each digit\n",
    "temp = num\n",
    "while temp > 0:\n",
    "   digit = temp % 10\n",
    "   sum += digit ** order\n",
    "   temp //= 10\n",
    "\n",
    "# display the result\n",
    "if num == sum:\n",
    "   print(num,\"is an Armstrong number\")\n",
    "else:\n",
    "   print(num,\"is not an Armstrong number\")"
   ]
  },
  {
   "cell_type": "markdown",
   "metadata": {},
   "source": [
    "## String Compression"
   ]
  },
  {
   "cell_type": "code",
   "execution_count": 2,
   "metadata": {},
   "outputs": [
    {
     "name": "stdout",
     "output_type": "stream",
     "text": [
      "A5B4F14c5d7e15\n"
     ]
    }
   ],
   "source": [
    "# String compression \n",
    "#Input - AAAABBBBcccccdddddddeeeeeeeeeeeeeeeFFFFFFFFFFFFFF\n",
    "#Output - A4B4C5D........\n",
    "\n",
    "def compress(s):\n",
    "    \n",
    "    r = \"\"\n",
    "    l = len(s)\n",
    "    \n",
    "    if l == 0:\n",
    "        return \"\"\n",
    "    \n",
    "    if l == 1:\n",
    "        return s+\"1\"\n",
    "    \n",
    "    cnt=1\n",
    "    i =1 \n",
    "    s=''.join(sorted(s))\n",
    "    while i < l:\n",
    "        if s[i] == s[i-1]:\n",
    "            cnt += 1\n",
    "        else:\n",
    "            r = r + s[i-1] + str(cnt)\n",
    "            cnt = 1\n",
    "        i += 1 \n",
    "    r = r + s[i-1] + str(cnt)\n",
    "    \n",
    "    return r\n",
    "\n",
    "print(compress(\"AAAABBBBcccccdddddddeeeeeeeeeeeeeeeFFFFAFFFFFFFFFF\"))"
   ]
  },
  {
   "cell_type": "code",
   "execution_count": null,
   "metadata": {},
   "outputs": [],
   "source": [
    "#Unique Characters \n",
    "def uniq_char(s):\n",
    "    return len(set(s) == len(s)"
   ]
  },
  {
   "cell_type": "code",
   "execution_count": null,
   "metadata": {},
   "outputs": [],
   "source": [
    "#reversal of string\n",
    "\n",
    "def rev_sent(s):\n",
    "    return \" \".join(reversed(s.split()))"
   ]
  },
  {
   "cell_type": "code",
   "execution_count": 16,
   "metadata": {},
   "outputs": [
    {
     "name": "stdout",
     "output_type": "stream",
     "text": [
      "WWWWWWWWw 3 2 4\n",
      "WWWWWWWWw 3 2 4\n",
      "WWWWWWWWw 4 5 4\n",
      "4\n"
     ]
    }
   ],
   "source": [
    "def majorityElement(nums):\n",
    "    majority_count = len(nums)//2\n",
    "    count = 0\n",
    "    for num in nums:\n",
    "#         for i in nums:\n",
    "#             if i == num:\n",
    "#                 count = count +1  \n",
    "        count = sum(1 for elem in nums if elem == num)\n",
    "        print(\"WWWWWWWWw\",num, count,majority_count)\n",
    "        if count > majority_count:\n",
    "            return num\n",
    "        \n",
    "nums = [3, 3, 4, 2, 4, 4, 2, 4, 4]\n",
    "print(majorityElement(nums))"
   ]
  }
 ],
 "metadata": {
  "kernelspec": {
   "display_name": "Python 3",
   "language": "python",
   "name": "python3"
  },
  "language_info": {
   "codemirror_mode": {
    "name": "ipython",
    "version": 3
   },
   "file_extension": ".py",
   "mimetype": "text/x-python",
   "name": "python",
   "nbconvert_exporter": "python",
   "pygments_lexer": "ipython3",
   "version": "3.8.5"
  }
 },
 "nbformat": 4,
 "nbformat_minor": 2
}
