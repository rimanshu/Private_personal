{
 "cells": [
  {
   "cell_type": "markdown",
   "metadata": {},
   "source": [
    "# Missing Value"
   ]
  },
  {
   "cell_type": "markdown",
   "metadata": {},
   "source": [
    "Mean, Median and Mode Imputation\n",
    "\n",
    "Using the measures of central tendency involves substituting the missing values with the mean or median for numerical variables\n",
    "and the mode for categorical variables. The major limitation of using this method is that it leads to biased estimates of the \n",
    "variances and covariance. The standard errors and test statistics can also be underestimated and overestimated respectively. \n",
    "This imputation technique works well with when the values are missing completely at random. \n",
    "\n",
    "Scikit-learn comes with an imputed function in the form sklearn.preprocessing.Imputer(missing_values='NaN', strategy='mean', axis=0, verbose=0, copy=True). \n",
    "Strategy is the imputation strategy and the default is the \"mean\" of the axis (0 for columns and 1 for rows). \n",
    "The other strategies are \"median\" and \"most_frequent\". Another API that can be used for this imputation is fancyimpute.\n",
    "SimpleFill().\n",
    "\n",
    "The scikit-learn library provides the Imputer() pre-processing class that can be used to replace missing values.\n",
    "\n",
    "It is a flexible class that allows you to specify the value to replace (it can be something other than NaN) and the \n",
    "technique used to replace it (such as mean, median, or mode). The Imputer class operates directly on the NumPy array instead \n",
    "of the DataFrame.\n",
    "\n",
    "import numpy as np  \n",
    "from sklearn.impute import SimpleImputer   \n",
    "imp = SimpleImputer(missing_values=np.nan, strategy='mean')   \n",
    "imp.fit([[1, 2], [np.nan, 3], [7, 6]])   \n",
    "SimpleImputer()      \n",
    "\n",
    "import numpy as np   \n",
    "from sklearn.impute import KNNImputer   \n",
    "nan = np.nan   \n",
    "X = [[1, 2, nan], [3, 4, 3], [nan, 6, 5], [8, 8, 7]]    \n",
    "imputer = KNNImputer(n_neighbors=2, weights=\"uniform\")    "
   ]
  }
 ],
 "metadata": {
  "kernelspec": {
   "display_name": "Python 3",
   "language": "python",
   "name": "python3"
  },
  "language_info": {
   "codemirror_mode": {
    "name": "ipython",
    "version": 3
   },
   "file_extension": ".py",
   "mimetype": "text/x-python",
   "name": "python",
   "nbconvert_exporter": "python",
   "pygments_lexer": "ipython3",
   "version": "3.8.5"
  }
 },
 "nbformat": 4,
 "nbformat_minor": 4
}
