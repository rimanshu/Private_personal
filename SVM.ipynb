{
 "cells": [
  {
   "cell_type": "markdown",
   "metadata": {},
   "source": [
    "# SVM"
   ]
  },
  {
   "cell_type": "markdown",
   "metadata": {},
   "source": [
    "https://towardsdatascience.com/a-friendly-introduction-to-support-vector-machines-svm-925b68c5a079\n",
    "https://www.analyticsvidhya.com/blog/2017/09/understaing-support-vector-machine-example-code/"
   ]
  },
  {
   "cell_type": "code",
   "execution_count": 21,
   "metadata": {
    "scrolled": true
   },
   "outputs": [
    {
     "data": {
      "text/plain": [
       "<matplotlib.collections.PathCollection at 0x108ab0d30>"
      ]
     },
     "execution_count": 21,
     "metadata": {},
     "output_type": "execute_result"
    },
    {
     "data": {
      "image/png": "[encoded data removed]",
      "text/plain": [
       "<Figure size 432x288 with 1 Axes>"
      ]
     },
     "metadata": {
      "needs_background": "light"
     },
     "output_type": "display_data"
    }
   ],
   "source": [
    "import pandas as pd\n",
    "from sklearn.datasets import load_iris\n",
    "iris =load_iris()\n",
    "dir(iris) #['DESCR', 'data', 'feature_names', 'target', 'target_names']\n",
    "iris.feature_names\n",
    "\n",
    "df=pd.DataFrame(iris.data, columns=iris.feature_names)\n",
    "df.head()\n",
    "df['target']=iris.target #append target column\n",
    "df.head()\n",
    "\n",
    "iris.target_names #array(['setosa', 'versicolor', 'virginica'], dtype='<U10')\n",
    "\n",
    "df[df.target==2].head()\n",
    "\n",
    "df['flower_name'] =df.target.apply(lambda x: iris.target_names[x])\n",
    "df.head()\n",
    "\n",
    "# Visualization\n",
    "\n",
    "from matplotlib import pyplot as plt\n",
    "%matplotlib inline\n",
    "\n",
    "df0=df[df.target==0]\n",
    "df1=df[df.target==1]\n",
    "df2=df[df.target==2]\n",
    "\n",
    "df2\n",
    "\n",
    "plt.xlabel('sepal length (cm)')\n",
    "plt.ylabel('sepal width (cm)')\n",
    "plt.scatter(df0['sepal length (cm)'],df0['sepal width (cm)'], color='green', marker='+')\n",
    "plt.scatter(df1['sepal length (cm)'],df1['sepal width (cm)'], color='blue', marker='.')"
   ]
  },
  {
   "cell_type": "code",
   "execution_count": 22,
   "metadata": {
    "scrolled": true
   },
   "outputs": [
    {
     "data": {
      "text/plain": [
       "<matplotlib.collections.PathCollection at 0x108da0940>"
      ]
     },
     "execution_count": 22,
     "metadata": {},
     "output_type": "execute_result"
    },
    {
     "data": {
      "image/png": "[encoded data removed]",
      "text/plain": [
       "<Figure size 432x288 with 1 Axes>"
      ]
     },
     "metadata": {
      "needs_background": "light"
     },
     "output_type": "display_data"
    }
   ],
   "source": [
    "plt.xlabel('petal length (cm)')\n",
    "plt.ylabel('petal width (cm)')\n",
    "plt.scatter(df0['petal length (cm)'],df0['petal width (cm)'], color='green', marker='+')\n",
    "plt.scatter(df1['petal length (cm)'],df1['petal width (cm)'], color='blue', marker='.')"
   ]
  },
  {
   "cell_type": "code",
   "execution_count": 37,
   "metadata": {},
   "outputs": [
    {
     "data": {
      "text/plain": [
       "1.0"
      ]
     },
     "execution_count": 37,
     "metadata": {},
     "output_type": "execute_result"
    }
   ],
   "source": [
    "from sklearn.model_selection import train_test_split\n",
    "X=df.drop(['target','flower_name'], axis='columns')\n",
    "X.head()\n",
    "Y=df.target\n",
    "\n",
    "x_train, x_test, y_train, y_test = train_test_split(X,Y,test_size=0.2)\n",
    "len(x_train) #120\n",
    "len(x_test) #30\n",
    "\n",
    "from sklearn.svm import SVC\n",
    "model=SVC(C=10) # by C value score will reduse and C means regularization\n",
    "#model=SVC(gamma=100) # by gamma it will reduse to 46%\n",
    "#model=SVC(kernel='linear') # default is rbf . score will be 1\n",
    "model.fit(x_train,y_train)\n",
    "model.score(x_test,y_test) #1\n"
   ]
  },
  {
   "cell_type": "code",
   "execution_count": null,
   "metadata": {},
   "outputs": [],
   "source": [
    "#Parameter Tuning with GridSearch\n",
    "#https://medium.com/@aneesha/svm-parameter-tuning-in-scikit-learn-using-gridsearchcv-2413c02125a\n",
    "\n",
    "grid = GridSearchCV(estimator, param_grid, scoring, cv)\n",
    "    \n",
    "#K -Fold Cross validation is the technique where we keep a part of dataset and do not train on it and use that part \n",
    "#for testing or validation.\n",
    "#Grid Search : This is used to tune our hyperparameters and get the best set of parameters\n",
    "\n",
    "#The question is how GridSearch and Cross Validation are inter linked. Is it necessary that I have to use both of them \n",
    "#simultaneously or I can use them independently.\n",
    "\n",
    "#Please explain how this below line is evaluated :\n",
    "grid = GridSearchCV(estimator=lasso_clf, model_grid, cv=LeaveOneOut(train.shape[0]),scoring=‘mean_squared_error’)\n",
    "\n",
    "#You can just cross validate your model using k-fold or if you use another technique for validation you can just use grid \n",
    "#search to find the optimum parameters for your model. The reason we link both is usually you want to cross validate your\n",
    "#model and want to have best parameters too at the same time(machine learning competitions).\n",
    "\n",
    "#The simplified syntax for grid search in sklearn is\n",
    "\n",
    "  clf = GridSearchCV(estimator, param_grid, scoring, cv)\n",
    "#Where estimator is your model and parameters are options you want to set for your grid search. Including options like \n",
    "#param_grid, this is a dictionary of parameters you want to run your search for, etc.\n",
    "\n",
    "#Coming to your code,\n",
    "\n",
    " grid = GridSearchCV(estimator=lasso_clf, model_grid,\n",
    "#You are creating a grid search for a model lasso_clf and model_grid is your parameters for the search.\n",
    "\n",
    "  cv=LeaveOneOut(train.shape[0]),scoring=‘mean_squared_error’)\n",
    "#here cv tells how you want to split your dataset for validation. scoring is the metric you are using to test your model’s\n",
    "#accuracy, in this case since it is regression model you have used mean_squared_error as the metric."
   ]
  },
  {
   "cell_type": "code",
   "execution_count": null,
   "metadata": {},
   "outputs": [],
   "source": [
    "########################## Exercise #######################\n",
    "#Digits datsets "
   ]
  }
 ],
 "metadata": {
  "kernelspec": {
   "display_name": "Python 3",
   "language": "python",
   "name": "python3"
  },
  "language_info": {
   "codemirror_mode": {
    "name": "ipython",
    "version": 3
   },
   "file_extension": ".py",
   "mimetype": "text/x-python",
   "name": "python",
   "nbconvert_exporter": "python",
   "pygments_lexer": "ipython3",
   "version": "3.7.3"
  }
 },
 "nbformat": 4,
 "nbformat_minor": 2
}
