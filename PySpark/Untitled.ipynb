{
 "cells": [
  {
   "cell_type": "markdown",
   "metadata": {},
   "source": [
    "# PySpark"
   ]
  },
  {
   "cell_type": "code",
   "execution_count": 6,
   "metadata": {},
   "outputs": [],
   "source": [
    "import pyspark\n",
    "sc = pyspark.SparkContext('local[*]')"
   ]
  },
  {
   "cell_type": "code",
   "execution_count": 8,
   "metadata": {},
   "outputs": [
    {
     "name": "stdout",
     "output_type": "stream",
     "text": [
      "37\n"
     ]
    }
   ],
   "source": [
    "txt = sc.textFile(r'C:\\Projects\\TCA\\KMS_ENTITY_CI\\tca_product_ml\\TCA_Product_ML_Model\\co_kms_2.txt')\n",
    "print(txt.count())"
   ]
  },
  {
   "cell_type": "code",
   "execution_count": 9,
   "metadata": {},
   "outputs": [
    {
     "name": "stdout",
     "output_type": "stream",
     "text": [
      "1\n"
     ]
    }
   ],
   "source": [
    "python_lines = txt.filter(lambda line: 'cora-ar-rq-qa' in line.lower())\n",
    "print(python_lines.count())"
   ]
  },
  {
   "cell_type": "code",
   "execution_count": 17,
   "metadata": {},
   "outputs": [
    {
     "data": {
      "text/html": [
       "<div>\n",
       "<style scoped>\n",
       "    .dataframe tbody tr th:only-of-type {\n",
       "        vertical-align: middle;\n",
       "    }\n",
       "\n",
       "    .dataframe tbody tr th {\n",
       "        vertical-align: top;\n",
       "    }\n",
       "\n",
       "    .dataframe thead th {\n",
       "        text-align: right;\n",
       "    }\n",
       "</style>\n",
       "<table border=\"1\" class=\"dataframe\">\n",
       "  <thead>\n",
       "    <tr style=\"text-align: right;\">\n",
       "      <th></th>\n",
       "      <th>Date_Time</th>\n",
       "      <th>CO(GT)</th>\n",
       "      <th>PT08.S1(CO)</th>\n",
       "      <th>NMHC(GT)</th>\n",
       "      <th>C6H6(GT)</th>\n",
       "      <th>PT08.S2(NMHC)</th>\n",
       "      <th>NOx(GT)</th>\n",
       "      <th>PT08.S3(NOx)</th>\n",
       "      <th>NO2(GT)</th>\n",
       "      <th>PT08.S4(NO2)</th>\n",
       "      <th>PT08.S5(O3)</th>\n",
       "      <th>T</th>\n",
       "      <th>RH</th>\n",
       "      <th>AH</th>\n",
       "    </tr>\n",
       "  </thead>\n",
       "  <tbody>\n",
       "    <tr>\n",
       "      <th>0</th>\n",
       "      <td>2004-03-10 18:00:00</td>\n",
       "      <td>2.6</td>\n",
       "      <td>1360.00</td>\n",
       "      <td>150</td>\n",
       "      <td>11.881723</td>\n",
       "      <td>1045.50</td>\n",
       "      <td>166.0</td>\n",
       "      <td>1056.25</td>\n",
       "      <td>113.0</td>\n",
       "      <td>1692.00</td>\n",
       "      <td>1267.50</td>\n",
       "      <td>13.60</td>\n",
       "      <td>48.875001</td>\n",
       "      <td>0.757754</td>\n",
       "    </tr>\n",
       "    <tr>\n",
       "      <th>1</th>\n",
       "      <td>2004-03-10 19:00:00</td>\n",
       "      <td>2.0</td>\n",
       "      <td>1292.25</td>\n",
       "      <td>112</td>\n",
       "      <td>9.397165</td>\n",
       "      <td>954.75</td>\n",
       "      <td>103.0</td>\n",
       "      <td>1173.75</td>\n",
       "      <td>92.0</td>\n",
       "      <td>1558.75</td>\n",
       "      <td>972.25</td>\n",
       "      <td>13.30</td>\n",
       "      <td>47.700000</td>\n",
       "      <td>0.725487</td>\n",
       "    </tr>\n",
       "    <tr>\n",
       "      <th>2</th>\n",
       "      <td>2004-03-10 20:00:00</td>\n",
       "      <td>2.2</td>\n",
       "      <td>1402.00</td>\n",
       "      <td>88</td>\n",
       "      <td>8.997817</td>\n",
       "      <td>939.25</td>\n",
       "      <td>131.0</td>\n",
       "      <td>1140.00</td>\n",
       "      <td>114.0</td>\n",
       "      <td>1554.50</td>\n",
       "      <td>1074.00</td>\n",
       "      <td>11.90</td>\n",
       "      <td>53.975000</td>\n",
       "      <td>0.750239</td>\n",
       "    </tr>\n",
       "    <tr>\n",
       "      <th>3</th>\n",
       "      <td>2004-03-10 21:00:00</td>\n",
       "      <td>2.2</td>\n",
       "      <td>1375.50</td>\n",
       "      <td>80</td>\n",
       "      <td>9.228796</td>\n",
       "      <td>948.25</td>\n",
       "      <td>172.0</td>\n",
       "      <td>1092.00</td>\n",
       "      <td>122.0</td>\n",
       "      <td>1583.75</td>\n",
       "      <td>1203.25</td>\n",
       "      <td>11.00</td>\n",
       "      <td>60.000000</td>\n",
       "      <td>0.786713</td>\n",
       "    </tr>\n",
       "    <tr>\n",
       "      <th>4</th>\n",
       "      <td>2004-03-10 22:00:00</td>\n",
       "      <td>1.6</td>\n",
       "      <td>1272.25</td>\n",
       "      <td>51</td>\n",
       "      <td>6.518224</td>\n",
       "      <td>835.50</td>\n",
       "      <td>131.0</td>\n",
       "      <td>1205.00</td>\n",
       "      <td>116.0</td>\n",
       "      <td>1490.00</td>\n",
       "      <td>1110.00</td>\n",
       "      <td>11.15</td>\n",
       "      <td>59.575001</td>\n",
       "      <td>0.788794</td>\n",
       "    </tr>\n",
       "  </tbody>\n",
       "</table>\n",
       "</div>"
      ],
      "text/plain": [
       "            Date_Time  CO(GT)  PT08.S1(CO)  NMHC(GT)   C6H6(GT)  \\\n",
       "0 2004-03-10 18:00:00     2.6      1360.00       150  11.881723   \n",
       "1 2004-03-10 19:00:00     2.0      1292.25       112   9.397165   \n",
       "2 2004-03-10 20:00:00     2.2      1402.00        88   8.997817   \n",
       "3 2004-03-10 21:00:00     2.2      1375.50        80   9.228796   \n",
       "4 2004-03-10 22:00:00     1.6      1272.25        51   6.518224   \n",
       "\n",
       "   PT08.S2(NMHC)  NOx(GT)  PT08.S3(NOx)  NO2(GT)  PT08.S4(NO2)  PT08.S5(O3)  \\\n",
       "0        1045.50    166.0       1056.25    113.0       1692.00      1267.50   \n",
       "1         954.75    103.0       1173.75     92.0       1558.75       972.25   \n",
       "2         939.25    131.0       1140.00    114.0       1554.50      1074.00   \n",
       "3         948.25    172.0       1092.00    122.0       1583.75      1203.25   \n",
       "4         835.50    131.0       1205.00    116.0       1490.00      1110.00   \n",
       "\n",
       "       T         RH        AH  \n",
       "0  13.60  48.875001  0.757754  \n",
       "1  13.30  47.700000  0.725487  \n",
       "2  11.90  53.975000  0.750239  \n",
       "3  11.00  60.000000  0.786713  \n",
       "4  11.15  59.575001  0.788794  "
      ]
     },
     "execution_count": 17,
     "metadata": {},
     "output_type": "execute_result"
    }
   ],
   "source": [
    "#import required packages\n",
    "import pandas as pd\n",
    "import matplotlib.pyplot as plt\n",
    "%matplotlib inline\n",
    "\n",
    "#read the data\n",
    "df = pd.read_excel(r\"C:\\Users\\Rimanshu\\Downloads\\AirQualityUCI\\AirQualityUCI.xlsx\", parse_dates=[['Date', 'Time']])\n",
    "\n",
    "#check the dtypes\n",
    "df.head()"
   ]
  },
  {
   "cell_type": "code",
   "execution_count": 32,
   "metadata": {},
   "outputs": [
    {
     "name": "stdout",
     "output_type": "stream",
     "text": [
      "<class 'pandas.core.frame.DataFrame'>\n",
      "RangeIndex: 9357 entries, 0 to 9356\n",
      "Data columns (total 14 columns):\n",
      "Date_Time        9357 non-null datetime64[ns]\n",
      "CO(GT)           9357 non-null float64\n",
      "PT08.S1(CO)      9357 non-null float64\n",
      "NMHC(GT)         9357 non-null int64\n",
      "C6H6(GT)         9357 non-null float64\n",
      "PT08.S2(NMHC)    9357 non-null float64\n",
      "NOx(GT)          9357 non-null float64\n",
      "PT08.S3(NOx)     9357 non-null float64\n",
      "NO2(GT)          9357 non-null float64\n",
      "PT08.S4(NO2)     9357 non-null float64\n",
      "PT08.S5(O3)      9357 non-null float64\n",
      "T                9357 non-null float64\n",
      "RH               9357 non-null float64\n",
      "AH               9357 non-null float64\n",
      "dtypes: datetime64[ns](1), float64(12), int64(1)\n",
      "memory usage: 1023.5 KB\n"
     ]
    }
   ],
   "source": [
    "df.info()"
   ]
  },
  {
   "cell_type": "code",
   "execution_count": 18,
   "metadata": {},
   "outputs": [],
   "source": [
    "df['Date_Time'] = pd.to_datetime(df.Date_Time , format = '%d/%m/%Y %H.%M.%S')\n",
    "data = df.drop(['Date_Time'], axis=1)\n",
    "data.index = df.Date_Time"
   ]
  },
  {
   "cell_type": "code",
   "execution_count": 20,
   "metadata": {},
   "outputs": [
    {
     "name": "stderr",
     "output_type": "stream",
     "text": [
      "C:\\Users\\Rimanshu\\Anaconda3\\lib\\site-packages\\ipykernel_launcher.py:6: SettingWithCopyWarning: \n",
      "A value is trying to be set on a copy of a slice from a DataFrame\n",
      "\n",
      "See the caveats in the documentation: http://pandas.pydata.org/pandas-docs/stable/indexing.html#indexing-view-versus-copy\n",
      "  \n"
     ]
    },
    {
     "data": {
      "text/plain": [
       "array([1.75628733e-01, 1.52399674e-01, 1.15090998e-01, 1.04309966e-01,\n",
       "       9.29562919e-02, 6.90255307e-02, 5.76654697e-02, 3.43596700e-02,\n",
       "       3.06350634e-02, 1.18801270e-02, 2.46819409e-03, 7.09473977e-05])"
      ]
     },
     "execution_count": 20,
     "metadata": {},
     "output_type": "execute_result"
    }
   ],
   "source": [
    "#missing value treatment\n",
    "cols = data.columns\n",
    "for j in cols:\n",
    "    for i in range(0,len(data)):\n",
    "        if data[j][i] == -200:\n",
    "            data[j][i] = data[j][i-1]\n",
    "\n",
    "#checking stationarity\n",
    "from statsmodels.tsa.vector_ar.vecm import coint_johansen\n",
    "#since the test works for only 12 variables, I have randomly dropped\n",
    "#in the next iteration, I would drop another and check the eigenvalues\n",
    "johan_test_temp = data.drop([ 'CO(GT)'], axis=1)\n",
    "coint_johansen(johan_test_temp,-1,1).eig"
   ]
  },
  {
   "cell_type": "code",
   "execution_count": 21,
   "metadata": {},
   "outputs": [
    {
     "name": "stderr",
     "output_type": "stream",
     "text": [
      "C:\\Users\\Rimanshu\\Anaconda3\\lib\\site-packages\\statsmodels\\tsa\\base\\tsa_model.py:162: ValueWarning: No frequency information was provided, so inferred frequency H will be used.\n",
      "  % freq, ValueWarning)\n",
      "C:\\Users\\Rimanshu\\Anaconda3\\lib\\site-packages\\statsmodels\\base\\wrapper.py:36: FutureWarning: y is a deprecated alias for endog, will be removed in version 0.11.0\n",
      "  obj = getattr(results, attr)\n"
     ]
    }
   ],
   "source": [
    "#creating the train and validation set\n",
    "train = data[:int(0.8*(len(data)))]\n",
    "valid = data[int(0.8*(len(data))):]\n",
    "\n",
    "#fit the model\n",
    "from statsmodels.tsa.vector_ar.var_model import VAR\n",
    "\n",
    "model = VAR(endog=train)\n",
    "model_fit = model.fit()\n",
    "\n",
    "# make prediction on validation\n",
    "prediction = model_fit.forecast(model_fit.y, steps=len(valid))"
   ]
  },
  {
   "cell_type": "code",
   "execution_count": 34,
   "metadata": {},
   "outputs": [
    {
     "data": {
      "text/plain": [
       "array([[8.88161065e-01, 8.41803964e+02, 2.71644320e+02, 1.98263201e+00,\n",
       "        5.95965721e+02, 1.37030660e+02, 1.11961516e+03, 8.78153392e+01,\n",
       "        8.29844660e+02, 5.46026663e+02, 1.05743863e+01, 3.48713152e+01,\n",
       "        4.37277520e-01]])"
      ]
     },
     "execution_count": 34,
     "metadata": {},
     "output_type": "execute_result"
    }
   ],
   "source": [
    "prediction[:1]"
   ]
  },
  {
   "cell_type": "code",
   "execution_count": 26,
   "metadata": {},
   "outputs": [
    {
     "name": "stdout",
     "output_type": "stream",
     "text": [
      "rmse value for CO(GT) is :  1.408696542445898\n",
      "rmse value for PT08.S1(CO) is :  205.91037633779467\n",
      "rmse value for NMHC(GT) is :  6.670741427623062\n",
      "rmse value for C6H6(GT) is :  7.130304477788332\n",
      "rmse value for PT08.S2(NMHC) is :  277.8562837310263\n",
      "rmse value for NOx(GT) is :  214.75793797686748\n",
      "rmse value for PT08.S3(NOx) is :  244.96129928948912\n",
      "rmse value for NO2(GT) is :  66.65226538129396\n",
      "rmse value for PT08.S4(NO2) is :  490.05286652865937\n",
      "rmse value for PT08.S5(O3) is :  446.5049918901908\n",
      "rmse value for T is :  10.722429361263574\n",
      "rmse value for RH is :  17.114848634833294\n",
      "rmse value for AH is :  0.5216105887695887\n"
     ]
    }
   ],
   "source": [
    "import numpy as np\n",
    "from sklearn.metrics import mean_squared_error\n",
    "#converting predictions to dataframe\n",
    "pred = pd.DataFrame(index=range(0,len(prediction)),columns=[cols])\n",
    "for j in range(0,13):\n",
    "    for i in range(0, len(prediction)):\n",
    "        pred.iloc[i][j] = prediction[i][j]\n",
    "\n",
    "#check rmse\n",
    "for i in cols:\n",
    "    print('rmse value for', i, 'is : ', np.sqrt(mean_squared_error(pred[i], valid[i])))"
   ]
  },
  {
   "cell_type": "code",
   "execution_count": 31,
   "metadata": {},
   "outputs": [
    {
     "name": "stdout",
     "output_type": "stream",
     "text": [
      "<class 'pandas.core.frame.DataFrame'>\n",
      "RangeIndex: 1872 entries, 0 to 1871\n",
      "Data columns (total 13 columns):\n",
      "(CO(GT),)           1872 non-null object\n",
      "(PT08.S1(CO),)      1872 non-null object\n",
      "(NMHC(GT),)         1872 non-null object\n",
      "(C6H6(GT),)         1872 non-null object\n",
      "(PT08.S2(NMHC),)    1872 non-null object\n",
      "(NOx(GT),)          1872 non-null object\n",
      "(PT08.S3(NOx),)     1872 non-null object\n",
      "(NO2(GT),)          1872 non-null object\n",
      "(PT08.S4(NO2),)     1872 non-null object\n",
      "(PT08.S5(O3),)      1872 non-null object\n",
      "(T,)                1872 non-null object\n",
      "(RH,)               1872 non-null object\n",
      "(AH,)               1872 non-null object\n",
      "dtypes: object(13)\n",
      "memory usage: 190.2+ KB\n"
     ]
    }
   ],
   "source": [
    "pred.info()"
   ]
  },
  {
   "cell_type": "code",
   "execution_count": 106,
   "metadata": {},
   "outputs": [
    {
     "data": {
      "text/html": [
       "<div>\n",
       "<style scoped>\n",
       "    .dataframe tbody tr th:only-of-type {\n",
       "        vertical-align: middle;\n",
       "    }\n",
       "\n",
       "    .dataframe tbody tr th {\n",
       "        vertical-align: top;\n",
       "    }\n",
       "\n",
       "    .dataframe thead th {\n",
       "        text-align: right;\n",
       "    }\n",
       "</style>\n",
       "<table border=\"1\" class=\"dataframe\">\n",
       "  <thead>\n",
       "    <tr style=\"text-align: right;\">\n",
       "      <th></th>\n",
       "      <th>Unnamed: 0</th>\n",
       "      <th>datetime</th>\n",
       "      <th>ghi</th>\n",
       "      <th>gti</th>\n",
       "      <th>power</th>\n",
       "    </tr>\n",
       "  </thead>\n",
       "  <tbody>\n",
       "    <tr>\n",
       "      <th>0</th>\n",
       "      <td>0</td>\n",
       "      <td>2017-10-01 00:00:00</td>\n",
       "      <td>0.0</td>\n",
       "      <td>0.0</td>\n",
       "      <td>0.0</td>\n",
       "    </tr>\n",
       "    <tr>\n",
       "      <th>1</th>\n",
       "      <td>1</td>\n",
       "      <td>2017-10-01 00:15:00</td>\n",
       "      <td>0.0</td>\n",
       "      <td>0.0</td>\n",
       "      <td>0.0</td>\n",
       "    </tr>\n",
       "    <tr>\n",
       "      <th>2</th>\n",
       "      <td>2</td>\n",
       "      <td>2017-10-01 00:30:00</td>\n",
       "      <td>0.0</td>\n",
       "      <td>0.0</td>\n",
       "      <td>0.0</td>\n",
       "    </tr>\n",
       "    <tr>\n",
       "      <th>3</th>\n",
       "      <td>3</td>\n",
       "      <td>2017-10-01 00:45:00</td>\n",
       "      <td>0.0</td>\n",
       "      <td>0.0</td>\n",
       "      <td>0.0</td>\n",
       "    </tr>\n",
       "    <tr>\n",
       "      <th>4</th>\n",
       "      <td>4</td>\n",
       "      <td>2017-10-01 01:00:00</td>\n",
       "      <td>0.0</td>\n",
       "      <td>0.0</td>\n",
       "      <td>0.0</td>\n",
       "    </tr>\n",
       "  </tbody>\n",
       "</table>\n",
       "</div>"
      ],
      "text/plain": [
       "   Unnamed: 0             datetime  ghi  gti  power\n",
       "0           0  2017-10-01 00:00:00  0.0  0.0    0.0\n",
       "1           1  2017-10-01 00:15:00  0.0  0.0    0.0\n",
       "2           2  2017-10-01 00:30:00  0.0  0.0    0.0\n",
       "3           3  2017-10-01 00:45:00  0.0  0.0    0.0\n",
       "4           4  2017-10-01 01:00:00  0.0  0.0    0.0"
      ]
     },
     "execution_count": 106,
     "metadata": {},
     "output_type": "execute_result"
    }
   ],
   "source": [
    "import warnings\n",
    "warnings.filterwarnings('ignore')\n",
    "import numpy as np\n",
    "import pandas as pd\n",
    "import matplotlib.pyplot as plt\n",
    "plt.style.use('fivethirtyeight')\n",
    "# Above is a special style template for matplotlib, highly useful for visualizing time series data\n",
    "from pylab import rcParams\n",
    "rcParams['figure.figsize'] = 10, 7\n",
    "df = pd.read_csv(r'C:\\Users\\Rimanshu\\Downloads\\power_actual.csv', date_parser='datetime')\n",
    "df.head()"
   ]
  },
  {
   "cell_type": "code",
   "execution_count": 107,
   "metadata": {},
   "outputs": [
    {
     "name": "stdout",
     "output_type": "stream",
     "text": [
      "<class 'pandas.core.frame.DataFrame'>\n",
      "RangeIndex: 70080 entries, 0 to 70079\n",
      "Data columns (total 5 columns):\n",
      "Unnamed: 0    70080 non-null int64\n",
      "datetime      70080 non-null object\n",
      "ghi           35040 non-null float64\n",
      "gti           35040 non-null float64\n",
      "power         70080 non-null float64\n",
      "dtypes: float64(3), int64(1), object(1)\n",
      "memory usage: 2.7+ MB\n"
     ]
    }
   ],
   "source": [
    "df.info()"
   ]
  },
  {
   "cell_type": "code",
   "execution_count": 110,
   "metadata": {},
   "outputs": [
    {
     "data": {
      "text/plain": [
       "count    70080.000000\n",
       "mean        28.612915\n",
       "std        498.795887\n",
       "min          0.000000\n",
       "25%          0.000000\n",
       "50%          0.000000\n",
       "75%          5.540000\n",
       "max      16172.040000\n",
       "Name: power, dtype: float64"
      ]
     },
     "execution_count": 110,
     "metadata": {},
     "output_type": "execute_result"
    }
   ],
   "source": [
    "df['power'].describe()"
   ]
  },
  {
   "cell_type": "code",
   "execution_count": 111,
   "metadata": {},
   "outputs": [
    {
     "data": {
      "text/plain": [
       "0.000000        42082\n",
       "12.770000          82\n",
       "13.020000          80\n",
       "0.020000           76\n",
       "9.230000           75\n",
       "0.040000           75\n",
       "0.010000           73\n",
       "0.060000           68\n",
       "0.660000           67\n",
       "0.080000           64\n",
       "0.250000           63\n",
       "1.400000           63\n",
       "0.340000           59\n",
       "0.290000           58\n",
       "12.320000          57\n",
       "0.640000           57\n",
       "2.230000           55\n",
       "0.230000           55\n",
       "13.650000          54\n",
       "12.070000          53\n",
       "11.380000          53\n",
       "4.240000           52\n",
       "12.540000          52\n",
       "4.730000           52\n",
       "10.020000          52\n",
       "11.050000          51\n",
       "1.540000           51\n",
       "11.170000          50\n",
       "11.820000          50\n",
       "12.040000          50\n",
       "                ...  \n",
       "12243.960000        1\n",
       "8631.220000         1\n",
       "1.562500            1\n",
       "0.745714            1\n",
       "10.969231           1\n",
       "7475.410000         1\n",
       "3519.800000         1\n",
       "6649.050000         1\n",
       "1.255333            1\n",
       "11.280833           1\n",
       "3180.680000         1\n",
       "4689.530000         1\n",
       "6956.630000         1\n",
       "7.212143            1\n",
       "8248.070000         1\n",
       "13275.050000        1\n",
       "7.974615            1\n",
       "10708.090000        1\n",
       "559.930000          1\n",
       "2617.630000         1\n",
       "6600.270000         1\n",
       "9357.190000         1\n",
       "7.332667            1\n",
       "11848.440000        1\n",
       "3515.700000         1\n",
       "797.990000          1\n",
       "13236.750000        1\n",
       "3926.930000         1\n",
       "2.847143            1\n",
       "17.120000           1\n",
       "Name: power, Length: 2171, dtype: int64"
      ]
     },
     "execution_count": 111,
     "metadata": {},
     "output_type": "execute_result"
    }
   ],
   "source": [
    "df['power'].value_counts()"
   ]
  },
  {
   "cell_type": "code",
   "execution_count": 112,
   "metadata": {},
   "outputs": [],
   "source": [
    "df= df[df['power'] != 0.00]"
   ]
  },
  {
   "cell_type": "code",
   "execution_count": 113,
   "metadata": {},
   "outputs": [
    {
     "name": "stdout",
     "output_type": "stream",
     "text": [
      "<class 'pandas.core.frame.DataFrame'>\n",
      "Int64Index: 42082 entries, 0 to 70079\n",
      "Data columns (total 5 columns):\n",
      "Unnamed: 0    42082 non-null int64\n",
      "datetime      42082 non-null object\n",
      "ghi           35040 non-null float64\n",
      "gti           35040 non-null float64\n",
      "power         42082 non-null float64\n",
      "dtypes: float64(3), int64(1), object(1)\n",
      "memory usage: 3.2+ MB\n"
     ]
    }
   ],
   "source": [
    "df_1.info()"
   ]
  },
  {
   "cell_type": "code",
   "execution_count": 121,
   "metadata": {},
   "outputs": [
    {
     "data": {
      "text/plain": [
       "12.770000       82\n",
       "13.020000       80\n",
       "0.020000        76\n",
       "0.040000        75\n",
       "9.230000        75\n",
       "0.010000        73\n",
       "0.060000        68\n",
       "0.660000        67\n",
       "0.080000        64\n",
       "0.250000        63\n",
       "1.400000        63\n",
       "0.340000        59\n",
       "0.290000        58\n",
       "0.640000        57\n",
       "12.320000       57\n",
       "2.230000        55\n",
       "0.230000        55\n",
       "13.650000       54\n",
       "11.380000       53\n",
       "12.070000       53\n",
       "12.540000       52\n",
       "4.240000        52\n",
       "4.730000        52\n",
       "10.020000       52\n",
       "1.540000        51\n",
       "11.050000       51\n",
       "11.170000       50\n",
       "12.040000       50\n",
       "11.820000       50\n",
       "10.780000       49\n",
       "                ..\n",
       "3.466923         1\n",
       "9874.670000      1\n",
       "17.310000        1\n",
       "6387.480000      1\n",
       "14.356667        1\n",
       "14374.470000     1\n",
       "3.946154         1\n",
       "18.150000        1\n",
       "2390.510000      1\n",
       "10569.740000     1\n",
       "14716.620000     1\n",
       "3.672667         1\n",
       "0.284375         1\n",
       "4.492500         1\n",
       "6.195000         1\n",
       "16.870000        1\n",
       "0.147500         1\n",
       "2555.800000      1\n",
       "8351.780000      1\n",
       "2007.150000      1\n",
       "44.830000        1\n",
       "17.070000        1\n",
       "12.362000        1\n",
       "476.780000       1\n",
       "5.681333         1\n",
       "12948.420000     1\n",
       "6586.390000      1\n",
       "2186.360000      1\n",
       "15127.800000     1\n",
       "4.950667         1\n",
       "Name: power, Length: 2170, dtype: int64"
      ]
     },
     "execution_count": 121,
     "metadata": {},
     "output_type": "execute_result"
    }
   ],
   "source": [
    "df['power'].value_counts()"
   ]
  },
  {
   "cell_type": "code",
   "execution_count": 114,
   "metadata": {},
   "outputs": [
    {
     "data": {
      "text/plain": [
       "count    27998.000000\n",
       "mean        71.619154\n",
       "std        787.198737\n",
       "min          0.010000\n",
       "25%          3.170000\n",
       "50%          8.030000\n",
       "75%         12.360000\n",
       "max      16172.040000\n",
       "Name: power, dtype: float64"
      ]
     },
     "execution_count": 114,
     "metadata": {},
     "output_type": "execute_result"
    }
   ],
   "source": [
    "df['power'].describe()"
   ]
  },
  {
   "cell_type": "code",
   "execution_count": 117,
   "metadata": {},
   "outputs": [],
   "source": [
    "df = df[['datetime','power']]"
   ]
  },
  {
   "cell_type": "code",
   "execution_count": 115,
   "metadata": {},
   "outputs": [
    {
     "data": {
      "text/html": [
       "<div>\n",
       "<style scoped>\n",
       "    .dataframe tbody tr th:only-of-type {\n",
       "        vertical-align: middle;\n",
       "    }\n",
       "\n",
       "    .dataframe tbody tr th {\n",
       "        vertical-align: top;\n",
       "    }\n",
       "\n",
       "    .dataframe thead th {\n",
       "        text-align: right;\n",
       "    }\n",
       "</style>\n",
       "<table border=\"1\" class=\"dataframe\">\n",
       "  <thead>\n",
       "    <tr style=\"text-align: right;\">\n",
       "      <th></th>\n",
       "      <th>Unnamed: 0</th>\n",
       "      <th>datetime</th>\n",
       "      <th>ghi</th>\n",
       "      <th>gti</th>\n",
       "      <th>power</th>\n",
       "    </tr>\n",
       "  </thead>\n",
       "  <tbody>\n",
       "    <tr>\n",
       "      <th>27</th>\n",
       "      <td>27</td>\n",
       "      <td>2017-10-01 06:45:00</td>\n",
       "      <td>NaN</td>\n",
       "      <td>NaN</td>\n",
       "      <td>0.08</td>\n",
       "    </tr>\n",
       "    <tr>\n",
       "      <th>28</th>\n",
       "      <td>28</td>\n",
       "      <td>2017-10-01 07:00:00</td>\n",
       "      <td>NaN</td>\n",
       "      <td>NaN</td>\n",
       "      <td>0.34</td>\n",
       "    </tr>\n",
       "    <tr>\n",
       "      <th>29</th>\n",
       "      <td>29</td>\n",
       "      <td>2017-10-01 07:15:00</td>\n",
       "      <td>NaN</td>\n",
       "      <td>NaN</td>\n",
       "      <td>0.80</td>\n",
       "    </tr>\n",
       "    <tr>\n",
       "      <th>30</th>\n",
       "      <td>30</td>\n",
       "      <td>2017-10-01 07:30:00</td>\n",
       "      <td>NaN</td>\n",
       "      <td>NaN</td>\n",
       "      <td>1.40</td>\n",
       "    </tr>\n",
       "    <tr>\n",
       "      <th>31</th>\n",
       "      <td>31</td>\n",
       "      <td>2017-10-01 07:45:00</td>\n",
       "      <td>NaN</td>\n",
       "      <td>NaN</td>\n",
       "      <td>2.23</td>\n",
       "    </tr>\n",
       "  </tbody>\n",
       "</table>\n",
       "</div>"
      ],
      "text/plain": [
       "    Unnamed: 0             datetime  ghi  gti  power\n",
       "27          27  2017-10-01 06:45:00  NaN  NaN   0.08\n",
       "28          28  2017-10-01 07:00:00  NaN  NaN   0.34\n",
       "29          29  2017-10-01 07:15:00  NaN  NaN   0.80\n",
       "30          30  2017-10-01 07:30:00  NaN  NaN   1.40\n",
       "31          31  2017-10-01 07:45:00  NaN  NaN   2.23"
      ]
     },
     "execution_count": 115,
     "metadata": {},
     "output_type": "execute_result"
    }
   ],
   "source": [
    "df.head()"
   ]
  },
  {
   "cell_type": "code",
   "execution_count": 118,
   "metadata": {},
   "outputs": [
    {
     "data": {
      "text/plain": [
       "16172.04"
      ]
     },
     "execution_count": 118,
     "metadata": {},
     "output_type": "execute_result"
    }
   ],
   "source": [
    "df['power'].max()"
   ]
  },
  {
   "cell_type": "code",
   "execution_count": 119,
   "metadata": {},
   "outputs": [
    {
     "data": {
      "text/html": [
       "<div>\n",
       "<style scoped>\n",
       "    .dataframe tbody tr th:only-of-type {\n",
       "        vertical-align: middle;\n",
       "    }\n",
       "\n",
       "    .dataframe tbody tr th {\n",
       "        vertical-align: top;\n",
       "    }\n",
       "\n",
       "    .dataframe thead th {\n",
       "        text-align: right;\n",
       "    }\n",
       "</style>\n",
       "<table border=\"1\" class=\"dataframe\">\n",
       "  <thead>\n",
       "    <tr style=\"text-align: right;\">\n",
       "      <th></th>\n",
       "      <th>power</th>\n",
       "    </tr>\n",
       "    <tr>\n",
       "      <th>datetime</th>\n",
       "      <th></th>\n",
       "    </tr>\n",
       "  </thead>\n",
       "  <tbody>\n",
       "    <tr>\n",
       "      <th>2017-10-01 06:45:00</th>\n",
       "      <td>0.08</td>\n",
       "    </tr>\n",
       "    <tr>\n",
       "      <th>2017-10-01 07:00:00</th>\n",
       "      <td>0.34</td>\n",
       "    </tr>\n",
       "    <tr>\n",
       "      <th>2017-10-01 07:15:00</th>\n",
       "      <td>0.80</td>\n",
       "    </tr>\n",
       "    <tr>\n",
       "      <th>2017-10-01 07:30:00</th>\n",
       "      <td>1.40</td>\n",
       "    </tr>\n",
       "    <tr>\n",
       "      <th>2017-10-01 07:45:00</th>\n",
       "      <td>2.23</td>\n",
       "    </tr>\n",
       "  </tbody>\n",
       "</table>\n",
       "</div>"
      ],
      "text/plain": [
       "                     power\n",
       "datetime                  \n",
       "2017-10-01 06:45:00   0.08\n",
       "2017-10-01 07:00:00   0.34\n",
       "2017-10-01 07:15:00   0.80\n",
       "2017-10-01 07:30:00   1.40\n",
       "2017-10-01 07:45:00   2.23"
      ]
     },
     "execution_count": 119,
     "metadata": {},
     "output_type": "execute_result"
    }
   ],
   "source": [
    "df['datetime'] = pd.to_datetime(df['datetime'])\n",
    "df.set_index('datetime', inplace=True) #set date as index\n",
    "df.head()"
   ]
  },
  {
   "cell_type": "code",
   "execution_count": 120,
   "metadata": {},
   "outputs": [
    {
     "data": {
      "text/plain": [
       "[<matplotlib.lines.Line2D at 0x1c857e06828>]"
      ]
     },
     "execution_count": 120,
     "metadata": {},
     "output_type": "execute_result"
    },
    {
     "data": {
      "image/png": "[encoded data removed]",
      "text/plain": [
       "<Figure size 720x504 with 1 Axes>"
      ]
     },
     "metadata": {},
     "output_type": "display_data"
    }
   ],
   "source": [
    "plt.xlabel(\"datetime\")\n",
    "plt.ylabel(\"Power\")\n",
    "plt.title(\"production graph\")\n",
    "plt.plot(df)"
   ]
  },
  {
   "cell_type": "code",
   "execution_count": null,
   "metadata": {},
   "outputs": [],
   "source": []
  },
  {
   "cell_type": "code",
   "execution_count": null,
   "metadata": {},
   "outputs": [],
   "source": []
  }
 ],
 "metadata": {
  "kernelspec": {
   "display_name": "Python 3",
   "language": "python",
   "name": "python3"
  },
  "language_info": {
   "codemirror_mode": {
    "name": "ipython",
    "version": 3
   },
   "file_extension": ".py",
   "mimetype": "text/x-python",
   "name": "python",
   "nbconvert_exporter": "python",
   "pygments_lexer": "ipython3",
   "version": "3.7.3"
  }
 },
 "nbformat": 4,
 "nbformat_minor": 2
}
