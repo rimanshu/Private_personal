{
 "cells": [
  {
   "cell_type": "markdown",
   "metadata": {},
   "source": [
    "# Data Sctrutures in Python \n",
    "\n",
    "https://www.youtube.com/watch?v=tC9SIyxL5vQ&list=PL4yL5rqgtVtpMMBxjz2FUBFntzFJCmQzK&index=2"
   ]
  },
  {
   "cell_type": "markdown",
   "metadata": {},
   "source": [
    "# Time Complexities"
   ]
  },
  {
   "cell_type": "markdown",
   "metadata": {},
   "source": [
    "https://medium.com/better-programming/a-gentle-explanation-of-logarithmic-time-complexity-79842728a702\n",
    "\n",
    "https://adrianmejia.com/most-popular-algorithms-time-complexity-every-programmer-should-know-free-online-tutorial-course/\n",
    "\n",
    "O(1) - If your program wants to remove one letter from your list like this:\n",
    "Its time complexity is simply 1 because it doesn’t matter how many letters are in the list, it will always take just one operation.\n",
    "\n",
    "O(n2): You go and ask the first person of the class, if he has the pen. Also, you ask this person about other 99 people in the classroom if they have that pen and so on,\n",
    "This is what we call O(n2).\n",
    "\n",
    "O(n): Going and asking each student individually is O(N).\n",
    "\n",
    "O(log n): Now I divide the class into two groups, then ask: “Is it on the left side, or the right side of the classroom?” Then I take that group and divide it into two and ask again, and so on. Repeat the process till you are left with one student who has your pen. This is what you mean by O(log n).\n",
    "\n",
    "O(n log n): is the case when a set of data is repeatedly divided into half and each half is processed again independently. For example: algorithms for mergesort, heapsort and even quicksort too(best case time complexity)."
   ]
  },
  {
   "cell_type": "markdown",
   "metadata": {},
   "source": [
    "# Linked list"
   ]
  },
  {
   "cell_type": "code",
   "execution_count": null,
   "metadata": {},
   "outputs": [],
   "source": [
    "# Linked list / one way array list is collection of data and address. Each node is seperate object.\n",
    "#Linked list is linear collection of data items.Each element is sepearte object.\n",
    "\n",
    "# Array is collection of similar type of data elements whereas the linkedlist is considered as non-premitive data structure\n",
    "# a collection of unordered linked element known as node.\n",
    "\n",
    "# In array elements belong to index but in a linkedlist it contains start/head and nodes and traversing needs to be done to access \n",
    "# elements\n",
    "\n",
    "# access an element is fast in array in compare to linked list.\n",
    "# memory allocation is at compile time in case of array but in execution time in case of Linked list.\n",
    "\n",
    "# Operation such as insertion and deletion are quite easy in linked list.\n",
    "\n",
    "# In array, we can access any element sequencially starting using its index while in case of linkedlist we have to access \n",
    "# elements starting from the first node. so we cannot do binary search."
   ]
  },
  {
   "cell_type": "code",
   "execution_count": null,
   "metadata": {},
   "outputs": [],
   "source": []
  },
  {
   "cell_type": "markdown",
   "metadata": {},
   "source": [
    "# Stack and Queue"
   ]
  },
  {
   "cell_type": "code",
   "execution_count": null,
   "metadata": {},
   "outputs": [],
   "source": [
    "# Stack (LIFO) - Last in first out. It Allows operation from one end only.\n",
    "# Insertion opertaion is called push and deletion or removal is called pull. It can be used in fixed or dynamic size array.\n",
    "# push(), pull(), peek() - accessing the element or get without removing. isFull(), is_Empty(), length(), pop()"
   ]
  },
  {
   "cell_type": "code",
   "execution_count": null,
   "metadata": {},
   "outputs": [],
   "source": [
    "# Queue (FIFO) - First and first out. Deletion takes place from front end and insertion from rear end."
   ]
  },
  {
   "cell_type": "markdown",
   "metadata": {},
   "source": [
    "# Searching and Sorting"
   ]
  },
  {
   "cell_type": "markdown",
   "metadata": {},
   "source": [
    "Linear or Sequential Search"
   ]
  },
  {
   "cell_type": "code",
   "execution_count": null,
   "metadata": {},
   "outputs": [],
   "source": [
    "# # Time complexity is o(n)\n",
    "# temp = [5,9,12,20,25]\n",
    "\n",
    "# seq = (A,i,X,n) # A is array or list , i is pointer, X is element to be found and n is length of array. \n",
    "\n",
    "# 1) set i=0\n",
    "# 2) if i > n\n",
    "#     print element not found\n",
    "# 3) if A[i] =X\n",
    "#     print element found\n",
    "# 4) i = i+1\n",
    "# 5) Exit"
   ]
  },
  {
   "cell_type": "markdown",
   "metadata": {},
   "source": [
    "Binary Search "
   ]
  },
  {
   "cell_type": "code",
   "execution_count": null,
   "metadata": {},
   "outputs": [],
   "source": [
    "# It is fast searching with time complexity is o(logn). It is based on divide and conquer method and split from middle and search\n",
    "# Data should be in sorted manner. Time complexity is half of linear search\n",
    "\n",
    "# Algorithm\n",
    "\n",
    "# temp = [5,12,15,20,25, 30,50]\n",
    "# seq = (A,X,n)\n",
    "\n",
    "# 1) while (low<=high)\n",
    "# 2) mid = (low+high)/2\n",
    "# 3) if X = A[mid]\n",
    "#     return mid \n",
    "# 4) if X > A[mid]\n",
    "#     low = mid+1\n",
    "# 5) if X < A[mid]\n",
    "#     high = mid -1 \n",
    "# end"
   ]
  },
  {
   "cell_type": "markdown",
   "metadata": {},
   "source": [
    "Bubble Sort"
   ]
  },
  {
   "cell_type": "code",
   "execution_count": null,
   "metadata": {},
   "outputs": [],
   "source": [
    "# #In this, each pair of adjacent compared and swaped if they are not orderd. Worst time complexity is o(n2)\n",
    "\n",
    "# temp = [5,2,4,3,6]\n",
    "\n",
    "# # Algorithms\n",
    "\n",
    "# for (until the array gets sorts)\n",
    "#     if temp[i] > temp[i+1]:\n",
    "#         swap(temp[i],temp[i+1]) \n",
    "#     end if\n",
    "# end for \n",
    "\n",
    "# exit\n",
    "\n",
    "# Sorts a sequence in ascending order using the bubble sort algorithm.\n",
    "2 def bubbleSort( theSeq ):\n",
    "3 n = len( theSeq )\n",
    "4 # Perform n-1 bubble operations on the sequence\n",
    "5 for i in range( n - 1 ) :\n",
    "6 # Bubble the largest item to the end.\n",
    "7 for j in range( i + n - 1 ) :\n",
    "8 if theSeq[j] > theSeq[j + 1] : # swap the j and j+1 items.\n",
    "9 tmp = theSeq[j]\n",
    "10 theSeq[j] = theSeq[j + 1]\n",
    "11 theSeq[j + 1] = tmp"
   ]
  },
  {
   "cell_type": "markdown",
   "metadata": {},
   "source": [
    "Selection Sort\n",
    "![](SelectionSort.png)"
   ]
  },
  {
   "cell_type": "code",
   "execution_count": null,
   "metadata": {},
   "outputs": [],
   "source": [
    "#Sorts a sequence in ascending order using the selection sort algorithm.\n",
    "\n",
    "# Inserted is not suitable for large set of array.\n",
    "\n",
    "#Algorithm\n",
    "\n",
    "# 1) set min =0 \n",
    "# 2) Search minimum element in the list \n",
    "# 3) swap with value at location min\n",
    "# 4) Increase min to point to next element \n",
    "# 5) repeat until list is sorted.\n",
    "\n",
    "2 def selectionSort( theSeq ):\n",
    "3 n = len( theSeq )\n",
    "4 for i in range( n - 1 ):\n",
    "5 # Assume the ith element is the smallest.\n",
    "6 smallNdx = i\n",
    "7 # Determine if any other element contains a smaller value.\n",
    "8 for j in range( i + 1, n ):\n",
    "9 if theSeq[j] < theSeq[smallNdx] :\n",
    "10 smallNdx = j\n",
    "11\n",
    "12 # Swap the ith value and smallNdx value only if the smallest value is\n",
    "13 # not already in its proper position. Some implementations omit testing\n",
    "14 # the condition and always swap the two values.\n",
    "15 if smallNdx != i :\n",
    "16 tmp = theSeq[i]\n",
    "17 theSeq[i] = theSeq[smallNdx]\n",
    "18 theSeq[smallNdx] = tmp"
   ]
  },
  {
   "cell_type": "markdown",
   "metadata": {},
   "source": [
    "Quick Sort "
   ]
  },
  {
   "cell_type": "markdown",
   "metadata": {},
   "source": [
    "![](Quick_Sort.png)"
   ]
  },
  {
   "cell_type": "code",
   "execution_count": null,
   "metadata": {},
   "outputs": [],
   "source": [
    "# Based on partitioning of array into small array. Efficient in large dataset. Used divide and conqure method.\n",
    "# Average and Worst time compelxity is o(nlogn)\n",
    "\n",
    "# Pivot - Left and Right\n",
    "\n",
    "Temp = [44,33,11,55,77,90,40,60,99,22,88,66]\n",
    "\n",
    "# Let suppose pivot element is 44 so right to left scanning will be searching smaller element.\n",
    "# then we will search left to right bigger element .. we will do untill all the smaller element is on left side and big on right \n",
    "# side from the pivot element.\n"
   ]
  },
  {
   "cell_type": "markdown",
   "metadata": {},
   "source": [
    "Merge Sort"
   ]
  },
  {
   "cell_type": "markdown",
   "metadata": {},
   "source": [
    "![](merge_sort.png)"
   ]
  },
  {
   "cell_type": "code",
   "execution_count": null,
   "metadata": {},
   "outputs": [],
   "source": [
    "# Based on divide and conqure technique. Worst compelxity is o(nlogn)\n",
    "# Divides array into equals halves and merge them sorted manner.\n",
    "\n",
    "#Algorithms\n",
    "\n",
    "Temp = [36, 15, 11, 12 , 30, 45, 50, 20]\n",
    "\n",
    "#Break into two equal halfs.\n",
    "\n",
    "temp1 = [36, 15, 11,12] , temp2 = [30, 45, 50, 20]\n",
    "# Again break in two parts\n",
    "\n",
    "temp3 = [36, 15], temp 4 =[11, 12] and so on\n",
    "\n",
    "# Again Break into two parts\n",
    "\n",
    "temp 7 = [36], temp8 = [15] and so on \n",
    "\n"
   ]
  },
  {
   "cell_type": "code",
   "execution_count": null,
   "metadata": {},
   "outputs": [],
   "source": []
  },
  {
   "cell_type": "code",
   "execution_count": null,
   "metadata": {},
   "outputs": [],
   "source": []
  }
 ],
 "metadata": {
  "kernelspec": {
   "display_name": "Python 3",
   "language": "python",
   "name": "python3"
  },
  "language_info": {
   "codemirror_mode": {
    "name": "ipython",
    "version": 3
   },
   "file_extension": ".py",
   "mimetype": "text/x-python",
   "name": "python",
   "nbconvert_exporter": "python",
   "pygments_lexer": "ipython3",
   "version": "3.7.3"
  }
 },
 "nbformat": 4,
 "nbformat_minor": 2
}
