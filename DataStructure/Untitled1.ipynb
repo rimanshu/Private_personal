{
 "cells": [
  {
   "cell_type": "code",
   "execution_count": 5,
   "metadata": {},
   "outputs": [
    {
     "name": "stdout",
     "output_type": "stream",
     "text": [
      "4\n"
     ]
    }
   ],
   "source": [
    "def num_dig(dig):\n",
    "    counter = 0\n",
    "    dig=str(dig)\n",
    "    if dig[0] == \"-\":\n",
    "        dig = dig[1:]\n",
    "    for i in dig:\n",
    "        counter += 1\n",
    "    print(counter)\n",
    "    \n",
    "num_dig(-2344)"
   ]
  },
  {
   "cell_type": "code",
   "execution_count": 17,
   "metadata": {
    "scrolled": true
   },
   "outputs": [
    {
     "name": "stdout",
     "output_type": "stream",
     "text": [
      "{'If': 1, 'you': 2, 'are': 2, 'not': 1, 'located': 2, 'in': 1, 'the': 4, 'United': 1, 'States,': 1, 'you’ll\\nhave': 1, 'to': 1, 'check': 1, 'laws': 1, 'of': 2, 'country': 2, 'where': 1, 'before': 1, 'using': 1}\n"
     ]
    }
   ],
   "source": [
    "# import Counter \n",
    "\n",
    "str1 = \"\"\"If you are not located in the United States, you’ll\n",
    "have to check the laws of the country where you are located before using of the country\"\"\"\n",
    "\n",
    "dic ={}\n",
    "list1 = []\n",
    "\n",
    "for i in str1.split(\" \"):\n",
    "    if i in dic:\n",
    "        dic[i]+= 1\n",
    "    else:\n",
    "        dic[i] =1\n",
    "        \n",
    "print(dic)\n"
   ]
  },
  {
   "cell_type": "code",
   "execution_count": 15,
   "metadata": {
    "scrolled": true
   },
   "outputs": [
    {
     "name": "stdout",
     "output_type": "stream",
     "text": [
      "['If', 'you', 'are', 'not', 'located', 'in', 'the', 'United', 'States,', 'you’ll\\nhave', 'to', 'check', 'the', 'laws', 'of', 'the', 'country', 'where', 'you', 'are', 'located', 'before', 'using', 'of', 'the', 'country']\n"
     ]
    }
   ],
   "source": [
    "print(str1.split(\" \"))"
   ]
  },
  {
   "cell_type": "code",
   "execution_count": null,
   "metadata": {},
   "outputs": [],
   "source": [
    "Transaction Table\n",
    "\n",
    "Transaction ID\n",
    "\n",
    "Account ID\n",
    "\n",
    "Transaction Date\n",
    "\n",
    "Amount\n",
    "\n",
    "-----------------------------\n",
    "Account Table\n",
    "\n",
    "Account ID\n",
    "\n",
    "Account Name \n",
    "\n",
    "Branch ID\n",
    "-------------------------------------------\n",
    "Branch Table\n",
    "\n",
    "Branch ID\n",
    "\n",
    "Branch Name\n",
    "\n",
    "CITY\n",
    "\n",
    "IFSC CODE\n",
    "\n",
    "Manager\n",
    "\n",
    "\n",
    "In each city , find the branch name which had maximum transactions\n"
   ]
  },
  {
   "cell_type": "code",
   "execution_count": null,
   "metadata": {},
   "outputs": [],
   "source": [
    "select city, branch, dense_rank(over transaction order by transaction_id group by city, branch_name) as a from (select * from Transaction_tbl as ttbl inner join account_tbl atbl on ttbl.account_id = atbl.account_id) as tatbl\n",
    "inner join branch_tbl as btbl on tatbl.branch_id = btbl.branch_id where a = 1"
   ]
  },
  {
   "cell_type": "code",
   "execution_count": null,
   "metadata": {},
   "outputs": [],
   "source": []
  }
 ],
 "metadata": {
  "kernelspec": {
   "display_name": "Python 3",
   "language": "python",
   "name": "python3"
  },
  "language_info": {
   "codemirror_mode": {
    "name": "ipython",
    "version": 3
   },
   "file_extension": ".py",
   "mimetype": "text/x-python",
   "name": "python",
   "nbconvert_exporter": "python",
   "pygments_lexer": "ipython3",
   "version": "3.8.5"
  }
 },
 "nbformat": 4,
 "nbformat_minor": 4
}
