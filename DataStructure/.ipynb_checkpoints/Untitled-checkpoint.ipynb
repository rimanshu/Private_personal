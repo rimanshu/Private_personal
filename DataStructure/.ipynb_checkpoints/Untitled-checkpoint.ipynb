{
 "cells": [
  {
   "cell_type": "markdown",
   "metadata": {},
   "source": [
    "# 1) Two Sum\n",
    "\n",
    "Input: nums = [2,7,11,15], target = 9\n",
    "Output: [0,1]\n",
    "Explanation: Because nums[0] + nums[1] == 9, we return [0, 1]."
   ]
  },
  {
   "cell_type": "code",
   "execution_count": null,
   "metadata": {},
   "outputs": [],
   "source": [
    "class Solution:\n",
    "    def twoSum(self, nums: List[int], target: int) -> List[int]:\n",
    "        \n",
    "        if len(nums)<=0:\n",
    "            return False\n",
    "        dict1 = {}\n",
    "        length = len(nums)  \n",
    "        \n",
    "        for i in range(length):\n",
    "            if nums[i] in dict1:\n",
    "                return dict1[nums[i]], i\n",
    "            else:\n",
    "                dict1[target-nums[i]] = i #{7,0}\n",
    "        "
   ]
  },
  {
   "cell_type": "markdown",
   "metadata": {},
   "source": [
    "# 2) Minimum Number of Platforms Required for a Railway/Bus Station\n",
    "\n",
    "Input: arr[] = {9:00, 9:40, 9:50, 11:00, 15:00, 18:00} \n",
    "dep[] = {9:10, 12:00, 11:20, 11:30, 19:00, 20:00} \n",
    "Output: 3 \n",
    "Explanation: There are at-most three trains at a time (time between 9:40 to 12:00)\n",
    "\n",
    "Input: arr[] = {9:00, 9:40} \n",
    "dep[] = {9:10, 12:00} \n",
    "Output: 1 \n",
    "Explanation: Only one platform is needed. "
   ]
  },
  {
   "cell_type": "code",
   "execution_count": 11,
   "metadata": {},
   "outputs": [
    {
     "name": "stdout",
     "output_type": "stream",
     "text": [
      "3\n"
     ]
    }
   ],
   "source": [
    "arr = [900, 940, 950, 1100, 1500, 1800]\n",
    "dep = [910, 1200, 1120, 1130, 1900, 2000]\n",
    "\n",
    "\n",
    "def findPlatform(arr, dep, n):\n",
    "    \n",
    "    arr.sort()\n",
    "    dep.sort()\n",
    "\n",
    "    plt_needed = 1\n",
    "    result =1\n",
    "    i = 1\n",
    "    j=0\n",
    "\n",
    "    while (i< n and j< n):\n",
    "        if arr[i] < dep[j]:\n",
    "            plt_needed +=1\n",
    "            i+=1\n",
    "        elif arr[i] > dep[j]:\n",
    "            plt_needed -=1\n",
    "            j+=1\n",
    "\n",
    "        if plt_needed > result:\n",
    "            result = plt_needed\n",
    "    return result\n",
    "\n",
    "n = len(arr)\n",
    "\n",
    "print(findPlatform(arr, dep, n))"
   ]
  },
  {
   "cell_type": "markdown",
   "metadata": {},
   "source": [
    "# 3) Valid Parentheses, Short Python Solution, O(n), with Explanation\n",
    "\n",
    "Given a string s containing just the characters '(', ')', '{', '}', '[' and ']', determine if the input string is valid.\n",
    "\n",
    "Open brackets must be closed by the same type of brackets.\n",
    "Open brackets must be closed in the correct order.\n",
    "\n",
    "Input: s = \"{[]}\"\n",
    "Output: true\n",
    "\n",
    "Input: s = \"([)]\"\n",
    "Output: false\n",
    "\n",
    "https://levelup.gitconnected.com/valid-parentheses-python-8374c1612821"
   ]
  },
  {
   "cell_type": "code",
   "execution_count": 17,
   "metadata": {},
   "outputs": [
    {
     "name": "stdout",
     "output_type": "stream",
     "text": [
      "True\n"
     ]
    }
   ],
   "source": [
    "def isValid(s):\n",
    "    pair = dict(('()', '[]', '{}'))\n",
    "    st = []\n",
    "    for x in s:\n",
    "        if x in '([{':\n",
    "            st.append(x)\n",
    "        elif len(st) == 0 or x != pair[st.pop()]:\n",
    "            return False\n",
    "    return len(st) == 0\n",
    "\n",
    "print(isValid(\"{([])}\"))"
   ]
  },
  {
   "cell_type": "markdown",
   "metadata": {},
   "source": [
    "# 4) Best Time to Buy and Sell Stock\n",
    "\n",
    "Input: prices = [7,1,5,3,6,4]\n",
    "Output: 5\n",
    "Explanation: Buy on day 2 (price = 1) and sell on day 5 (price = 6), profit = 6-1 = 5.\n",
    "Note that buying on day 2 and selling on day 1 is not allowed because you must buy before you sell.\n",
    "\n",
    "https://www.youtube.com/watch?v=FsigpyvLPHA&list=PLYAlGR1wWgUUyYZ3wX2GdnhiL-QVhAXfR&index=45"
   ]
  },
  {
   "cell_type": "code",
   "execution_count": 21,
   "metadata": {},
   "outputs": [
    {
     "name": "stdout",
     "output_type": "stream",
     "text": [
      "5\n"
     ]
    }
   ],
   "source": [
    "prices = [7,1,5,3,6,4]\n",
    "\n",
    "def maxProfit(prices):\n",
    "    \n",
    "    if not prices:\n",
    "        return 0\n",
    "    \n",
    "    ans = 0\n",
    "    mini = prices[0]\n",
    "    \n",
    "    for i in range(1,len(prices)):\n",
    "        if prices[i] < mini:\n",
    "            mini = prices[i]\n",
    "        else:\n",
    "            ans = max(ans, prices[i]-mini)\n",
    "    return ans\n",
    "\n",
    "print(maxProfit(prices))"
   ]
  },
  {
   "cell_type": "markdown",
   "metadata": {},
   "source": [
    "# 5) Rectangle-overlap\n",
    "\n",
    "\"\"\"\n",
    "A rectangle is represented as a list [x1, y1, x2, y2], where (x1, y1) are the coordinates of its bottom-left corner, and (x2, y2) are the coordinates of its top-right corner.\n",
    "Two rectangles overlap if the area of their intersection is positive.  To be clear, two rectangles that only touch at the corner or edges do not overlap.\n",
    "Given two (axis-aligned) rectangles, return whether they overlap.\n",
    "\n",
    "Input: rec1 = [0,0,2,2], rec2 = [1,1,3,3]\n",
    "Output: true\n",
    "Example 2:\n",
    "Input: rec1 = [0,0,1,1], rec2 = [1,0,2,1]\n",
    "Output: false"
   ]
  },
  {
   "cell_type": "code",
   "execution_count": 32,
   "metadata": {},
   "outputs": [
    {
     "data": {
      "text/plain": [
       "True"
      ]
     },
     "execution_count": 32,
     "metadata": {},
     "output_type": "execute_result"
    }
   ],
   "source": [
    "rec1 = [0,0,2,2]\n",
    "rec2 = [1,0,3,3] \n",
    "\n",
    "def isRectangleOverlap(rec1, rec2):\n",
    "    \"\"\"\n",
    "    :type rec1: List[int]\n",
    "    :type rec2: List[int]\n",
    "    :rtype: bool\n",
    "    \"\"\"\n",
    "    if rec2[2] <= rec1[0]:\n",
    "        return False\n",
    "    if rec2[0] >= rec1[2]:\n",
    "        return False\n",
    "    if rec2[1] >= rec1[3]:\n",
    "        return False\n",
    "    if rec2[3] <= rec1[1]:\n",
    "        return False\n",
    "    return True\n",
    "\n",
    "isRectangleOverlap(rec1, rec2)"
   ]
  },
  {
   "cell_type": "markdown",
   "metadata": {},
   "source": [
    "# 6) uncommon-words-from-two-sentences\n",
    "\n",
    "Example 1:\n",
    " Input: A = \"this apple is sweet\", B = \"this apple is sour\"\n",
    " Output: [\"sweet\",\"sour\"]\n",
    " Example 2:\n",
    " Input: A = \"apple apple\", B = \"banana\"\n",
    " Output: [\"banana\"]\n",
    " \n",
    " https://github.com/rimanshu/leetcode-solutions/blob/master/algorithms/uncommon-words-from-two-sentences/Solution.py"
   ]
  },
  {
   "cell_type": "code",
   "execution_count": null,
   "metadata": {},
   "outputs": [],
   "source": [
    "def uncommonFromSentences(self, A, B):\n",
    "    \"\"\"\n",
    "    :type A: str\n",
    "    :type B: str\n",
    "    :rtype: List[str]\n",
    "    \"\"\"\n",
    "    words = {}\n",
    "    for word in A.split(' '):\n",
    "        if word not in words:\n",
    "            words[word] = 0\n",
    "        words[word] += 1\n",
    "    for word in B.split(' '):\n",
    "        if word not in words:\n",
    "            words[word] = 0\n",
    "        words[word] += 1\n",
    "    ret = []\n",
    "    for word, num in words.iteritems():\n",
    "        if num == 1:\n",
    "            ret.append(word)\n",
    "    return ret"
   ]
  },
  {
   "cell_type": "code",
   "execution_count": null,
   "metadata": {},
   "outputs": [],
   "source": []
  },
  {
   "cell_type": "code",
   "execution_count": null,
   "metadata": {},
   "outputs": [],
   "source": []
  }
 ],
 "metadata": {
  "kernelspec": {
   "display_name": "Python 3",
   "language": "python",
   "name": "python3"
  },
  "language_info": {
   "codemirror_mode": {
    "name": "ipython",
    "version": 3
   },
   "file_extension": ".py",
   "mimetype": "text/x-python",
   "name": "python",
   "nbconvert_exporter": "python",
   "pygments_lexer": "ipython3",
   "version": "3.8.5"
  }
 },
 "nbformat": 4,
 "nbformat_minor": 4
}
