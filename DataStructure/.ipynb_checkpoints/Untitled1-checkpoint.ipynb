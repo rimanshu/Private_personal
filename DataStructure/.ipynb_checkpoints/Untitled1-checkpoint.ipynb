{
 "cells": [
  {
   "cell_type": "code",
   "execution_count": 5,
   "metadata": {},
   "outputs": [
    {
     "name": "stdout",
     "output_type": "stream",
     "text": [
      "4\n"
     ]
    }
   ],
   "source": [
    "def num_dig(dig):\n",
    "    counter = 0\n",
    "    dig=str(dig)\n",
    "    if dig[0] == \"-\":\n",
    "        dig = dig[1:]\n",
    "    for i in dig:\n",
    "        counter += 1\n",
    "    print(counter)\n",
    "    \n",
    "num_dig(-2344)"
   ]
  },
  {
   "cell_type": "code",
   "execution_count": 17,
   "metadata": {
    "scrolled": true
   },
   "outputs": [
    {
     "name": "stdout",
     "output_type": "stream",
     "text": [
      "{'If': 1, 'you': 2, 'are': 2, 'not': 1, 'located': 2, 'in': 1, 'the': 4, 'United': 1, 'States,': 1, 'you’ll\\nhave': 1, 'to': 1, 'check': 1, 'laws': 1, 'of': 2, 'country': 2, 'where': 1, 'before': 1, 'using': 1}\n"
     ]
    }
   ],
   "source": [
    "# import Counter \n",
    "\n",
    "str1 = \"\"\"If you are not located in the United States, you’ll\n",
    "have to check the laws of the country where you are located before using of the country\"\"\"\n",
    "\n",
    "dic ={}\n",
    "list1 = []\n",
    "\n",
    "for i in str1.split(\" \"):\n",
    "    if i in dic:\n",
    "        dic[i]+= 1\n",
    "    else:\n",
    "        dic[i] =1\n",
    "        \n",
    "print(dic)\n"
   ]
  },
  {
   "cell_type": "code",
   "execution_count": 15,
   "metadata": {
    "scrolled": true
   },
   "outputs": [
    {
     "name": "stdout",
     "output_type": "stream",
     "text": [
      "['If', 'you', 'are', 'not', 'located', 'in', 'the', 'United', 'States,', 'you’ll\\nhave', 'to', 'check', 'the', 'laws', 'of', 'the', 'country', 'where', 'you', 'are', 'located', 'before', 'using', 'of', 'the', 'country']\n"
     ]
    }
   ],
   "source": [
    "print(str1.split(\" \"))"
   ]
  },
  {
   "cell_type": "code",
   "execution_count": null,
   "metadata": {},
   "outputs": [],
   "source": [
    "Transaction Table\n",
    "\n",
    "Transaction ID\n",
    "\n",
    "Account ID\n",
    "\n",
    "Transaction Date\n",
    "\n",
    "Amount\n",
    "\n",
    "-----------------------------\n",
    "Account Table\n",
    "\n",
    "Account ID\n",
    "\n",
    "Account Name \n",
    "\n",
    "Branch ID\n",
    "-------------------------------------------\n",
    "Branch Table\n",
    "\n",
    "Branch ID\n",
    "\n",
    "Branch Name\n",
    "\n",
    "CITY\n",
    "\n",
    "IFSC CODE\n",
    "\n",
    "Manager\n",
    "\n",
    "\n",
    "In each city , find the branch name which had maximum transactions\n"
   ]
  },
  {
   "cell_type": "code",
   "execution_count": null,
   "metadata": {},
   "outputs": [],
   "source": [
    "select city, branch, dense_rank(over transaction order by transaction_id group by city, branch_name) as a from (select * from Transaction_tbl as ttbl inner join account_tbl atbl on ttbl.account_id = atbl.account_id) as tatbl\n",
    "inner join branch_tbl as btbl on tatbl.branch_id = btbl.branch_id where a = 1"
   ]
  },
  {
   "cell_type": "code",
   "execution_count": null,
   "metadata": {},
   "outputs": [],
   "source": [
    "select * from table_name where salary < (select count(distinct(salary) from table_name) order by salary desc limit 1"
   ]
  },
  {
   "cell_type": "code",
   "execution_count": null,
   "metadata": {},
   "outputs": [],
   "source": []
  },
  {
   "cell_type": "code",
   "execution_count": 78,
   "metadata": {},
   "outputs": [
    {
     "name": "stdout",
     "output_type": "stream",
     "text": [
      "[0, 1, 1, 2, 3, 5, 8, 13, 21]\n"
     ]
    }
   ],
   "source": [
    "def num(n):\n",
    "    result = []\n",
    "    if n == 0:\n",
    "        return 0\n",
    "    if n ==1 or n== 2:\n",
    "        return 1\n",
    "    return num(n-1) + num(n-2)\n",
    "\n",
    "def test(n):\n",
    "    for i in range(0,n):\n",
    "        res.append(num(i))\n",
    "    return res\n",
    "\n",
    "print(test(9))"
   ]
  },
  {
   "cell_type": "code",
   "execution_count": 83,
   "metadata": {},
   "outputs": [
    {
     "name": "stdout",
     "output_type": "stream",
     "text": [
      "55\n"
     ]
    }
   ],
   "source": [
    "lis = [0,1,1,2,3,5,8,13,21]\n",
    "\n",
    "def num(n):\n",
    "    result = []\n",
    "    if n< len(lis):\n",
    "        return lis[n-1]\n",
    "    else:\n",
    "        temp = int(num(n-1)) + int(num(n-2))\n",
    "        lis.append(temp)\n",
    "        return temp\n",
    "print(num(11))"
   ]
  },
  {
   "cell_type": "code",
   "execution_count": 86,
   "metadata": {},
   "outputs": [
    {
     "name": "stdout",
     "output_type": "stream",
     "text": [
      "{'A': 2, 'B': 1, 'G': 2, 'C': 2}\n"
     ]
    }
   ],
   "source": [
    "list_ = [\"A\", \"B\", \"G\", \"A\", \"G\", \"C\", \"C\"]\n",
    "\n",
    "def freq_count(list_):\n",
    "    dic = {}\n",
    "    \n",
    "    for i in list_:\n",
    "        if i not in dic:\n",
    "            dic[i] = 1\n",
    "        else:\n",
    "            dic[i] += 1\n",
    "    return dic\n",
    "\n",
    "print(freq_count(list_))"
   ]
  },
  {
   "cell_type": "code",
   "execution_count": 107,
   "metadata": {},
   "outputs": [
    {
     "name": "stdout",
     "output_type": "stream",
     "text": [
      "[0, 1, 1, 2, 3, 5, 8, 13, 21, 34, 55]\n"
     ]
    }
   ],
   "source": [
    "def fibonacci(n):\n",
    "    sequence = [0,1]\n",
    "    for i in range(2,n+1):\n",
    "        next_num = sequence[-1] + sequence[-2]\n",
    "        sequence.append(next_num)\n",
    "    return sequence\n",
    "\n",
    "sequence = fibonacci(10)\n",
    "print(sequence)"
   ]
  },
  {
   "cell_type": "code",
   "execution_count": 118,
   "metadata": {},
   "outputs": [
    {
     "name": "stdout",
     "output_type": "stream",
     "text": [
      "(['sweet', 'sour'], {'this': 2, 'apple': 2, 'is': 2, 'sweet': 1, 'sour': 1})\n"
     ]
    }
   ],
   "source": [
    "A = \"this apple is sweet\"\n",
    "B = \"this apple is sour\"\n",
    "    \n",
    "def uncommon_words(A,B):\n",
    "    dic = {}\n",
    "    \n",
    "    for word in A.split(' '):\n",
    "        if word not in dic:\n",
    "            dic[word] =0\n",
    "        dic[word] += 1\n",
    "        \n",
    "    for word in B.split(' '):\n",
    "        if word not in dic:\n",
    "              dic[word] =0\n",
    "        dic[word] += 1\n",
    "    \n",
    "    res = []\n",
    "    \n",
    "    for key, value in dic.items():\n",
    "        if value == 1:\n",
    "            res.append(key)\n",
    "    return res, dic\n",
    "\n",
    "print(uncommon_words(A,B))\n",
    "    "
   ]
  },
  {
   "cell_type": "code",
   "execution_count": 127,
   "metadata": {},
   "outputs": [
    {
     "name": "stdout",
     "output_type": "stream",
     "text": [
      "True\n"
     ]
    }
   ],
   "source": [
    "def isValid(s):\n",
    "    dic = {'(':')','[':']','{':'}'}\n",
    "    st = []\n",
    "    for i in s:\n",
    "        if i in \"({[\":\n",
    "            st.append(i) \n",
    "        elif len(st) == 0 or i != dic[st.pop()]:\n",
    "            return False\n",
    "    return True\n",
    "        \n",
    "print(isValid(\"{([])}\"))"
   ]
  },
  {
   "cell_type": "code",
   "execution_count": null,
   "metadata": {},
   "outputs": [],
   "source": [
    "class Solution:\n",
    "   def isValid( self, sequence ):\n",
    "       '''\n",
    "       Function to check if sequence contains valid parenthesis\n",
    "       :param sequence: Sequence of brackets\n",
    "       :return: True is sequence is valid else False\n",
    "       '''\n",
    "       # Replace the proper pairs until sequence becomes empty or no pairs are present\n",
    "       while True:\n",
    "           if '()' in sequence :\n",
    "               sequence = sequence.replace ( '()' , '' )\n",
    "           elif '{}' in sequence :\n",
    "               sequence = sequence.replace ( '{}' , '' )\n",
    "           elif '[]' in sequence :\n",
    "               sequence = sequence.replace ( '[]' , '' )\n",
    "           else :\n",
    "               return not sequence\n",
    "\n",
    "if __name__ == '__main__':\n",
    "   sequence = '{[()]}'\n",
    "   print(f'Is {sequence} valid ? : {Solution().isValid(sequence)}')\n",
    "   sequence1 = '{[()]}{]{}}'\n",
    "   print(f'Is {sequence1} valid ? : {Solution().isValid (sequence1)}')\n",
    "Output\n",
    "Is {[()]} valid ? : True\n",
    "Is {[()]}{]{}} valid ? : False"
   ]
  },
  {
   "cell_type": "code",
   "execution_count": null,
   "metadata": {},
   "outputs": [],
   "source": [
    "https://favtutor.com/blogs/valid-parentheses"
   ]
  },
  {
   "cell_type": "code",
   "execution_count": null,
   "metadata": {},
   "outputs": [],
   "source": []
  },
  {
   "cell_type": "code",
   "execution_count": null,
   "metadata": {},
   "outputs": [],
   "source": [
    "Dataframe with 3 columns: State, City, Population\n",
    "\n",
    "Can you write a code in python to identify cities with population higher than State average"
   ]
  },
  {
   "cell_type": "code",
   "execution_count": 129,
   "metadata": {},
   "outputs": [],
   "source": [
    "import pandas ad pd\n",
    "df[['Cities','Population']] = df[df['Population'] > df['State']]\n",
    "\n",
    "df_cities_avg = df.groupby('State')['Population'].mean().reset_index()\n",
    "\n",
    "for i in df():\n",
    "    if i.state == df_cities_avg['state'] and i.population > df_cities_avg['Population']:\n",
    "        print(i.cities)\n",
    "\n"
   ]
  },
  {
   "cell_type": "code",
   "execution_count": null,
   "metadata": {},
   "outputs": [],
   "source": [
    "s1 c1 p1\n",
    "Up Kanpur 10000\n",
    "Up Agra   8000\n",
    "MP Bhopal  11000\n",
    "MP Indore 9000\n",
    "HR Gurgaoun 6000"
   ]
  },
  {
   "cell_type": "code",
   "execution_count": 144,
   "metadata": {},
   "outputs": [
    {
     "name": "stdout",
     "output_type": "stream",
     "text": [
      "xxxx\n",
      "xxx\n",
      "xx\n",
      "x\n"
     ]
    }
   ],
   "source": [
    "# X\n",
    "# X X\n",
    "# X X X \n",
    "# X X X X\n",
    "\n",
    "for i in range(4,0,-1):\n",
    "    res = i*'x'\n",
    "    print(res)\n"
   ]
  },
  {
   "cell_type": "code",
   "execution_count": 155,
   "metadata": {},
   "outputs": [
    {
     "name": "stdout",
     "output_type": "stream",
     "text": [
      "321\n"
     ]
    }
   ],
   "source": [
    "num = 123\n",
    "rev = 0\n",
    "while num >0:\n",
    "    a = num%10\n",
    "    rev = rev*10 +a\n",
    "    num = num //10\n",
    "\n",
    "print(rev)"
   ]
  },
  {
   "cell_type": "code",
   "execution_count": null,
   "metadata": {},
   "outputs": [],
   "source": []
  },
  {
   "cell_type": "code",
   "execution_count": null,
   "metadata": {},
   "outputs": [],
   "source": []
  },
  {
   "cell_type": "code",
   "execution_count": null,
   "metadata": {},
   "outputs": [],
   "source": []
  },
  {
   "cell_type": "code",
   "execution_count": 24,
   "metadata": {},
   "outputs": [
    {
     "name": "stdout",
     "output_type": "stream",
     "text": [
      "['b', 'a', 'bab', 'a', 'd']\n",
      "bab\n",
      "['G', 'e', 'e', 'k', 's']\n",
      "G\n",
      "['f', 'o', 'r', 'g', 'e', 'e', 'k', 's', 's', 'k', 'e', 'e', 'g', 'f', 'o', 'r']\n",
      "f\n"
     ]
    }
   ],
   "source": [
    "Input = \"babad\"\n",
    "Output = \"bab\"\n",
    "# Explanation: \"aba\" is also a valid answer.\n",
    "\n",
    "\n",
    "def max_sub_palindrom(input_str):\n",
    "    temp = ''\n",
    "    lis = []\n",
    "    counter =0\n",
    "    for i in input_str:\n",
    "        temp = temp + i\n",
    "        if temp == temp[::-1]:\n",
    "            lis.append(temp)\n",
    "        else:\n",
    "            temp1 = temp[counter:] \n",
    "            if temp1 == temp1[::-1]:\n",
    "                lis.append(temp1)\n",
    "            counter += 1\n",
    "    print(lis)\n",
    "    max_palindrom = max(lis, key= len)\n",
    "    return max_palindrom  \n",
    "\n",
    "print(max_sub_palindrom(\"babad\"))\n",
    "print(max_sub_palindrom(\"Geeks\"))\n",
    "# print(max_sub_palindrom(\"forgeeksskeegfor\"))"
   ]
  },
  {
   "cell_type": "code",
   "execution_count": 59,
   "metadata": {},
   "outputs": [
    {
     "name": "stdout",
     "output_type": "stream",
     "text": [
      "Success\n"
     ]
    }
   ],
   "source": [
    "V = ['A','E','I','O','U']\n",
    "S = ['password@123', 'XYZabcd', 'LMN123', 'ZZZZ78910']\n",
    "I = [\"h\",\"e\",\"l\",\"l\",\"o\"]\n",
    "\n",
    "dic = {k:v for v,k in enumerate(V)}\n",
    "\n",
    "# print(*(dic[k] for k in I))\n",
    "\n",
    "for i in V:\n",
    "    if 'A' in 'RIMANSHU':\n",
    "        print('Success')"
   ]
  },
  {
   "cell_type": "code",
   "execution_count": 26,
   "metadata": {},
   "outputs": [
    {
     "name": "stdout",
     "output_type": "stream",
     "text": [
      "[0 0 1 2 0] Index(['Tom', 'krish', 'jack'], dtype='object')\n"
     ]
    },
    {
     "data": {
      "text/plain": [
       "Tom      20\n",
       "krish    19\n",
       "jack     18\n",
       "dtype: int64"
      ]
     },
     "execution_count": 26,
     "metadata": {},
     "output_type": "execute_result"
    }
   ],
   "source": [
    "import pandas as pd\n",
    "import numpy as np\n",
    "\n",
    "data = {'Name':['Tom', 'Tom', 'krish', 'jack','Tom'], 'Age':[20, 21, 19, 18,25]}\n",
    " \n",
    "# Create DataFrame\n",
    "df = pd.DataFrame(data)\n",
    "# df.groupby('Name').mean()\n",
    "\n",
    "\n",
    "i, r = pd.factorize(df.Name)\n",
    "print(i, r)\n",
    "j, c = pd.factorize(df.Age)\n",
    "n, m = len(r), len(c)\n",
    "\n",
    "b = np.zeros((n, m), dtype=np.int64)\n",
    "\n",
    "np.add.at(b, (i, j), 1)\n",
    "pd.Series(c[b.argmax(1)], r)\n",
    "\n",
    "# John     White\n",
    "# Tom       Blue\n",
    "# Jerry    Black\n"
   ]
  },
  {
   "cell_type": "code",
   "execution_count": 447,
   "metadata": {},
   "outputs": [
    {
     "data": {
      "text/html": [
       "<div>\n",
       "<style scoped>\n",
       "    .dataframe tbody tr th:only-of-type {\n",
       "        vertical-align: middle;\n",
       "    }\n",
       "\n",
       "    .dataframe tbody tr th {\n",
       "        vertical-align: top;\n",
       "    }\n",
       "\n",
       "    .dataframe thead th {\n",
       "        text-align: right;\n",
       "    }\n",
       "</style>\n",
       "<table border=\"1\" class=\"dataframe\">\n",
       "  <thead>\n",
       "    <tr style=\"text-align: right;\">\n",
       "      <th></th>\n",
       "      <th>A</th>\n",
       "      <th>B</th>\n",
       "    </tr>\n",
       "  </thead>\n",
       "  <tbody>\n",
       "    <tr>\n",
       "      <th>0</th>\n",
       "      <td>a</td>\n",
       "      <td>1</td>\n",
       "    </tr>\n",
       "    <tr>\n",
       "      <th>1</th>\n",
       "      <td>a</td>\n",
       "      <td>9</td>\n",
       "    </tr>\n",
       "    <tr>\n",
       "      <th>2</th>\n",
       "      <td>b</td>\n",
       "      <td>2</td>\n",
       "    </tr>\n",
       "    <tr>\n",
       "      <th>3</th>\n",
       "      <td>b</td>\n",
       "      <td>4</td>\n",
       "    </tr>\n",
       "    <tr>\n",
       "      <th>4</th>\n",
       "      <td>c</td>\n",
       "      <td>7</td>\n",
       "    </tr>\n",
       "    <tr>\n",
       "      <th>5</th>\n",
       "      <td>c</td>\n",
       "      <td>8</td>\n",
       "    </tr>\n",
       "    <tr>\n",
       "      <th>6</th>\n",
       "      <td>c</td>\n",
       "      <td>2</td>\n",
       "    </tr>\n",
       "    <tr>\n",
       "      <th>7</th>\n",
       "      <td>a</td>\n",
       "      <td>1</td>\n",
       "    </tr>\n",
       "    <tr>\n",
       "      <th>8</th>\n",
       "      <td>a</td>\n",
       "      <td>8</td>\n",
       "    </tr>\n",
       "    <tr>\n",
       "      <th>9</th>\n",
       "      <td>b</td>\n",
       "      <td>9</td>\n",
       "    </tr>\n",
       "  </tbody>\n",
       "</table>\n",
       "</div>"
      ],
      "text/plain": [
       "   A  B\n",
       "0  a  1\n",
       "1  a  9\n",
       "2  b  2\n",
       "3  b  4\n",
       "4  c  7\n",
       "5  c  8\n",
       "6  c  2\n",
       "7  a  1\n",
       "8  a  8\n",
       "9  b  9"
      ]
     },
     "execution_count": 447,
     "metadata": {},
     "output_type": "execute_result"
    }
   ],
   "source": [
    "import pandas as pd\n",
    "df = pd.DataFrame({'A':['a','a','b','b','c','c','c','a','a','b'],'B':[1,9,2,4,7,8,2,1,8,9]})\n",
    "df"
   ]
  },
  {
   "cell_type": "code",
   "execution_count": 450,
   "metadata": {},
   "outputs": [
    {
     "data": {
      "text/html": [
       "<div>\n",
       "<style scoped>\n",
       "    .dataframe tbody tr th:only-of-type {\n",
       "        vertical-align: middle;\n",
       "    }\n",
       "\n",
       "    .dataframe tbody tr th {\n",
       "        vertical-align: top;\n",
       "    }\n",
       "\n",
       "    .dataframe thead th {\n",
       "        text-align: right;\n",
       "    }\n",
       "</style>\n",
       "<table border=\"1\" class=\"dataframe\">\n",
       "  <thead>\n",
       "    <tr style=\"text-align: right;\">\n",
       "      <th></th>\n",
       "      <th>A</th>\n",
       "      <th>B</th>\n",
       "    </tr>\n",
       "  </thead>\n",
       "  <tbody>\n",
       "    <tr>\n",
       "      <th>0</th>\n",
       "      <td>a</td>\n",
       "      <td>10</td>\n",
       "    </tr>\n",
       "    <tr>\n",
       "      <th>1</th>\n",
       "      <td>b</td>\n",
       "      <td>6</td>\n",
       "    </tr>\n",
       "    <tr>\n",
       "      <th>2</th>\n",
       "      <td>c</td>\n",
       "      <td>17</td>\n",
       "    </tr>\n",
       "    <tr>\n",
       "      <th>3</th>\n",
       "      <td>a</td>\n",
       "      <td>9</td>\n",
       "    </tr>\n",
       "    <tr>\n",
       "      <th>4</th>\n",
       "      <td>b</td>\n",
       "      <td>9</td>\n",
       "    </tr>\n",
       "  </tbody>\n",
       "</table>\n",
       "</div>"
      ],
      "text/plain": [
       "   A   B\n",
       "0  a  10\n",
       "1  b   6\n",
       "2  c  17\n",
       "3  a   9\n",
       "4  b   9"
      ]
     },
     "execution_count": 450,
     "metadata": {},
     "output_type": "execute_result"
    }
   ],
   "source": [
    "import pandas as pd\n",
    "\n",
    "def local_groupby(A,B):\n",
    "    \n",
    "    A_list = list(A)\n",
    "    B_list = list(B)\n",
    "\n",
    "    rank_list = zip_list = []\n",
    "    counter = group_sum = 0\n",
    "    samp_dict = {}\n",
    "    \n",
    "    for i in range(len(A_list)):\n",
    "        \n",
    "        # Ranking of elements according to local group logic\n",
    "        if A_list[i] != A_list[i-1]:\n",
    "            counter += 1\n",
    "        rank_list.append(counter)\n",
    "        \n",
    "        # Zipping three list to iterate along groups\n",
    "        zip_list=list(zip(A_list, B_list,rank_list))\n",
    "        \n",
    "        # Chekcing two or more consecutive elements falls in same groups if yes, then add values\n",
    "        if zip_list[i][2] == zip_list[i-1][2] :\n",
    "            group_sum = zip_list[i][1] + group_sum\n",
    "            samp_dict[zip_list[i][2]] = group_sum\n",
    "        else:\n",
    "            group_sum = 0\n",
    "            group_sum = zip_list[i][1]\n",
    "            samp_dict[zip_list[i][2]] = group_sum\n",
    "    \n",
    "    # unzipping three list ----> A column, B column, group sum\n",
    "    zip_list = list(zip(*zip_list))\n",
    "    del zip_list[1] # deleting B column values\n",
    "    \n",
    "    zip_list = zip(list(zip_list[0]),list(zip_list[1]))\n",
    "    \n",
    "    # Remove Duplicates according to groups.\n",
    "    zip_list = list(dict.fromkeys(zip_list))\n",
    "    \n",
    "    zip_list = list(zip(*zip_list)) # [('a', 'b', 'c', 'a', 'b'), (1, 2, 3, 4, 5)]\n",
    "\n",
    "    # Making DataFrame with Local group Sum.\n",
    "    grouped_df = pd.DataFrame({'A':list(zip_list[0]), 'B':samp_dict.values()})\n",
    "    return grouped_df\n",
    "\n",
    "\n",
    "df = pd.DataFrame({'A':['a','a','b','b','c','c','c','a','a','b'],'B':[1,9,2,4,7,8,2,1,8,9]})\n",
    "\n",
    "local_groupby(df['A'],df['B'])"
   ]
  },
  {
   "cell_type": "code",
   "execution_count": 392,
   "metadata": {},
   "outputs": [
    {
     "name": "stdout",
     "output_type": "stream",
     "text": [
      "('a', 1, 1) Second ...  ('a', 1, 1)\n",
      "Sum is .. 1 and i is  0\n",
      "('a', 9, 1) Second ...  ('a', 1, 1)\n",
      "Sum is .. 10 and i is  1\n",
      "('b', 2, 2) Second ...  ('a', 9, 1)\n",
      "else Sum is .. 2 and i is  2\n",
      "('b', 4, 2) Second ...  ('b', 2, 2)\n",
      "Sum is .. 6 and i is  3\n",
      "('c', 7, 3) Second ...  ('b', 4, 2)\n",
      "else Sum is .. 7 and i is  4\n",
      "('c', 8, 3) Second ...  ('c', 7, 3)\n",
      "Sum is .. 15 and i is  5\n",
      "('c', 2, 3) Second ...  ('c', 8, 3)\n",
      "Sum is .. 17 and i is  6\n",
      "('a', 1, 4) Second ...  ('c', 2, 3)\n",
      "else Sum is .. 1 and i is  7\n",
      "('a', 8, 4) Second ...  ('a', 1, 4)\n",
      "Sum is .. 9 and i is  8\n",
      "('b', 9, 5) Second ...  ('a', 8, 4)\n",
      "else Sum is .. 9 and i is  9\n",
      "[('a', 'b', 'c', 'a', 'b'), (1, 2, 3, 4, 5)]\n",
      "{1: 10, 2: 6, 3: 17, 4: 9, 5: 9}\n"
     ]
    },
    {
     "data": {
      "text/html": [
       "<div>\n",
       "<style scoped>\n",
       "    .dataframe tbody tr th:only-of-type {\n",
       "        vertical-align: middle;\n",
       "    }\n",
       "\n",
       "    .dataframe tbody tr th {\n",
       "        vertical-align: top;\n",
       "    }\n",
       "\n",
       "    .dataframe thead th {\n",
       "        text-align: right;\n",
       "    }\n",
       "</style>\n",
       "<table border=\"1\" class=\"dataframe\">\n",
       "  <thead>\n",
       "    <tr style=\"text-align: right;\">\n",
       "      <th></th>\n",
       "      <th>Name</th>\n",
       "      <th>Age</th>\n",
       "    </tr>\n",
       "  </thead>\n",
       "  <tbody>\n",
       "    <tr>\n",
       "      <th>0</th>\n",
       "      <td>a</td>\n",
       "      <td>10</td>\n",
       "    </tr>\n",
       "    <tr>\n",
       "      <th>1</th>\n",
       "      <td>b</td>\n",
       "      <td>6</td>\n",
       "    </tr>\n",
       "    <tr>\n",
       "      <th>2</th>\n",
       "      <td>c</td>\n",
       "      <td>17</td>\n",
       "    </tr>\n",
       "    <tr>\n",
       "      <th>3</th>\n",
       "      <td>a</td>\n",
       "      <td>9</td>\n",
       "    </tr>\n",
       "    <tr>\n",
       "      <th>4</th>\n",
       "      <td>b</td>\n",
       "      <td>9</td>\n",
       "    </tr>\n",
       "  </tbody>\n",
       "</table>\n",
       "</div>"
      ],
      "text/plain": [
       "  Name  Age\n",
       "0    a   10\n",
       "1    b    6\n",
       "2    c   17\n",
       "3    a    9\n",
       "4    b    9"
      ]
     },
     "execution_count": 392,
     "metadata": {},
     "output_type": "execute_result"
    }
   ],
   "source": [
    "import pandas as pd\n",
    "\n",
    "# data = {'Name':['jack','jack','Tom','Tom','jack','jack','jack','jack','Tom','abc'], \n",
    "#         'Age':[10,20,30,40,50,60,70,80,90,100]}\n",
    " \n",
    "# df = pd.DataFrame(data)\n",
    "# # df\n",
    "name_list = list(df['Name'])\n",
    "age_list = list(df['Age'])\n",
    "\n",
    "\n",
    "rank_list = []\n",
    "counter = 0\n",
    "test = 0\n",
    "age = 0\n",
    "dic_sam = {}\n",
    "for i in range(len(name_list)):\n",
    "    if name_list[i] == name_list[i-1]:\n",
    "        counter = counter\n",
    "    else:\n",
    "        counter += 1\n",
    "    rank_list.append(counter)\n",
    "    \n",
    "    test=list(zip(name_list, age_list,rank_list))\n",
    "\n",
    "    print(test[i],'Second ... ', test[i-1])\n",
    "    if test[i][0] == test[i-1][0] :\n",
    "        age = test[i][1] + age\n",
    "        print('Sum is ..', age ,'and i is ', i)\n",
    "        dic_sam[test[i][2]] = age\n",
    "        \n",
    "    else:\n",
    "        age = 0\n",
    "        age = test[i][1]\n",
    "        print('else Sum is ..', age ,'and i is ', i)\n",
    "        dic_sam[test[i][2]] = age\n",
    "        \n",
    "test = list(zip(*test))\n",
    "del test[1]\n",
    "test = zip(list(test[0]),list(test[1]))\n",
    "test = list(dict.fromkeys(test))\n",
    "test = list(zip(*test))\n",
    "print(list(dict.fromkeys(test)))\n",
    "\n",
    "print(dic_sam)\n",
    "\n",
    "\n",
    "df_1 = pd.DataFrame({'Name':list(test[0]), 'Age':dic_sam.values()})\n",
    "df_1.head()"
   ]
  },
  {
   "cell_type": "code",
   "execution_count": 348,
   "metadata": {},
   "outputs": [
    {
     "name": "stdout",
     "output_type": "stream",
     "text": [
      "dict_values([30, 70, 260, 90, 100])\n"
     ]
    }
   ],
   "source": [
    "test_list = [('jack', 'Tom', 'jack', 'Tom', 'abc'), (1, 2, 3, 4, 5)]\n",
    "test_dic = {1: 30, 2: 70, 3: 260, 4: 90, 5: 100}\n",
    "\n",
    "#test_dic.keys() = test_list[0]\n",
    "print(test_dic.values())\n"
   ]
  },
  {
   "cell_type": "code",
   "execution_count": 594,
   "metadata": {},
   "outputs": [
    {
     "name": "stdout",
     "output_type": "stream",
     "text": [
      "[[  0.  32. -11.  32.  72.   0.   0.   0.]\n",
      " [ 32.   0.  72.   1. -36.   0.   0.   0.]\n",
      " [  1.   0. -36.   0.   8.   0.   0.   0.]\n",
      " [ -4.  32.   8.   1.  12.   0.   0.   0.]\n",
      " [  0.   0.   0.   0.   0.   0.   0.   0.]\n",
      " [  0.   1.  32.   1.   0.   0.   0.   0.]\n",
      " [  8.   0.   0.   0.   3.   0.   0.   0.]\n",
      " [  0.   0.   0.   0.   0.   0.   0.   0.]]\n"
     ]
    },
    {
     "name": "stderr",
     "output_type": "stream",
     "text": [
      "<ipython-input-594-1bb768f8ae25>:34: RuntimeWarning: divide by zero encountered in true_divide\n",
      "  distance_sum = np.sum([(square_vec(vectors1, vectors2) -cube_vec(vectors1, vectors2))/dot_vec(vectors1, vectors2),\n",
      "<ipython-input-594-1bb768f8ae25>:34: RuntimeWarning: invalid value encountered in true_divide\n",
      "  distance_sum = np.sum([(square_vec(vectors1, vectors2) -cube_vec(vectors1, vectors2))/dot_vec(vectors1, vectors2),\n",
      "<ipython-input-594-1bb768f8ae25>:35: RuntimeWarning: divide by zero encountered in true_divide\n",
      "  (square_vec(vectors1, vectors2) -cube_vec(vectors1, vectors2))/dot_vec(vectors1, vectors2),\n",
      "<ipython-input-594-1bb768f8ae25>:35: RuntimeWarning: invalid value encountered in true_divide\n",
      "  (square_vec(vectors1, vectors2) -cube_vec(vectors1, vectors2))/dot_vec(vectors1, vectors2),\n",
      "<ipython-input-594-1bb768f8ae25>:36: RuntimeWarning: divide by zero encountered in true_divide\n",
      "  (square_vec(vectors1, vectors2) -cube_vec(vectors1, vectors2))/dot_vec(vectors1, vectors2),\n",
      "<ipython-input-594-1bb768f8ae25>:36: RuntimeWarning: invalid value encountered in true_divide\n",
      "  (square_vec(vectors1, vectors2) -cube_vec(vectors1, vectors2))/dot_vec(vectors1, vectors2),\n",
      "<ipython-input-594-1bb768f8ae25>:37: RuntimeWarning: divide by zero encountered in true_divide\n",
      "  (square_vec(vectors1, vectors2) -cube_vec(vectors1, vectors2))/dot_vec(vectors1, vectors2),\n",
      "<ipython-input-594-1bb768f8ae25>:37: RuntimeWarning: invalid value encountered in true_divide\n",
      "  (square_vec(vectors1, vectors2) -cube_vec(vectors1, vectors2))/dot_vec(vectors1, vectors2),\n",
      "<ipython-input-594-1bb768f8ae25>:38: RuntimeWarning: divide by zero encountered in true_divide\n",
      "  (square_vec(vectors1, vectors2) -cube_vec(vectors1, vectors2))/dot_vec(vectors1, vectors2),\n",
      "<ipython-input-594-1bb768f8ae25>:38: RuntimeWarning: invalid value encountered in true_divide\n",
      "  (square_vec(vectors1, vectors2) -cube_vec(vectors1, vectors2))/dot_vec(vectors1, vectors2),\n",
      "<ipython-input-594-1bb768f8ae25>:39: RuntimeWarning: divide by zero encountered in true_divide\n",
      "  (square_vec(vectors1, vectors2) -cube_vec(vectors1, vectors2))/dot_vec(vectors1, vectors2),\n",
      "<ipython-input-594-1bb768f8ae25>:39: RuntimeWarning: invalid value encountered in true_divide\n",
      "  (square_vec(vectors1, vectors2) -cube_vec(vectors1, vectors2))/dot_vec(vectors1, vectors2),\n",
      "<ipython-input-594-1bb768f8ae25>:40: RuntimeWarning: divide by zero encountered in true_divide\n",
      "  (square_vec(vectors1, vectors2) -cube_vec(vectors1, vectors2))/dot_vec(vectors1, vectors2),\n",
      "<ipython-input-594-1bb768f8ae25>:40: RuntimeWarning: invalid value encountered in true_divide\n",
      "  (square_vec(vectors1, vectors2) -cube_vec(vectors1, vectors2))/dot_vec(vectors1, vectors2),\n",
      "<ipython-input-594-1bb768f8ae25>:41: RuntimeWarning: divide by zero encountered in true_divide\n",
      "  (square_vec(vectors1, vectors2) -cube_vec(vectors1, vectors2))/dot_vec(vectors1, vectors2)],axis=0)\n",
      "<ipython-input-594-1bb768f8ae25>:41: RuntimeWarning: invalid value encountered in true_divide\n",
      "  (square_vec(vectors1, vectors2) -cube_vec(vectors1, vectors2))/dot_vec(vectors1, vectors2)],axis=0)\n"
     ]
    }
   ],
   "source": [
    "import numpy as np\n",
    "vectors = np.array([[1, 1, 3, 1, 1],\n",
    " [1, 3, 1, 3, 4],\n",
    " [3, 2, 4, 4, 1],\n",
    " [4, 1, 1, 3, 2],\n",
    " [2, 3, 2, 4, 4],\n",
    " [2, 3, 1, 3, 3],\n",
    " [1, 4, 3, 4, 2],\n",
    " [2, 4, 2, 3, 3]])\n",
    "\n",
    "def append_zero(vectors1):\n",
    "    return np.pad(vectors1,[(0,1),(0,0)],'constant')\n",
    "\n",
    "def square_vec(vectors1, vectors2):\n",
    "    return np.square(vectors1 - vectors2)\n",
    "    \n",
    "def cube_vec(vectors1, vectors2):\n",
    "    return np.power((vectors1-vectors2),3)\n",
    "\n",
    "def dot_vec(vectors1,vectors2):\n",
    "    return vectors1*vectors2\n",
    "\n",
    "vectors1 =np.resize(np.pad(vectors,(0,3),'constant'),(8,8))\n",
    "vectors2 =append_zero(vectors1[1:]) \n",
    "vectors3 = np.vstack([vectors1[0:1],append_zero(vectors1[2:])])\n",
    "vectors4 = np.vstack([vectors1[0:2,],append_zero(vectors1[3:])])\n",
    "vectors5 = np.vstack([vectors1[0:3,],append_zero(vectors1[4:])])\n",
    "vectors6 = np.vstack([vectors1[0:4,],append_zero(vectors1[5:])])\n",
    "vectors7 = np.vstack([vectors1[0:5,],append_zero(vectors1[6:])])\n",
    "vectors8 = np.vstack([vectors1[0:6,],append_zero(vectors1[7:])])\n",
    "\n",
    "# print(vectors7.shape, vectors8.shape)\n",
    "\n",
    "distance_sum = np.sum([(square_vec(vectors1, vectors2) -cube_vec(vectors1, vectors2))/dot_vec(vectors1, vectors2),\n",
    "                     (square_vec(vectors1, vectors2) -cube_vec(vectors1, vectors2))/dot_vec(vectors1, vectors2),\n",
    "                     (square_vec(vectors1, vectors2) -cube_vec(vectors1, vectors2))/dot_vec(vectors1, vectors2),\n",
    "                     (square_vec(vectors1, vectors2) -cube_vec(vectors1, vectors2))/dot_vec(vectors1, vectors2),\n",
    "                     (square_vec(vectors1, vectors2) -cube_vec(vectors1, vectors2))/dot_vec(vectors1, vectors2),\n",
    "                     (square_vec(vectors1, vectors2) -cube_vec(vectors1, vectors2))/dot_vec(vectors1, vectors2),\n",
    "                     (square_vec(vectors1, vectors2) -cube_vec(vectors1, vectors2))/dot_vec(vectors1, vectors2),\n",
    "                     (square_vec(vectors1, vectors2) -cube_vec(vectors1, vectors2))/dot_vec(vectors1, vectors2)],axis=0)\n",
    "\n",
    "# sum_sq = (np.square(vectors1 - vectors2) - np.power((vectors1-vectors2),3))/vectors1*vectors2\n",
    "\n",
    "distance_sum\n",
    "\n",
    "distance_sum_1 = np.where(np.isnan(distance_sum), 0 ,distance_sum)\n",
    "distance_sum_1 = np.rint(np.nan_to_num(distance_sum_1, neginf=0) )\n",
    "print(distance_sum_1)\n"
   ]
  },
  {
   "cell_type": "code",
   "execution_count": 566,
   "metadata": {},
   "outputs": [
    {
     "data": {
      "text/plain": [
       "array([[2, 2, 6, 2, 2],\n",
       "       [2, 6, 2, 6, 8],\n",
       "       [6, 4, 8, 8, 2],\n",
       "       [8, 2, 2, 6, 4],\n",
       "       [4, 6, 4, 8, 8],\n",
       "       [4, 6, 2, 6, 6],\n",
       "       [2, 8, 6, 8, 4],\n",
       "       [4, 8, 4, 6, 6]])"
      ]
     },
     "execution_count": 566,
     "metadata": {},
     "output_type": "execute_result"
    }
   ],
   "source": [
    "np.sum([vectors,vectors], axis=0) "
   ]
  },
  {
   "cell_type": "code",
   "execution_count": 486,
   "metadata": {},
   "outputs": [
    {
     "name": "stdout",
     "output_type": "stream",
     "text": [
      "[[1. 0. 0. 0. 0.]\n",
      " [0. 1. 0. 0. 0.]\n",
      " [0. 0. 1. 0. 0.]\n",
      " [0. 0. 0. 1. 0.]\n",
      " [0. 0. 0. 0. 1.]] (5, 5) [[1. 0. 0. 0. 0.]\n",
      " [0. 1. 0. 0. 0.]\n",
      " [0. 0. 1. 0. 0.]\n",
      " [0. 0. 0. 1. 0.]\n",
      " [0. 0. 0. 0. 1.]\n",
      " [0. 0. 0. 0. 0.]\n",
      " [0. 0. 0. 0. 0.]]\n"
     ]
    }
   ],
   "source": [
    "import numpy as np\n",
    "\n",
    "def pad_along_axis(array: np.ndarray, target_length: int, axis: int = 0) -> np.ndarray:\n",
    "\n",
    "    pad_size = target_length - array.shape[axis]\n",
    "\n",
    "    if pad_size <= 0:\n",
    "        return array\n",
    "\n",
    "    npad = [(0, 0)] * array.ndim\n",
    "    npad[axis] = (0, pad_size)\n",
    "\n",
    "    return np.pad(array, pad_width=npad, mode='constant', constant_values=0)\n",
    "\n",
    "\n",
    "a = np.identity(5)\n",
    "b = pad_along_axis(a, 7, axis=0)\n",
    "print(a, a.shape, b)"
   ]
  },
  {
   "cell_type": "code",
   "execution_count": 522,
   "metadata": {},
   "outputs": [
    {
     "name": "stderr",
     "output_type": "stream",
     "text": [
      "<ipython-input-522-86b48d36a434>:5: RuntimeWarning: invalid value encountered in true_divide\n",
      "  sum_sq = (np.square(vectors1 - vectors2) - np.power((vectors1-vectors2),3))/vectors1*vectors2\n"
     ]
    },
    {
     "data": {
      "text/plain": [
       "(8, 8)"
      ]
     },
     "execution_count": 522,
     "metadata": {},
     "output_type": "execute_result"
    }
   ],
   "source": [
    "vec1=np.array([1, 1, 3, 1, 1])\n",
    "vec2=np.array([1, 3, 1, 3, 4])\n",
    "\n",
    "# finding sum of squares\n",
    "sum_sq = (np.square(vectors1 - vectors2) - np.power((vectors1-vectors2),3))/vectors1*vectors2\n",
    "sum_sq"
   ]
  },
  {
   "cell_type": "code",
   "execution_count": 423,
   "metadata": {},
   "outputs": [
    {
     "data": {
      "text/plain": [
       "array([ 0,  2, -2,  2,  3])"
      ]
     },
     "execution_count": 423,
     "metadata": {},
     "output_type": "execute_result"
    }
   ],
   "source": [
    "vec2-vec1"
   ]
  },
  {
   "cell_type": "code",
   "execution_count": 460,
   "metadata": {},
   "outputs": [
    {
     "data": {
      "text/plain": [
       "array([13. , 27. , 27.6, 19. , 16.6, 27.9, 24.4, 23. ])"
      ]
     },
     "execution_count": 460,
     "metadata": {},
     "output_type": "execute_result"
    }
   ],
   "source": [
    "temps = np.array([17.9, 13. , 27. , 27.6, 19. , 16.6, 27.9, 24.4, 23. , 17.4])\n",
    "temps[1:-1]\n",
    "# (temps[:-2] + temps[1:-1] + temps[2:]) / 3\n"
   ]
  },
  {
   "cell_type": "code",
   "execution_count": 464,
   "metadata": {},
   "outputs": [
    {
     "name": "stdout",
     "output_type": "stream",
     "text": [
      "[[[  21.23983331   24.15291622   23.87437527 ...   24.62225425\n",
      "     23.34681902   28.68017487]\n",
      "  [  25.71552115   26.43506402   26.5986853  ...   24.7470479\n",
      "     26.17115052   27.35761769]\n",
      "  [  23.01760338   25.53549381   20.67218355 ...   24.94354388\n",
      "     28.65745215   29.04807078]\n",
      "  ...\n",
      "  [  24.62474339   28.35084068   22.79859741 ...   26.46900129\n",
      "     24.71867147   26.35547447]\n",
      "  [  33.39403797   25.79371845   24.55807671 ...   19.31779541\n",
      "     25.5378063    25.35419629]\n",
      "  [  23.39919996   25.26878855   31.96645056 ...   26.00778069\n",
      "     27.59804425   21.67222986]]\n",
      "\n",
      " [[  20.01618238   18.52202898   18.77113274 ...   21.52103899\n",
      "     15.48180064   16.75070661]\n",
      "  [  16.66102373   16.37980126   19.842635   ...   15.17269385\n",
      "     18.86397266   21.18291169]\n",
      "  [  17.88123209   23.58153085   25.38484499 ...   21.28223278\n",
      "     23.00426903   21.78310392]\n",
      "  ...\n",
      "  [  18.6540783    21.92534865   17.9454161  ...   19.89673304\n",
      "     23.86793665   15.56908926]\n",
      "  [  22.16827521   18.86437178   24.0768055  ...   17.86848926\n",
      "     23.80103901   20.190876  ]\n",
      "  [  18.16968721   25.2306046    17.17253604 ...   18.83316223\n",
      "     22.92270314   19.10623199]]\n",
      "\n",
      " [[  13.30177385   13.22694765   11.68836848 ...   14.21734194\n",
      "     19.26533107   17.6037693 ]\n",
      "  [  16.80880878   16.34534008   15.34633667 ...    7.78021337\n",
      "     13.36135088    9.99619147]\n",
      "  [  12.79783182   19.06733817   17.96915704 ...    6.97201869\n",
      "     13.96544392   13.11794779]\n",
      "  ...\n",
      "  [  11.26576459   12.28368752   15.08616275 ...   16.6792518\n",
      "     16.04836348   12.7870697 ]\n",
      "  [  12.52673065   11.72602855   11.7532399  ...   18.81240115\n",
      "     11.82024083   12.5884948 ]\n",
      "  [  14.78253951    8.6738803    13.73497941 ...   12.74541413\n",
      "     12.4215918    10.9918095 ]]\n",
      "\n",
      " ...\n",
      "\n",
      " [[ -88.3587184   -90.84354929  -89.62315954 ...  -90.34249431\n",
      "    -90.13436581  -89.73465889]\n",
      "  [ -87.09569642  -86.4417442   -86.24032185 ...  -94.23114534\n",
      "    -93.99378576  -90.9462665 ]\n",
      "  [ -87.5419985   -94.60918779  -89.12687844 ...  -85.87159959\n",
      "    -88.59982285  -91.65169578]\n",
      "  ...\n",
      "  [ -88.91081901  -89.52071864  -84.75857934 ...  -83.25369788\n",
      "    -93.15523841  -89.56274665]\n",
      "  [ -86.35591004  -88.1426115   -84.53005684 ...  -90.46375912\n",
      "    -91.17569356  -89.43806855]\n",
      "  [ -91.59290771  -88.62729893  -92.66005634 ...  -88.65070371\n",
      "    -91.12157963  -93.820519  ]]\n",
      "\n",
      " [[ -98.55134329  -92.02845498  -94.68743943 ...  -94.65498016\n",
      "    -90.00983781  -99.59441403]\n",
      "  [-100.22154507  -94.87175458  -92.50749606 ...  -90.06862486\n",
      "    -94.04655318  -94.73413084]\n",
      "  [ -93.37966251  -96.78038321  -90.79485293 ...  -96.00764519\n",
      "    -98.39456012  -97.37381204]\n",
      "  ...\n",
      "  [ -96.19093264  -93.25355901  -92.63470824 ...  -94.87921886\n",
      "    -96.19102714  -97.03963225]\n",
      "  [ -94.85076013  -88.2526504   -94.76986887 ...  -93.51122069\n",
      "    -91.18838088  -92.32493871]\n",
      "  [ -91.66043863  -99.56380683  -92.01450923 ...  -88.40005575\n",
      "    -93.26632963  -97.34338065]]\n",
      "\n",
      " [[ -99.87210261  -94.93768652 -100.58916969 ...  -99.18151023\n",
      "    -96.80963384  -99.24432589]\n",
      "  [ -99.15986266 -105.114942   -102.21562958 ...  -99.62365472\n",
      "   -102.05215653 -102.87152547]\n",
      "  [-101.05637609  -97.22448448 -104.18215655 ...  -99.01974267\n",
      "   -102.95150884  -94.50714964]\n",
      "  ...\n",
      "  [-108.13709427  -98.93801129 -103.62294499 ...  -96.9956508\n",
      "   -101.86587967 -100.85254973]\n",
      "  [ -96.85519017 -101.82518537 -106.16261708 ... -101.68862015\n",
      "    -97.75324525  -99.57974072]\n",
      "  [ -99.84267452 -100.76149601 -100.57454552 ... -100.18517135\n",
      "    -98.48029647  -97.13864826]]]\n"
     ]
    }
   ],
   "source": [
    "pressure = np.linspace(1000, 100, 25)\n",
    "temps = np.random.randn(25, 30, 40) * 3 + np.linspace(25, -100, 25).reshape(-1, 1, 1)\n",
    "print(temps)"
   ]
  },
  {
   "cell_type": "code",
   "execution_count": null,
   "metadata": {},
   "outputs": [],
   "source": []
  },
  {
   "cell_type": "code",
   "execution_count": 601,
   "metadata": {},
   "outputs": [
    {
     "data": {
      "text/plain": [
       "'0.90'"
      ]
     },
     "execution_count": 601,
     "metadata": {},
     "output_type": "execute_result"
    }
   ],
   "source": [
    "import xgboost \n",
    "xgboost.__version__"
   ]
  },
  {
   "cell_type": "code",
   "execution_count": null,
   "metadata": {},
   "outputs": [],
   "source": []
  },
  {
   "cell_type": "code",
   "execution_count": null,
   "metadata": {},
   "outputs": [],
   "source": []
  },
  {
   "cell_type": "code",
   "execution_count": 602,
   "metadata": {},
   "outputs": [
    {
     "data": {
      "text/html": [
       "<div>\n",
       "<style scoped>\n",
       "    .dataframe tbody tr th:only-of-type {\n",
       "        vertical-align: middle;\n",
       "    }\n",
       "\n",
       "    .dataframe tbody tr th {\n",
       "        vertical-align: top;\n",
       "    }\n",
       "\n",
       "    .dataframe thead th {\n",
       "        text-align: right;\n",
       "    }\n",
       "</style>\n",
       "<table border=\"1\" class=\"dataframe\">\n",
       "  <thead>\n",
       "    <tr style=\"text-align: right;\">\n",
       "      <th></th>\n",
       "      <th>sap_stp</th>\n",
       "      <th>CLUSTER</th>\n",
       "      <th>Brand_ID</th>\n",
       "      <th>pack_size</th>\n",
       "      <th>pack_type</th>\n",
       "      <th>year</th>\n",
       "      <th>month</th>\n",
       "      <th>regional_group</th>\n",
       "      <th>value</th>\n",
       "      <th>volume</th>\n",
       "    </tr>\n",
       "  </thead>\n",
       "  <tbody>\n",
       "    <tr>\n",
       "      <th>0</th>\n",
       "      <td>308802</td>\n",
       "      <td>Low_Income</td>\n",
       "      <td>Brand_7</td>\n",
       "      <td>500ML</td>\n",
       "      <td>CAN</td>\n",
       "      <td>2019</td>\n",
       "      <td>12</td>\n",
       "      <td>Retailer 1</td>\n",
       "      <td>435447.0</td>\n",
       "      <td>18932.47826</td>\n",
       "    </tr>\n",
       "    <tr>\n",
       "      <th>1</th>\n",
       "      <td>314563</td>\n",
       "      <td>Low_Mid_Income</td>\n",
       "      <td>Brand_7</td>\n",
       "      <td>500ML</td>\n",
       "      <td>CAN</td>\n",
       "      <td>2018</td>\n",
       "      <td>12</td>\n",
       "      <td>Retailer 1</td>\n",
       "      <td>373385.6</td>\n",
       "      <td>15557.73333</td>\n",
       "    </tr>\n",
       "    <tr>\n",
       "      <th>2</th>\n",
       "      <td>318310</td>\n",
       "      <td>Low_Income</td>\n",
       "      <td>Brand_7</td>\n",
       "      <td>500ML</td>\n",
       "      <td>CAN</td>\n",
       "      <td>2018</td>\n",
       "      <td>12</td>\n",
       "      <td>Retailer 1</td>\n",
       "      <td>341035.5</td>\n",
       "      <td>17051.77500</td>\n",
       "    </tr>\n",
       "    <tr>\n",
       "      <th>3</th>\n",
       "      <td>308802</td>\n",
       "      <td>Low_Income</td>\n",
       "      <td>Brand_7</td>\n",
       "      <td>500ML</td>\n",
       "      <td>CAN</td>\n",
       "      <td>2018</td>\n",
       "      <td>12</td>\n",
       "      <td>Retailer 1</td>\n",
       "      <td>316701.9</td>\n",
       "      <td>13769.64783</td>\n",
       "    </tr>\n",
       "    <tr>\n",
       "      <th>4</th>\n",
       "      <td>314705</td>\n",
       "      <td>High_Income</td>\n",
       "      <td>Brand_7</td>\n",
       "      <td>340ML</td>\n",
       "      <td>NRB</td>\n",
       "      <td>2019</td>\n",
       "      <td>12</td>\n",
       "      <td>Retailer 1</td>\n",
       "      <td>308547.6</td>\n",
       "      <td>12341.90400</td>\n",
       "    </tr>\n",
       "  </tbody>\n",
       "</table>\n",
       "</div>"
      ],
      "text/plain": [
       "   sap_stp         CLUSTER Brand_ID pack_size pack_type  year  month  \\\n",
       "0   308802      Low_Income  Brand_7     500ML       CAN  2019     12   \n",
       "1   314563  Low_Mid_Income  Brand_7     500ML       CAN  2018     12   \n",
       "2   318310      Low_Income  Brand_7     500ML       CAN  2018     12   \n",
       "3   308802      Low_Income  Brand_7     500ML       CAN  2018     12   \n",
       "4   314705     High_Income  Brand_7     340ML       NRB  2019     12   \n",
       "\n",
       "  regional_group     value       volume  \n",
       "0     Retailer 1  435447.0  18932.47826  \n",
       "1     Retailer 1  373385.6  15557.73333  \n",
       "2     Retailer 1  341035.5  17051.77500  \n",
       "3     Retailer 1  316701.9  13769.64783  \n",
       "4     Retailer 1  308547.6  12341.90400  "
      ]
     },
     "execution_count": 602,
     "metadata": {},
     "output_type": "execute_result"
    }
   ],
   "source": [
    "import pandas as pd\n",
    "\n",
    "df_data = pd.read_csv(r\"C:\\Users\\riman\\Git\\data.csv\")\n",
    "df_data.head()"
   ]
  },
  {
   "cell_type": "code",
   "execution_count": 644,
   "metadata": {},
   "outputs": [
    {
     "data": {
      "text/html": [
       "<div>\n",
       "<style scoped>\n",
       "    .dataframe tbody tr th:only-of-type {\n",
       "        vertical-align: middle;\n",
       "    }\n",
       "\n",
       "    .dataframe tbody tr th {\n",
       "        vertical-align: top;\n",
       "    }\n",
       "\n",
       "    .dataframe thead th {\n",
       "        text-align: right;\n",
       "    }\n",
       "</style>\n",
       "<table border=\"1\" class=\"dataframe\">\n",
       "  <thead>\n",
       "    <tr style=\"text-align: right;\">\n",
       "      <th></th>\n",
       "      <th>year</th>\n",
       "      <th>month</th>\n",
       "    </tr>\n",
       "  </thead>\n",
       "  <tbody>\n",
       "    <tr>\n",
       "      <th>0</th>\n",
       "      <td>2018</td>\n",
       "      <td>[12, 11, 10, 6, 4, 5, 3]</td>\n",
       "    </tr>\n",
       "    <tr>\n",
       "      <th>1</th>\n",
       "      <td>2019</td>\n",
       "      <td>[12, 3, 9, 11, 4, 8, 10, 6, 2, 7, 5, 1]</td>\n",
       "    </tr>\n",
       "    <tr>\n",
       "      <th>2</th>\n",
       "      <td>2020</td>\n",
       "      <td>[3, 1, 2]</td>\n",
       "    </tr>\n",
       "  </tbody>\n",
       "</table>\n",
       "</div>"
      ],
      "text/plain": [
       "   year                                    month\n",
       "0  2018                 [12, 11, 10, 6, 4, 5, 3]\n",
       "1  2019  [12, 3, 9, 11, 4, 8, 10, 6, 2, 7, 5, 1]\n",
       "2  2020                                [3, 1, 2]"
      ]
     },
     "execution_count": 644,
     "metadata": {},
     "output_type": "execute_result"
    }
   ],
   "source": [
    "#df_data.year.unique()\n",
    "\n",
    "df_test = df_data.groupby('year')['month'].unique()\n",
    "df_test = df_test.reset_index()\n",
    "df_test\n"
   ]
  },
  {
   "cell_type": "code",
   "execution_count": 626,
   "metadata": {},
   "outputs": [
    {
     "data": {
      "text/plain": [
       "Index(['sap_stp', 'CLUSTER', 'Brand_ID', 'pack_size', 'pack_type', 'year',\n",
       "       'month', 'regional_group', 'value', 'volume'],\n",
       "      dtype='object')"
      ]
     },
     "execution_count": 626,
     "metadata": {},
     "output_type": "execute_result"
    }
   ],
   "source": [
    "df_data.columns"
   ]
  },
  {
   "cell_type": "code",
   "execution_count": 635,
   "metadata": {},
   "outputs": [
    {
     "name": "stdout",
     "output_type": "stream",
     "text": [
      "12\n",
      "4\n",
      "270\n",
      "23\n",
      "4\n",
      "3\n",
      "12\n",
      "1\n",
      "19981\n",
      "27486\n"
     ]
    }
   ],
   "source": [
    "for i in df_data.columns:\n",
    "    print(len(df_data[i].unique()))"
   ]
  },
  {
   "cell_type": "code",
   "execution_count": 650,
   "metadata": {},
   "outputs": [
    {
     "data": {
      "text/plain": [
       "High_Income        11851\n",
       "Mid_High_Income    10912\n",
       "Low_Mid_Income     10845\n",
       "Low_Income         10652\n",
       "Name: CLUSTER, dtype: int64"
      ]
     },
     "execution_count": 650,
     "metadata": {},
     "output_type": "execute_result"
    }
   ],
   "source": [
    "df_data.head()\n",
    "\n",
    "df_data['CLUSTER'].value_counts()"
   ]
  },
  {
   "cell_type": "code",
   "execution_count": null,
   "metadata": {},
   "outputs": [],
   "source": []
  },
  {
   "cell_type": "code",
   "execution_count": null,
   "metadata": {},
   "outputs": [],
   "source": []
  }
 ],
 "metadata": {
  "kernelspec": {
   "display_name": "Python 3",
   "language": "python",
   "name": "python3"
  },
  "language_info": {
   "codemirror_mode": {
    "name": "ipython",
    "version": 3
   },
   "file_extension": ".py",
   "mimetype": "text/x-python",
   "name": "python",
   "nbconvert_exporter": "python",
   "pygments_lexer": "ipython3",
   "version": "3.8.5"
  }
 },
 "nbformat": 4,
 "nbformat_minor": 4
}
