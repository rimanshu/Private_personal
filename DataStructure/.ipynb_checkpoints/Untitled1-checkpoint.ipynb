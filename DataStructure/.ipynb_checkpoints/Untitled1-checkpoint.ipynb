{
 "cells": [
  {
   "cell_type": "code",
   "execution_count": 5,
   "metadata": {},
   "outputs": [
    {
     "name": "stdout",
     "output_type": "stream",
     "text": [
      "4\n"
     ]
    }
   ],
   "source": [
    "def num_dig(dig):\n",
    "    counter = 0\n",
    "    dig=str(dig)\n",
    "    if dig[0] == \"-\":\n",
    "        dig = dig[1:]\n",
    "    for i in dig:\n",
    "        counter += 1\n",
    "    print(counter)\n",
    "    \n",
    "num_dig(-2344)"
   ]
  },
  {
   "cell_type": "code",
   "execution_count": 17,
   "metadata": {
    "scrolled": true
   },
   "outputs": [
    {
     "name": "stdout",
     "output_type": "stream",
     "text": [
      "{'If': 1, 'you': 2, 'are': 2, 'not': 1, 'located': 2, 'in': 1, 'the': 4, 'United': 1, 'States,': 1, 'you’ll\\nhave': 1, 'to': 1, 'check': 1, 'laws': 1, 'of': 2, 'country': 2, 'where': 1, 'before': 1, 'using': 1}\n"
     ]
    }
   ],
   "source": [
    "# import Counter \n",
    "\n",
    "str1 = \"\"\"If you are not located in the United States, you’ll\n",
    "have to check the laws of the country where you are located before using of the country\"\"\"\n",
    "\n",
    "dic ={}\n",
    "list1 = []\n",
    "\n",
    "for i in str1.split(\" \"):\n",
    "    if i in dic:\n",
    "        dic[i]+= 1\n",
    "    else:\n",
    "        dic[i] =1\n",
    "        \n",
    "print(dic)\n"
   ]
  },
  {
   "cell_type": "code",
   "execution_count": 15,
   "metadata": {
    "scrolled": true
   },
   "outputs": [
    {
     "name": "stdout",
     "output_type": "stream",
     "text": [
      "['If', 'you', 'are', 'not', 'located', 'in', 'the', 'United', 'States,', 'you’ll\\nhave', 'to', 'check', 'the', 'laws', 'of', 'the', 'country', 'where', 'you', 'are', 'located', 'before', 'using', 'of', 'the', 'country']\n"
     ]
    }
   ],
   "source": [
    "print(str1.split(\" \"))"
   ]
  },
  {
   "cell_type": "code",
   "execution_count": null,
   "metadata": {},
   "outputs": [],
   "source": [
    "Transaction Table\n",
    "\n",
    "Transaction ID\n",
    "\n",
    "Account ID\n",
    "\n",
    "Transaction Date\n",
    "\n",
    "Amount\n",
    "\n",
    "-----------------------------\n",
    "Account Table\n",
    "\n",
    "Account ID\n",
    "\n",
    "Account Name \n",
    "\n",
    "Branch ID\n",
    "-------------------------------------------\n",
    "Branch Table\n",
    "\n",
    "Branch ID\n",
    "\n",
    "Branch Name\n",
    "\n",
    "CITY\n",
    "\n",
    "IFSC CODE\n",
    "\n",
    "Manager\n",
    "\n",
    "\n",
    "In each city , find the branch name which had maximum transactions\n"
   ]
  },
  {
   "cell_type": "code",
   "execution_count": null,
   "metadata": {},
   "outputs": [],
   "source": [
    "select city, branch, dense_rank(over transaction order by transaction_id group by city, branch_name) as a from (select * from Transaction_tbl as ttbl inner join account_tbl atbl on ttbl.account_id = atbl.account_id) as tatbl\n",
    "inner join branch_tbl as btbl on tatbl.branch_id = btbl.branch_id where a = 1"
   ]
  },
  {
   "cell_type": "code",
   "execution_count": null,
   "metadata": {},
   "outputs": [],
   "source": [
    "select * from table_name where salary < (select count(distinct(salary) from table_name) order by salary desc limit 1"
   ]
  },
  {
   "cell_type": "code",
   "execution_count": null,
   "metadata": {},
   "outputs": [],
   "source": []
  },
  {
   "cell_type": "code",
   "execution_count": 78,
   "metadata": {},
   "outputs": [
    {
     "name": "stdout",
     "output_type": "stream",
     "text": [
      "[0, 1, 1, 2, 3, 5, 8, 13, 21]\n"
     ]
    }
   ],
   "source": [
    "def num(n):\n",
    "    result = []\n",
    "    if n == 0:\n",
    "        return 0\n",
    "    if n ==1 or n== 2:\n",
    "        return 1\n",
    "    return num(n-1) + num(n-2)\n",
    "\n",
    "def test(n):\n",
    "    for i in range(0,n):\n",
    "        res.append(num(i))\n",
    "    return res\n",
    "\n",
    "print(test(9))"
   ]
  },
  {
   "cell_type": "code",
   "execution_count": 83,
   "metadata": {},
   "outputs": [
    {
     "name": "stdout",
     "output_type": "stream",
     "text": [
      "55\n"
     ]
    }
   ],
   "source": [
    "lis = [0,1,1,2,3,5,8,13,21]\n",
    "\n",
    "def num(n):\n",
    "    result = []\n",
    "    if n< len(lis):\n",
    "        return lis[n-1]\n",
    "    else:\n",
    "        temp = int(num(n-1)) + int(num(n-2))\n",
    "        lis.append(temp)\n",
    "        return temp\n",
    "print(num(11))"
   ]
  },
  {
   "cell_type": "code",
   "execution_count": 86,
   "metadata": {},
   "outputs": [
    {
     "name": "stdout",
     "output_type": "stream",
     "text": [
      "{'A': 2, 'B': 1, 'G': 2, 'C': 2}\n"
     ]
    }
   ],
   "source": [
    "list_ = [\"A\", \"B\", \"G\", \"A\", \"G\", \"C\", \"C\"]\n",
    "\n",
    "def freq_count(list_):\n",
    "    dic = {}\n",
    "    \n",
    "    for i in list_:\n",
    "        if i not in dic:\n",
    "            dic[i] = 1\n",
    "        else:\n",
    "            dic[i] += 1\n",
    "    return dic\n",
    "\n",
    "print(freq_count(list_))"
   ]
  },
  {
   "cell_type": "code",
   "execution_count": 107,
   "metadata": {},
   "outputs": [
    {
     "name": "stdout",
     "output_type": "stream",
     "text": [
      "[0, 1, 1, 2, 3, 5, 8, 13, 21, 34, 55]\n"
     ]
    }
   ],
   "source": [
    "def fibonacci(n):\n",
    "    sequence = [0,1]\n",
    "    for i in range(2,n+1):\n",
    "        next_num = sequence[-1] + sequence[-2]\n",
    "        sequence.append(next_num)\n",
    "    return sequence\n",
    "\n",
    "sequence = fibonacci(10)\n",
    "print(sequence)"
   ]
  },
  {
   "cell_type": "code",
   "execution_count": 118,
   "metadata": {},
   "outputs": [
    {
     "name": "stdout",
     "output_type": "stream",
     "text": [
      "(['sweet', 'sour'], {'this': 2, 'apple': 2, 'is': 2, 'sweet': 1, 'sour': 1})\n"
     ]
    }
   ],
   "source": [
    "A = \"this apple is sweet\"\n",
    "B = \"this apple is sour\"\n",
    "    \n",
    "def uncommon_words(A,B):\n",
    "    dic = {}\n",
    "    \n",
    "    for word in A.split(' '):\n",
    "        if word not in dic:\n",
    "            dic[word] =0\n",
    "        dic[word] += 1\n",
    "        \n",
    "    for word in B.split(' '):\n",
    "        if word not in dic:\n",
    "              dic[word] =0\n",
    "        dic[word] += 1\n",
    "    \n",
    "    res = []\n",
    "    \n",
    "    for key, value in dic.items():\n",
    "        if value == 1:\n",
    "            res.append(key)\n",
    "    return res, dic\n",
    "\n",
    "print(uncommon_words(A,B))\n",
    "    "
   ]
  },
  {
   "cell_type": "code",
   "execution_count": 127,
   "metadata": {},
   "outputs": [
    {
     "name": "stdout",
     "output_type": "stream",
     "text": [
      "True\n"
     ]
    }
   ],
   "source": [
    "def isValid(s):\n",
    "    dic = {'(':')','[':']','{':'}'}\n",
    "    st = []\n",
    "    for i in s:\n",
    "        if i in \"({[\":\n",
    "            st.append(i) \n",
    "        elif len(st) == 0 or i != dic[st.pop()]:\n",
    "            return False\n",
    "    return True\n",
    "        \n",
    "print(isValid(\"{([])}\"))"
   ]
  },
  {
   "cell_type": "code",
   "execution_count": null,
   "metadata": {},
   "outputs": [],
   "source": [
    "class Solution:\n",
    "   def isValid( self, sequence ):\n",
    "       '''\n",
    "       Function to check if sequence contains valid parenthesis\n",
    "       :param sequence: Sequence of brackets\n",
    "       :return: True is sequence is valid else False\n",
    "       '''\n",
    "       # Replace the proper pairs until sequence becomes empty or no pairs are present\n",
    "       while True:\n",
    "           if '()' in sequence :\n",
    "               sequence = sequence.replace ( '()' , '' )\n",
    "           elif '{}' in sequence :\n",
    "               sequence = sequence.replace ( '{}' , '' )\n",
    "           elif '[]' in sequence :\n",
    "               sequence = sequence.replace ( '[]' , '' )\n",
    "           else :\n",
    "               return not sequence\n",
    "\n",
    "if __name__ == '__main__':\n",
    "   sequence = '{[()]}'\n",
    "   print(f'Is {sequence} valid ? : {Solution().isValid(sequence)}')\n",
    "   sequence1 = '{[()]}{]{}}'\n",
    "   print(f'Is {sequence1} valid ? : {Solution().isValid (sequence1)}')\n",
    "Output\n",
    "Is {[()]} valid ? : True\n",
    "Is {[()]}{]{}} valid ? : False"
   ]
  },
  {
   "cell_type": "code",
   "execution_count": null,
   "metadata": {},
   "outputs": [],
   "source": [
    "https://favtutor.com/blogs/valid-parentheses"
   ]
  },
  {
   "cell_type": "code",
   "execution_count": null,
   "metadata": {},
   "outputs": [],
   "source": []
  },
  {
   "cell_type": "code",
   "execution_count": null,
   "metadata": {},
   "outputs": [],
   "source": [
    "Dataframe with 3 columns: State, City, Population\n",
    "\n",
    "Can you write a code in python to identify cities with population higher than State average"
   ]
  },
  {
   "cell_type": "code",
   "execution_count": 129,
   "metadata": {},
   "outputs": [],
   "source": [
    "import pandas ad pd\n",
    "df[['Cities','Population']] = df[df['Population'] > df['State']]\n",
    "\n",
    "df_cities_avg = df.groupby('State')['Population'].mean().reset_index()\n",
    "\n",
    "for i in df():\n",
    "    if i.state == df_cities_avg['state'] and i.population > df_cities_avg['Population']:\n",
    "        print(i.cities)\n",
    "\n"
   ]
  },
  {
   "cell_type": "code",
   "execution_count": null,
   "metadata": {},
   "outputs": [],
   "source": [
    "s1 c1 p1\n",
    "Up Kanpur 10000\n",
    "Up Agra   8000\n",
    "MP Bhopal  11000\n",
    "MP Indore 9000\n",
    "HR Gurgaoun 6000"
   ]
  },
  {
   "cell_type": "code",
   "execution_count": 144,
   "metadata": {},
   "outputs": [
    {
     "name": "stdout",
     "output_type": "stream",
     "text": [
      "xxxx\n",
      "xxx\n",
      "xx\n",
      "x\n"
     ]
    }
   ],
   "source": [
    "# X\n",
    "# X X\n",
    "# X X X \n",
    "# X X X X\n",
    "\n",
    "for i in range(4,0,-1):\n",
    "    res = i*'x'\n",
    "    print(res)\n"
   ]
  },
  {
   "cell_type": "code",
   "execution_count": 155,
   "metadata": {},
   "outputs": [
    {
     "name": "stdout",
     "output_type": "stream",
     "text": [
      "321\n"
     ]
    }
   ],
   "source": [
    "num = 123\n",
    "rev = 0\n",
    "while num >0:\n",
    "    a = num%10\n",
    "    rev = rev*10 +a\n",
    "    num = num //10\n",
    "\n",
    "print(rev)"
   ]
  },
  {
   "cell_type": "code",
   "execution_count": null,
   "metadata": {},
   "outputs": [],
   "source": []
  },
  {
   "cell_type": "code",
   "execution_count": null,
   "metadata": {},
   "outputs": [],
   "source": []
  },
  {
   "cell_type": "code",
   "execution_count": null,
   "metadata": {},
   "outputs": [],
   "source": []
  },
  {
   "cell_type": "code",
   "execution_count": 24,
   "metadata": {},
   "outputs": [
    {
     "name": "stdout",
     "output_type": "stream",
     "text": [
      "['b', 'a', 'bab', 'a', 'd']\n",
      "bab\n",
      "['G', 'e', 'e', 'k', 's']\n",
      "G\n",
      "['f', 'o', 'r', 'g', 'e', 'e', 'k', 's', 's', 'k', 'e', 'e', 'g', 'f', 'o', 'r']\n",
      "f\n"
     ]
    }
   ],
   "source": [
    "Input = \"babad\"\n",
    "Output = \"bab\"\n",
    "# Explanation: \"aba\" is also a valid answer.\n",
    "\n",
    "\n",
    "def max_sub_palindrom(input_str):\n",
    "    temp = ''\n",
    "    lis = []\n",
    "    counter =0\n",
    "    for i in input_str:\n",
    "        temp = temp + i\n",
    "        if temp == temp[::-1]:\n",
    "            lis.append(temp)\n",
    "        else:\n",
    "            temp1 = temp[counter:] \n",
    "            if temp1 == temp1[::-1]:\n",
    "                lis.append(temp1)\n",
    "        counter += 1\n",
    "    print(lis)\n",
    "    max_palindrom = max(lis, key= len)\n",
    "    return max_palindrom  \n",
    "\n",
    "print(max_sub_palindrom(\"babad\"))\n",
    "print(max_sub_palindrom(\"Geeks\"))\n",
    "print(max_sub_palindrom(\"forgeeksskeegfor\"))"
   ]
  },
  {
   "cell_type": "code",
   "execution_count": 19,
   "metadata": {},
   "outputs": [
    {
     "ename": "TypeError",
     "evalue": "'str' object does not support item assignment",
     "output_type": "error",
     "traceback": [
      "\u001b[1;31m---------------------------------------------------------------------------\u001b[0m",
      "\u001b[1;31mTypeError\u001b[0m                                 Traceback (most recent call last)",
      "\u001b[1;32m<ipython-input-19-37a21fed6259>\u001b[0m in \u001b[0;36m<module>\u001b[1;34m\u001b[0m\n\u001b[0;32m      2\u001b[0m \u001b[1;33m\u001b[0m\u001b[0m\n\u001b[0;32m      3\u001b[0m \u001b[1;32mfor\u001b[0m \u001b[0mi\u001b[0m \u001b[1;32min\u001b[0m \u001b[0mrange\u001b[0m\u001b[1;33m(\u001b[0m\u001b[1;36m1\u001b[0m\u001b[1;33m,\u001b[0m\u001b[0mlen\u001b[0m\u001b[1;33m(\u001b[0m\u001b[0mte\u001b[0m\u001b[1;33m)\u001b[0m\u001b[1;33m,\u001b[0m\u001b[1;36m2\u001b[0m\u001b[1;33m)\u001b[0m\u001b[1;33m:\u001b[0m\u001b[1;33m\u001b[0m\u001b[1;33m\u001b[0m\u001b[0m\n\u001b[1;32m----> 4\u001b[1;33m     \u001b[0mte\u001b[0m\u001b[1;33m[\u001b[0m\u001b[0mi\u001b[0m\u001b[1;33m]\u001b[0m \u001b[1;33m=\u001b[0m \u001b[1;34m'@'\u001b[0m\u001b[1;33m\u001b[0m\u001b[1;33m\u001b[0m\u001b[0m\n\u001b[0m\u001b[0;32m      5\u001b[0m     \u001b[0mprint\u001b[0m\u001b[1;33m(\u001b[0m\u001b[0mte\u001b[0m\u001b[1;33m)\u001b[0m\u001b[1;33m\u001b[0m\u001b[1;33m\u001b[0m\u001b[0m\n",
      "\u001b[1;31mTypeError\u001b[0m: 'str' object does not support item assignment"
     ]
    }
   ],
   "source": [
    "te = \"Rimanshu\"\n",
    "\n",
    "for i in range(1,len(te),2):\n",
    "    te.replace\n",
    "    print(te)"
   ]
  },
  {
   "cell_type": "code",
   "execution_count": null,
   "metadata": {},
   "outputs": [],
   "source": []
  },
  {
   "cell_type": "code",
   "execution_count": null,
   "metadata": {},
   "outputs": [],
   "source": []
  },
  {
   "cell_type": "code",
   "execution_count": null,
   "metadata": {},
   "outputs": [],
   "source": []
  }
 ],
 "metadata": {
  "kernelspec": {
   "display_name": "Python 3",
   "language": "python",
   "name": "python3"
  },
  "language_info": {
   "codemirror_mode": {
    "name": "ipython",
    "version": 3
   },
   "file_extension": ".py",
   "mimetype": "text/x-python",
   "name": "python",
   "nbconvert_exporter": "python",
   "pygments_lexer": "ipython3",
   "version": "3.8.5"
  }
 },
 "nbformat": 4,
 "nbformat_minor": 4
}
