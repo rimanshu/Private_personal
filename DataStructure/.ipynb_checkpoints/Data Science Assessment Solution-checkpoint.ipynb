{
 "cells": [
  {
   "cell_type": "markdown",
   "metadata": {},
   "source": [
    "# Problem 2 : - Local grouping of a pandas dataframe"
   ]
  },
  {
   "cell_type": "code",
   "execution_count": 1,
   "metadata": {},
   "outputs": [
    {
     "data": {
      "text/html": [
       "<div>\n",
       "<style scoped>\n",
       "    .dataframe tbody tr th:only-of-type {\n",
       "        vertical-align: middle;\n",
       "    }\n",
       "\n",
       "    .dataframe tbody tr th {\n",
       "        vertical-align: top;\n",
       "    }\n",
       "\n",
       "    .dataframe thead th {\n",
       "        text-align: right;\n",
       "    }\n",
       "</style>\n",
       "<table border=\"1\" class=\"dataframe\">\n",
       "  <thead>\n",
       "    <tr style=\"text-align: right;\">\n",
       "      <th></th>\n",
       "      <th>A</th>\n",
       "      <th>B</th>\n",
       "    </tr>\n",
       "  </thead>\n",
       "  <tbody>\n",
       "    <tr>\n",
       "      <th>0</th>\n",
       "      <td>a</td>\n",
       "      <td>1</td>\n",
       "    </tr>\n",
       "    <tr>\n",
       "      <th>1</th>\n",
       "      <td>a</td>\n",
       "      <td>9</td>\n",
       "    </tr>\n",
       "    <tr>\n",
       "      <th>2</th>\n",
       "      <td>b</td>\n",
       "      <td>2</td>\n",
       "    </tr>\n",
       "    <tr>\n",
       "      <th>3</th>\n",
       "      <td>b</td>\n",
       "      <td>4</td>\n",
       "    </tr>\n",
       "    <tr>\n",
       "      <th>4</th>\n",
       "      <td>c</td>\n",
       "      <td>7</td>\n",
       "    </tr>\n",
       "    <tr>\n",
       "      <th>5</th>\n",
       "      <td>c</td>\n",
       "      <td>8</td>\n",
       "    </tr>\n",
       "    <tr>\n",
       "      <th>6</th>\n",
       "      <td>c</td>\n",
       "      <td>2</td>\n",
       "    </tr>\n",
       "    <tr>\n",
       "      <th>7</th>\n",
       "      <td>a</td>\n",
       "      <td>1</td>\n",
       "    </tr>\n",
       "    <tr>\n",
       "      <th>8</th>\n",
       "      <td>a</td>\n",
       "      <td>8</td>\n",
       "    </tr>\n",
       "    <tr>\n",
       "      <th>9</th>\n",
       "      <td>b</td>\n",
       "      <td>9</td>\n",
       "    </tr>\n",
       "  </tbody>\n",
       "</table>\n",
       "</div>"
      ],
      "text/plain": [
       "   A  B\n",
       "0  a  1\n",
       "1  a  9\n",
       "2  b  2\n",
       "3  b  4\n",
       "4  c  7\n",
       "5  c  8\n",
       "6  c  2\n",
       "7  a  1\n",
       "8  a  8\n",
       "9  b  9"
      ]
     },
     "execution_count": 1,
     "metadata": {},
     "output_type": "execute_result"
    }
   ],
   "source": [
    "# Importing and making DataFrame\n",
    "import pandas as pd\n",
    "df = pd.DataFrame({'A':['a','a','b','b','c','c','c','a','a','b'],'B':[1,9,2,4,7,8,2,1,8,9]})\n",
    "df"
   ]
  },
  {
   "cell_type": "code",
   "execution_count": 9,
   "metadata": {},
   "outputs": [],
   "source": [
    "import pandas as pd\n",
    "\n",
    "def local_groupby(A,B):\n",
    "    \n",
    "    \"\"\"Custome local group by function which calculates sum of each group\"\"\"\n",
    "    \n",
    "    A_list = list(A)\n",
    "    B_list = list(B)\n",
    "\n",
    "    rank_list = zip_list = []\n",
    "    counter = group_sum = 0\n",
    "    samp_dict = {}\n",
    "    \n",
    "    for i in range(len(A_list)):\n",
    "        \n",
    "        # Ranking of elements according to local group logic by comparing element with previous one        \n",
    "        if A_list[i] != A_list[i-1]:\n",
    "            counter += 1\n",
    "        rank_list.append(counter)\n",
    "        \n",
    "        # Zipping three list to iterate along groups\n",
    "        zip_list=list(zip(A_list, B_list,rank_list))\n",
    "        \n",
    "        # Chekcing two or more consecutive elements falls in same groups if yes, then add values\n",
    "        if zip_list[i][2] == zip_list[i-1][2] :\n",
    "            group_sum = zip_list[i][1] + group_sum\n",
    "            samp_dict[zip_list[i][2]] = group_sum\n",
    "        else:\n",
    "            group_sum = 0\n",
    "            group_sum = zip_list[i][1]\n",
    "            samp_dict[zip_list[i][2]] = group_sum\n",
    "    \n",
    "    # unzipping three list ----> A column, B column, group sum\n",
    "    zip_list = list(zip(*zip_list))\n",
    "    del zip_list[1] # deleting B column values\n",
    "    \n",
    "    zip_list = zip(list(zip_list[0]),list(zip_list[1]))\n",
    "    \n",
    "    # Remove Duplicates according to groups.\n",
    "    zip_list = list(dict.fromkeys(zip_list))\n",
    "    \n",
    "    zip_list = list(zip(*zip_list)) # [('a', 'b', 'c', 'a', 'b'), (1, 2, 3, 4, 5)]\n",
    "\n",
    "    # Making DataFrame with Local group Sum.\n",
    "    grouped_df = pd.DataFrame({'A':list(zip_list[0]), 'B':samp_dict.values()})\n",
    "    return grouped_df"
   ]
  },
  {
   "cell_type": "code",
   "execution_count": 10,
   "metadata": {},
   "outputs": [
    {
     "data": {
      "text/html": [
       "<div>\n",
       "<style scoped>\n",
       "    .dataframe tbody tr th:only-of-type {\n",
       "        vertical-align: middle;\n",
       "    }\n",
       "\n",
       "    .dataframe tbody tr th {\n",
       "        vertical-align: top;\n",
       "    }\n",
       "\n",
       "    .dataframe thead th {\n",
       "        text-align: right;\n",
       "    }\n",
       "</style>\n",
       "<table border=\"1\" class=\"dataframe\">\n",
       "  <thead>\n",
       "    <tr style=\"text-align: right;\">\n",
       "      <th></th>\n",
       "      <th>A</th>\n",
       "      <th>B</th>\n",
       "    </tr>\n",
       "  </thead>\n",
       "  <tbody>\n",
       "    <tr>\n",
       "      <th>0</th>\n",
       "      <td>a</td>\n",
       "      <td>10</td>\n",
       "    </tr>\n",
       "    <tr>\n",
       "      <th>1</th>\n",
       "      <td>b</td>\n",
       "      <td>6</td>\n",
       "    </tr>\n",
       "    <tr>\n",
       "      <th>2</th>\n",
       "      <td>c</td>\n",
       "      <td>17</td>\n",
       "    </tr>\n",
       "    <tr>\n",
       "      <th>3</th>\n",
       "      <td>a</td>\n",
       "      <td>9</td>\n",
       "    </tr>\n",
       "    <tr>\n",
       "      <th>4</th>\n",
       "      <td>b</td>\n",
       "      <td>9</td>\n",
       "    </tr>\n",
       "  </tbody>\n",
       "</table>\n",
       "</div>"
      ],
      "text/plain": [
       "   A   B\n",
       "0  a  10\n",
       "1  b   6\n",
       "2  c  17\n",
       "3  a   9\n",
       "4  b   9"
      ]
     },
     "execution_count": 10,
     "metadata": {},
     "output_type": "execute_result"
    }
   ],
   "source": [
    "# Solution with local grouping \n",
    "local_groupby(df['A'],df['B'])"
   ]
  },
  {
   "cell_type": "markdown",
   "metadata": {},
   "source": [
    "# Problem 1 : Custom Pairwise Distance\n",
    "\n",
    "𝜙(𝐩, 𝐪) = ∑𝑖=1-𝑛 ((𝑞𝑖 − 𝑝𝑖)2 − (𝑞𝑖 - 𝑝𝑖)3)/𝑞𝑖*𝑝𝑖\n"
   ]
  },
  {
   "cell_type": "code",
   "execution_count": 12,
   "metadata": {},
   "outputs": [
    {
     "data": {
      "text/plain": [
       "array([[1, 1, 3, 1, 1],\n",
       "       [1, 3, 1, 3, 4],\n",
       "       [3, 2, 4, 4, 1],\n",
       "       [4, 1, 1, 3, 2],\n",
       "       [2, 3, 2, 4, 4],\n",
       "       [2, 3, 1, 3, 3],\n",
       "       [1, 4, 3, 4, 2],\n",
       "       [2, 4, 2, 3, 3]])"
      ]
     },
     "execution_count": 12,
     "metadata": {},
     "output_type": "execute_result"
    }
   ],
   "source": [
    "# Importing and Initializing Numpy matrix\n",
    "import numpy as np\n",
    "vectors = np.array([[1, 1, 3, 1, 1],\n",
    " [1, 3, 1, 3, 4],\n",
    " [3, 2, 4, 4, 1],\n",
    " [4, 1, 1, 3, 2],\n",
    " [2, 3, 2, 4, 4],\n",
    " [2, 3, 1, 3, 3],\n",
    " [1, 4, 3, 4, 2],\n",
    " [2, 4, 2, 3, 3]])"
   ]
  },
  {
   "cell_type": "code",
   "execution_count": 13,
   "metadata": {},
   "outputs": [
    {
     "name": "stdout",
     "output_type": "stream",
     "text": [
      "(8, 5)\n"
     ]
    }
   ],
   "source": [
    "print(vectors.shape) # (8,5)"
   ]
  },
  {
   "cell_type": "code",
   "execution_count": 17,
   "metadata": {},
   "outputs": [
    {
     "name": "stdout",
     "output_type": "stream",
     "text": [
      "New matrix is '\n",
      "'  [[1 1 3 1 1 0 0 0]\n",
      " [1 3 1 3 4 0 0 0]\n",
      " [3 2 4 4 1 0 0 0]\n",
      " [4 1 1 3 2 0 0 0]\n",
      " [2 3 2 4 4 0 0 0]\n",
      " [2 3 1 3 3 0 0 0]\n",
      " [1 4 3 4 2 0 0 0]\n",
      " [2 4 2 3 3 0 0 0]]  '\n",
      " Shape would be  (8, 8)\n"
     ]
    }
   ],
   "source": [
    "# Convert (8,5) matrix to (8,8) matrix by padding 0 at the end of the column axis\n",
    "vectors1 =np.resize(np.pad(vectors,(0,3),'constant'),(8,8))\n",
    "print(\"New matrix is '\\n' \",vectors1, \" '\\n Shape would be \", vectors1.shape) # (8,8)"
   ]
  },
  {
   "cell_type": "code",
   "execution_count": 19,
   "metadata": {},
   "outputs": [],
   "source": [
    "# Functions to be used in this problems \n",
    "\n",
    "def append_zero(vectors1):\n",
    "    \"\"\"Append Zeros with same shape to the end of row or axis 0\"\"\"\n",
    "    return np.pad(vectors1,[(0,1),(0,0)],'constant')\n",
    "\n",
    "def square_vec(vectors1, vectors2):\n",
    "    \"\"\"Return square of two vectors with same shape\"\"\"\n",
    "    return np.square(vectors1 - vectors2)\n",
    "    \n",
    "def cube_vec(vectors1, vectors2):\n",
    "    \"\"\"Return cube of two vectors \"\"\"\n",
    "    return np.power((vectors1-vectors2),3)\n",
    "\n",
    "def dot_vec(vectors1,vectors2):\n",
    "    \"\"\"Return dot product of two vectors \"\"\"\n",
    "    return vectors1*vectors2"
   ]
  },
  {
   "cell_type": "code",
   "execution_count": 20,
   "metadata": {},
   "outputs": [],
   "source": [
    "# Making other vectors to find Distance.\n",
    "\n",
    "vectors2 =append_zero(vectors1[1:]) \n",
    "vectors3 = np.vstack([vectors1[0:1],append_zero(vectors1[2:])]) # Appending two vectors.\n",
    "vectors4 = np.vstack([vectors1[0:2,],append_zero(vectors1[3:])])\n",
    "vectors5 = np.vstack([vectors1[0:3,],append_zero(vectors1[4:])])\n",
    "vectors6 = np.vstack([vectors1[0:4,],append_zero(vectors1[5:])])\n",
    "vectors7 = np.vstack([vectors1[0:5,],append_zero(vectors1[6:])])\n",
    "vectors8 = np.vstack([vectors1[0:6,],append_zero(vectors1[7:])])"
   ]
  },
  {
   "cell_type": "code",
   "execution_count": 23,
   "metadata": {},
   "outputs": [
    {
     "name": "stderr",
     "output_type": "stream",
     "text": [
      "<ipython-input-23-2ba5cd1770e3>:6: RuntimeWarning: divide by zero encountered in true_divide\n",
      "  custome_distance = np.sum([(square_vec(vectors1, vectors2) -cube_vec(vectors1, vectors2))/dot_vec(vectors1, vectors2),\n",
      "<ipython-input-23-2ba5cd1770e3>:6: RuntimeWarning: invalid value encountered in true_divide\n",
      "  custome_distance = np.sum([(square_vec(vectors1, vectors2) -cube_vec(vectors1, vectors2))/dot_vec(vectors1, vectors2),\n",
      "<ipython-input-23-2ba5cd1770e3>:7: RuntimeWarning: divide by zero encountered in true_divide\n",
      "  (square_vec(vectors1, vectors2) -cube_vec(vectors1, vectors2))/dot_vec(vectors1, vectors2),\n",
      "<ipython-input-23-2ba5cd1770e3>:7: RuntimeWarning: invalid value encountered in true_divide\n",
      "  (square_vec(vectors1, vectors2) -cube_vec(vectors1, vectors2))/dot_vec(vectors1, vectors2),\n",
      "<ipython-input-23-2ba5cd1770e3>:8: RuntimeWarning: divide by zero encountered in true_divide\n",
      "  (square_vec(vectors1, vectors2) -cube_vec(vectors1, vectors2))/dot_vec(vectors1, vectors2),\n",
      "<ipython-input-23-2ba5cd1770e3>:8: RuntimeWarning: invalid value encountered in true_divide\n",
      "  (square_vec(vectors1, vectors2) -cube_vec(vectors1, vectors2))/dot_vec(vectors1, vectors2),\n",
      "<ipython-input-23-2ba5cd1770e3>:9: RuntimeWarning: divide by zero encountered in true_divide\n",
      "  (square_vec(vectors1, vectors2) -cube_vec(vectors1, vectors2))/dot_vec(vectors1, vectors2),\n",
      "<ipython-input-23-2ba5cd1770e3>:9: RuntimeWarning: invalid value encountered in true_divide\n",
      "  (square_vec(vectors1, vectors2) -cube_vec(vectors1, vectors2))/dot_vec(vectors1, vectors2),\n",
      "<ipython-input-23-2ba5cd1770e3>:10: RuntimeWarning: divide by zero encountered in true_divide\n",
      "  (square_vec(vectors1, vectors2) -cube_vec(vectors1, vectors2))/dot_vec(vectors1, vectors2),\n",
      "<ipython-input-23-2ba5cd1770e3>:10: RuntimeWarning: invalid value encountered in true_divide\n",
      "  (square_vec(vectors1, vectors2) -cube_vec(vectors1, vectors2))/dot_vec(vectors1, vectors2),\n",
      "<ipython-input-23-2ba5cd1770e3>:11: RuntimeWarning: divide by zero encountered in true_divide\n",
      "  (square_vec(vectors1, vectors2) -cube_vec(vectors1, vectors2))/dot_vec(vectors1, vectors2),\n",
      "<ipython-input-23-2ba5cd1770e3>:11: RuntimeWarning: invalid value encountered in true_divide\n",
      "  (square_vec(vectors1, vectors2) -cube_vec(vectors1, vectors2))/dot_vec(vectors1, vectors2),\n",
      "<ipython-input-23-2ba5cd1770e3>:12: RuntimeWarning: divide by zero encountered in true_divide\n",
      "  (square_vec(vectors1, vectors2) -cube_vec(vectors1, vectors2))/dot_vec(vectors1, vectors2),\n",
      "<ipython-input-23-2ba5cd1770e3>:12: RuntimeWarning: invalid value encountered in true_divide\n",
      "  (square_vec(vectors1, vectors2) -cube_vec(vectors1, vectors2))/dot_vec(vectors1, vectors2),\n",
      "<ipython-input-23-2ba5cd1770e3>:13: RuntimeWarning: divide by zero encountered in true_divide\n",
      "  (square_vec(vectors1, vectors2) -cube_vec(vectors1, vectors2))/dot_vec(vectors1, vectors2)],axis=0)\n",
      "<ipython-input-23-2ba5cd1770e3>:13: RuntimeWarning: invalid value encountered in true_divide\n",
      "  (square_vec(vectors1, vectors2) -cube_vec(vectors1, vectors2))/dot_vec(vectors1, vectors2)],axis=0)\n"
     ]
    },
    {
     "data": {
      "text/plain": [
       "array([[  0.        ,  32.        , -10.66666667,  32.        ,\n",
       "         72.        ,          nan,          nan,          nan],\n",
       "       [ 32.        ,   0.        ,  72.        ,   1.33333333,\n",
       "        -36.        ,          nan,          nan,          nan],\n",
       "       [  1.33333333,   0.        , -36.        ,   0.        ,\n",
       "          8.        ,          nan,          nan,          nan],\n",
       "       [ -4.        ,  32.        ,   8.        ,   1.33333333,\n",
       "         12.        ,          nan,          nan,          nan],\n",
       "       [  0.        ,   0.        ,   0.        ,   0.        ,\n",
       "          0.        ,          nan,          nan,          nan],\n",
       "       [  0.        ,   1.33333333,  32.        ,   1.33333333,\n",
       "          0.        ,          nan,          nan,          nan],\n",
       "       [  8.        ,   0.        ,   0.        ,   0.        ,\n",
       "          2.66666667,          nan,          nan,          nan],\n",
       "       [        -inf,         -inf,         -inf,         -inf,\n",
       "                -inf,          nan,          nan,          nan]])"
      ]
     },
     "execution_count": 23,
     "metadata": {},
     "output_type": "execute_result"
    }
   ],
   "source": [
    "# Calculating distance according to formula. 𝜙(𝐩, 𝐪) = ∑𝑖=1-𝑛 ((𝑞𝑖 − 𝑝𝑖)2 − (𝑞𝑖 - 𝑝𝑖)3)/𝑞𝑖*𝑝𝑖\n",
    "\n",
    "\"\"\"Sample distance for two vectors \n",
    "    distance = square_vec(vectors1, vectors2) -cube_vec(vectors1, vectors2))/dot_vec(vectors1, vectors2)\n",
    "                                                                                                        \"\"\"\n",
    "custome_distance = np.sum([(square_vec(vectors1, vectors2) -cube_vec(vectors1, vectors2))/dot_vec(vectors1, vectors2),\n",
    "                     (square_vec(vectors1, vectors2) -cube_vec(vectors1, vectors2))/dot_vec(vectors1, vectors2),\n",
    "                     (square_vec(vectors1, vectors2) -cube_vec(vectors1, vectors2))/dot_vec(vectors1, vectors2),\n",
    "                     (square_vec(vectors1, vectors2) -cube_vec(vectors1, vectors2))/dot_vec(vectors1, vectors2),\n",
    "                     (square_vec(vectors1, vectors2) -cube_vec(vectors1, vectors2))/dot_vec(vectors1, vectors2),\n",
    "                     (square_vec(vectors1, vectors2) -cube_vec(vectors1, vectors2))/dot_vec(vectors1, vectors2),\n",
    "                     (square_vec(vectors1, vectors2) -cube_vec(vectors1, vectors2))/dot_vec(vectors1, vectors2),\n",
    "                     (square_vec(vectors1, vectors2) -cube_vec(vectors1, vectors2))/dot_vec(vectors1, vectors2)],axis=0)\n",
    "\n",
    "custome_distance"
   ]
  },
  {
   "cell_type": "code",
   "execution_count": 27,
   "metadata": {},
   "outputs": [
    {
     "name": "stdout",
     "output_type": "stream",
     "text": [
      "[[  0.  32. -11.  32.  72.   0.   0.   0.]\n",
      " [ 32.   0.  72.   1. -36.   0.   0.   0.]\n",
      " [  1.   0. -36.   0.   8.   0.   0.   0.]\n",
      " [ -4.  32.   8.   1.  12.   0.   0.   0.]\n",
      " [  0.   0.   0.   0.   0.   0.   0.   0.]\n",
      " [  0.   1.  32.   1.   0.   0.   0.   0.]\n",
      " [  8.   0.   0.   0.   3.   0.   0.   0.]\n",
      " [  0.   0.   0.   0.   0.   0.   0.   0.]] \n",
      " Shape would be ... (8, 8)\n"
     ]
    }
   ],
   "source": [
    "# Replace infinity and nan values to 0 and rouding it to nearest number.\n",
    "\n",
    "custome_distance = np.rint(np.nan_to_num(custome_distance, neginf=0) )\n",
    "print(custome_distance, '\\n Shape would be ...', custome_distance.shape)"
   ]
  },
  {
   "cell_type": "code",
   "execution_count": null,
   "metadata": {},
   "outputs": [],
   "source": []
  }
 ],
 "metadata": {
  "kernelspec": {
   "display_name": "Python 3",
   "language": "python",
   "name": "python3"
  },
  "language_info": {
   "codemirror_mode": {
    "name": "ipython",
    "version": 3
   },
   "file_extension": ".py",
   "mimetype": "text/x-python",
   "name": "python",
   "nbconvert_exporter": "python",
   "pygments_lexer": "ipython3",
   "version": "3.8.5"
  }
 },
 "nbformat": 4,
 "nbformat_minor": 4
}
