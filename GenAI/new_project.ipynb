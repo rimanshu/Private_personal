{
 "cells": [
  {
   "cell_type": "code",
   "execution_count": 2,
   "metadata": {},
   "outputs": [
    {
     "name": "stderr",
     "output_type": "stream",
     "text": [
      "WARNING: Retrying (Retry(total=4, connect=None, read=None, redirect=None, status=None)) after connection broken by 'NewConnectionError('<pip._vendor.urllib3.connection.HTTPSConnection object at 0x0000018BC6A28940>: Failed to establish a new connection: [Errno 11002] getaddrinfo failed')': /simple/langchain/\n",
      "WARNING: Retrying (Retry(total=3, connect=None, read=None, redirect=None, status=None)) after connection broken by 'NewConnectionError('<pip._vendor.urllib3.connection.HTTPSConnection object at 0x0000018BC6A28C40>: Failed to establish a new connection: [Errno 11002] getaddrinfo failed')': /simple/langchain/\n",
      "WARNING: Retrying (Retry(total=2, connect=None, read=None, redirect=None, status=None)) after connection broken by 'NewConnectionError('<pip._vendor.urllib3.connection.HTTPSConnection object at 0x0000018BC6A28F70>: Failed to establish a new connection: [Errno 11002] getaddrinfo failed')': /simple/langchain/\n",
      "WARNING: Retrying (Retry(total=1, connect=None, read=None, redirect=None, status=None)) after connection broken by 'NewConnectionError('<pip._vendor.urllib3.connection.HTTPSConnection object at 0x0000018BC6A59070>: Failed to establish a new connection: [Errno 11002] getaddrinfo failed')': /simple/langchain/\n",
      "WARNING: Retrying (Retry(total=0, connect=None, read=None, redirect=None, status=None)) after connection broken by 'NewConnectionError('<pip._vendor.urllib3.connection.HTTPSConnection object at 0x0000018BC6A592E0>: Failed to establish a new connection: [Errno 11002] getaddrinfo failed')': /simple/langchain/\n",
      "ERROR: Could not find a version that satisfies the requirement langchain (from versions: none)\n",
      "ERROR: No matching distribution found for langchain\n"
     ]
    }
   ],
   "source": [
    "!pip install -U --quiet langchain langchain_community chromadb  langchain-google-vertexai\n",
    "# !pip install --quiet \"unstructured[all-docs]\" pypdf pillow pydantic lxml pillow matplotlib chromadb tiktoken"
   ]
  },
  {
   "cell_type": "code",
   "execution_count": 2,
   "metadata": {},
   "outputs": [
    {
     "name": "stderr",
     "output_type": "stream",
     "text": [
      "WARNING: Retrying (Retry(total=4, connect=None, read=None, redirect=None, status=None)) after connection broken by 'NewConnectionError('<pip._vendor.urllib3.connection.HTTPSConnection object at 0x000002E3BC06A460>: Failed to establish a new connection: [Errno 11002] getaddrinfo failed')': /simple/chromadb/\n",
      "WARNING: Retrying (Retry(total=3, connect=None, read=None, redirect=None, status=None)) after connection broken by 'NewConnectionError('<pip._vendor.urllib3.connection.HTTPSConnection object at 0x000002E3BC06A790>: Failed to establish a new connection: [Errno 11002] getaddrinfo failed')': /simple/chromadb/\n",
      "WARNING: Retrying (Retry(total=2, connect=None, read=None, redirect=None, status=None)) after connection broken by 'NewConnectionError('<pip._vendor.urllib3.connection.HTTPSConnection object at 0x000002E3BC06AA90>: Failed to establish a new connection: [Errno 11002] getaddrinfo failed')': /simple/chromadb/\n",
      "WARNING: Retrying (Retry(total=1, connect=None, read=None, redirect=None, status=None)) after connection broken by 'NewConnectionError('<pip._vendor.urllib3.connection.HTTPSConnection object at 0x000002E3BC06AC40>: Failed to establish a new connection: [Errno 11002] getaddrinfo failed')': /simple/chromadb/\n",
      "WARNING: Retrying (Retry(total=0, connect=None, read=None, redirect=None, status=None)) after connection broken by 'NewConnectionError('<pip._vendor.urllib3.connection.HTTPSConnection object at 0x000002E3BC06ADF0>: Failed to establish a new connection: [Errno 11002] getaddrinfo failed')': /simple/chromadb/\n",
      "ERROR: Could not find a version that satisfies the requirement chromadb (from versions: none)\n",
      "ERROR: No matching distribution found for chromadb\n"
     ]
    }
   ],
   "source": [
    "!pip install langchain-google-vertexai"
   ]
  },
  {
   "cell_type": "code",
   "execution_count": null,
   "metadata": {},
   "outputs": [],
   "source": [
    "#TODO : ENter project and location\n",
    "PROJECT_ID = \"\"\n",
    "REGION = \"us-central1\"\n",
    "\n",
    "from google.colab import auth\n",
    "auth.authenticate_user()\n",
    "\n",
    "import vertexai\n",
    "vertexai.init(project = PROJECT_ID , location = REGION)"
   ]
  }
 ],
 "metadata": {
  "kernelspec": {
   "display_name": "Python 3",
   "language": "python",
   "name": "python3"
  },
  "language_info": {
   "codemirror_mode": {
    "name": "ipython",
    "version": 3
   },
   "file_extension": ".py",
   "mimetype": "text/x-python",
   "name": "python",
   "nbconvert_exporter": "python",
   "pygments_lexer": "ipython3",
   "version": "3.9.0"
  }
 },
 "nbformat": 4,
 "nbformat_minor": 2
}
