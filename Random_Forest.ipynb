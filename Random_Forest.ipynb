{
 "cells": [
  {
   "cell_type": "markdown",
   "metadata": {},
   "source": [
    "# Random Forest"
   ]
  },
  {
   "cell_type": "markdown",
   "metadata": {},
   "source": [
    "https://towardsdatascience.com/random-forest-a-powerful-ensemble-learning-algorithm-2bf132ba639d\n",
    "\n",
    "https://www.analyticsvidhya.com/blog/2016/04/tree-based-algorithms-complete-tutorial-scratch-in-python/\n",
    "\n",
    "https://medium.com/analytics-vidhya/ensemble-models-baggings-vs-boosting-8affa6d18098\n",
    "\n",
    "https://mlcourse.ai/articles/topic5-part2-rf/"
   ]
  },
  {
   "cell_type": "markdown",
   "metadata": {},
   "source": [
    "Extremely Randomized Trees employ a greater degree of randomization at the cut-point choice when splitting a tree node. As in random forests, a random subset of features is used. But, instead of the search for the optimal thresholds, their values are selected at random for each possible feature, and the best one among these randomly generated thresholds is used as the best rule to split the node. This usually trades off a slight reduction in the model variance with a small increase of the bias.\n",
    "\n",
    "In the scikit-learn library, there are 2 implementations of Extremely Randomized Trees: ExtraTreesClassifier and ExtraTreesRegressor.\n",
    "\n",
    "This method should be used if you have greatly overfit with random forests or gradient boosting."
   ]
  },
  {
   "cell_type": "code",
   "execution_count": 20,
   "metadata": {
    "scrolled": true
   },
   "outputs": [
    {
     "data": {
      "text/plain": [
       "Text(69,0.5,'Truth')"
      ]
     },
     "execution_count": 20,
     "metadata": {},
     "output_type": "execute_result"
    },
    {
     "data": {
      "image/png": "[encoded data removed]",
      "text/plain": [
       "<Figure size 720x504 with 2 Axes>"
      ]
     },
     "metadata": {
      "needs_background": "light"
     },
     "output_type": "display_data"
    }
   ],
   "source": [
    "# One or more decision tree will be the random forest\n",
    "#Ensemples Model is a technique that creates multiple machinelearning moddels and create final results. It useully produce correct \n",
    "#result than single model.It can avoid overfitting. \n",
    "\n",
    "#Identify the hand wrriten recognization\n",
    "\n",
    "import pandas as pd\n",
    "from sklearn.datasets import load_digits\n",
    "digits = load_digits()\n",
    "dir(digits)\n",
    "\n",
    "%matplotlib inline\n",
    "import matplotlib.pyplot as plt\n",
    "plt.gray()\n",
    "\n",
    "for i in range(4):\n",
    "    plt.matshow(digits.images[i])\n",
    "    \n",
    "#Make a dataframe\n",
    "\n",
    "digits.data[:5]\n",
    "df=pd.DataFrame(digits.data)\n",
    "df.head()\n",
    "\n",
    "df['target'] = digits.target # Create new column in dataframe\n",
    "df.head()\n",
    "\n",
    "# Machine Learning\n",
    "from sklearn.model_selection import train_test_split\n",
    "x_train, x_test, y_train, y_test = train_test_split(df.drop(['target'],axis='columns'),digits.target, test_size=0.2)\n",
    "len(x_train)\n",
    "\n",
    "from sklearn.ensemble import RandomForestClassifier #When you are using multiple algorithms to predict the outcome then use ensemble\n",
    "model=RandomForestClassifier(n_estimators=50) #n_estimator is number of trees.\n",
    "model.fit(x_train,y_train)\n",
    "model.score(x_test,y_test)\n",
    "y_predicted =model.predict(x_test)\n",
    "\n",
    "from sklearn.metrics import confusion_matrix\n",
    "cm=confusion_matrix(y_test,y_predicted)\n",
    "cm\n",
    "\n",
    "%matplotlib inline\n",
    "import matplotlib.pyplot as plt\n",
    "import seaborn as sn\n",
    "plt.figure(figsize=(10,7))\n",
    "sn.heatmap(cm,annot=True)\n",
    "plt.xlabel('Predicted')\n",
    "plt.ylabel('Truth')\n"
   ]
  },
  {
   "cell_type": "code",
   "execution_count": 8,
   "metadata": {},
   "outputs": [],
   "source": [
    "#Voting classifier - It is easy way to improvement of esemble method.\n",
    "\n",
    "#Assuming you have two classes class-A and class-B\n",
    "\n",
    "#Logistic Regression( has an inbuilt predict_proba() method) and SVC(set probability=True) both are able to estimate \n",
    "#class probabilities on their outputs i.e. they predict if input is class-A with probability a and class-B with probability b.\n",
    "#If a>b then it outputs predicted class is A otherwise B .In a voting classifier setting the voting parameter to soft enables \n",
    "#them(SVM and LogiReg) to calculate their probability(also known as confidence score) individually and present it to the \n",
    "#voting classifier, then the voting classifier averages them and outputs the class with the highest probability.\n",
    "\n",
    "Make sure that if you set voting=soft then the classifiers you provide can also calculate this confidence score.\n",
    "from sklearn.ensemble import VotingClassifier\n",
    "from sklearn import linear_model, naive_bayes, tree\n",
    "clf1=LogisticRegression(random_state=1)\n",
    "clf2=RandomForestClassifier(random_state=1)\n",
    "clf3=GaussianNB()\n",
    "\n",
    "ensemble_model=VotingClassifier(estimator=[('lr',clf1),[('rf',clf2),('gnb',clf3), voting='hard']])\n",
    "\n",
    "ensemble_model.fit(X_train,y_train)\n",
    "ensemble_model.predict(X_test)\n",
    "\n",
    "VotingClassifier(estimator=[('lr',clf1),('rf',clf2),('gnb',clf3)], voting='hard',weight=[2,1,1])\n",
    "\n",
    "#the Logistic Regression, has a slightly higher recall score than our optimal Random Forest model, but gives a lot more \n",
    "#false positives. You'll also add a Decision Tree with balanced weights to it"
   ]
  },
  {
   "cell_type": "code",
   "execution_count": null,
   "metadata": {},
   "outputs": [],
   "source": [
    "############################### IRIS data set ##############################"
   ]
  }
 ],
 "metadata": {
  "kernelspec": {
   "display_name": "Python 3",
   "language": "python",
   "name": "python3"
  },
  "language_info": {
   "codemirror_mode": {
    "name": "ipython",
    "version": 3
   },
   "file_extension": ".py",
   "mimetype": "text/x-python",
   "name": "python",
   "nbconvert_exporter": "python",
   "pygments_lexer": "ipython3",
   "version": "3.7.3"
  }
 },
 "nbformat": 4,
 "nbformat_minor": 2
}
