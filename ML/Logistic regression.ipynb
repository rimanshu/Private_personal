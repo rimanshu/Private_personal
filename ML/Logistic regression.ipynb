{
 "cells": [
  {
   "cell_type": "markdown",
   "metadata": {},
   "source": [
    "# Logistic regression"
   ]
  },
  {
   "cell_type": "markdown",
   "metadata": {},
   "source": [
    "https://www.analyticsvidhya.com/blog/2015/11/beginners-guide-on-logistic-regression-in-r\n",
    "\n",
    "https://towardsdatascience.com/building-a-logistic-regression-in-python-step-by-step-becd4d56c9c8"
   ]
  },
  {
   "cell_type": "code",
   "execution_count": 3,
   "metadata": {},
   "outputs": [],
   "source": [
    "# Previously linear regression is used to predict the continious data like stock price, wheather etc. Predicted value could be any number.\n",
    "# but Logistic regression is used for solve simple classification problem or when data is categorical like spam email or not\n",
    "#Customer would buy product or not , which party a person will going to vote for. Predicted value could be from defined categories\n",
    "#Examples :- \n",
    "# 1) Passengers of titanic ship will survived or not.\n",
    "# 2) If your car has not been serviced for quite a few years and wanted to know if this going to break down or not.\n",
    "# X is year since service and Y is the probability of car breakdown.\n",
    "#3) Survival rate of pateint.\n",
    "\n",
    "#Logistic regression is a technique used for solve classification problem. There are type of classification such as \n",
    "# 1) Binary classification- Awnser would be yes/no or will customer buy life insurance or not\n",
    "# 2) Multiclass classification - Which party a person going to vote like above example.\n",
    "\n",
    "# In simple words, it predicts the probability of occurrence of an event by fitting data to a logit function.\n",
    "\n",
    "#Sigmoid function - 1/1+(e)-y ... e is Euler's number ~2.71 ==== outcome will be less than one. y=mx+c. It has S curve or sigmoid curve\n",
    "#Signmoid will convert input into range 0 to 1.\n",
    "\n",
    "#Classification is for discreate value while regression is for continious value\n",
    "# If we plot line as same as linear regression in logistic then resedule error will be very high.\n",
    "\n"
   ]
  },
  {
   "cell_type": "markdown",
   "metadata": {},
   "source": [
    "Lets understand the Logistic Regression in simple words - In logistic regression, we are only concerned about the probability of outcome dependent variable\n",
    "\n",
    "General linear equation - g(E(y)) = α + βx1 + γx2\n",
    "\n",
    " g(y) = βo + β(Age)   lets take one independent variable.\n",
    " \n",
    " p = exp(βo + β(Age)) - to make it positive or greater than 0.\n",
    " \n",
    " p  =  exp(βo + β(Age)) / (exp(βo + β(Age)) + 1)  - to make it less than one\n",
    " \n",
    " p = e^y/ 1 + e^y  -- refined equation  - (1)\n",
    " \n",
    " If p is the probability of success, 1-p will be the probability of failure which can be written as:\n",
    " \n",
    " q = 1 - p = 1 - (e^y/ 1 + e^y)  --where q is the probability of failure (2)\n",
    " \n",
    " on dividing 1 and 2 \n",
    " \n",
    " p/1-p = (e)y\n",
    " \n",
    " log(p/1-p) = y on taking log  and this is the logic equation.\n",
    " \n",
    " Logit Transformation is defined as follows-\n",
    "Logit = Log (p/1-p) = log (probability of event happening/ probability of event not happening) = log (Odds)"
   ]
  },
  {
   "cell_type": "markdown",
   "metadata": {},
   "source": [
    "we know accuracy can be misleading in the case of fraud detection. With highly imbalanced fraud data, \n",
    "the AUROC curve is a more reliable performance metric, used to compare different classifiers.\n",
    "\n",
    "ROC Curve: Receiver Operating Characteristic(ROC) summarizes the model’s performance by evaluating the trade offs \n",
    "between true positive rate (sensitivity) and false positive rate(1- specificity). For plotting ROC, it is advisable to \n",
    "assume p > 0.5 since we are more concerned about success rate. ROC summarizes the predictive power for all possible values \n",
    "of p > 0.5.  The area under curve (AUC), referred to as index of accuracy(A) or concordance index, is a perfect performance \n",
    "metric for ROC curve. Higher the area under curve, better the prediction power of the model. Below is a sample ROC curve. \n",
    "The ROC of a perfect predictive model has TP equals 1 and FP equals 0. This curve will touch the top left corner of the \n",
    "graph."
   ]
  },
  {
   "cell_type": "code",
   "execution_count": 7,
   "metadata": {},
   "outputs": [
    {
     "data": {
      "text/plain": [
       "<matplotlib.collections.PathCollection at 0xec92c5ee80>"
      ]
     },
     "execution_count": 7,
     "metadata": {},
     "output_type": "execute_result"
    },
    {
     "data": {
      "image/png": "[encoded data removed]",
      "text/plain": [
       "<Figure size 432x288 with 1 Axes>"
      ]
     },
     "metadata": {
      "needs_background": "light"
     },
     "output_type": "display_data"
    }
   ],
   "source": [
    "#https://medium.com/@fenjiro/data-mining-for-banking-loan-approval-use-case-e7c2bc3ece3\n",
    "\n",
    "import pandas as pd\n",
    "import numpy as np\n",
    "from sklearn.model_selection import train_test_split\n",
    "from sklearn import linear_model\n",
    "import matplotlib.pyplot as plt\n",
    "%matplotlib inline\n",
    "\n",
    "df = pd.read_csv(\"D://Work//Python//Python ML//ML//7_logistic_reg//insurance_data.csv\")\n",
    "df.head() \n",
    "\n",
    "plt.scatter(df.age,df.bought_insurance,color='Red', marker='+')"
   ]
  },
  {
   "cell_type": "code",
   "execution_count": 52,
   "metadata": {},
   "outputs": [
    {
     "data": {
      "text/plain": [
       "array([[0.20618565, 0.79381435],\n",
       "       [0.24045662, 0.75954338],\n",
       "       [0.6638168 , 0.3361832 ]])"
      ]
     },
     "execution_count": 52,
     "metadata": {},
     "output_type": "execute_result"
    }
   ],
   "source": [
    "df.shape #(27, 2)\n",
    "\n",
    "X_train,X_test,Y_train, Y_test=train_test_split(df[['age']],df.bought_insurance,test_size=.10, random_state=10)\n",
    "X_train\n",
    "\n",
    "from sklearn.linear_model import LogisticRegression\n",
    "model = LogisticRegression()\n",
    "model.fit(X_train,Y_train)\n",
    "model.score(X_test,Y_test) # 1\n",
    "model.predict(X_test)  #array([1, 1, 0], dtype=int64)\n",
    "X_test\n",
    "model.predict_proba(X_test) # Probablity of buy a insurance"
   ]
  },
  {
   "cell_type": "code",
   "execution_count": null,
   "metadata": {},
   "outputs": [],
   "source": [
    "###################Exercise############################"
   ]
  },
  {
   "cell_type": "code",
   "execution_count": 5,
   "metadata": {},
   "outputs": [
    {
     "data": {
      "text/plain": [
       "Index(['satisfaction_level', 'last_evaluation', 'number_project',\n",
       "       'average_montly_hours', 'time_spend_company', 'Work_accident', 'left',\n",
       "       'promotion_last_5years', 'Department', 'salary'],\n",
       "      dtype='object')"
      ]
     },
     "execution_count": 5,
     "metadata": {},
     "output_type": "execute_result"
    }
   ],
   "source": [
    "import pandas as pd\n",
    "import matplotlib.pyplot as plt\n",
    "from sklearn.linear_model import LogisticRegression\n",
    "from sklearn.model_selection import train_test_split\n",
    "\n",
    "df = pd.read_csv(\"D://Work//Python//Python ML//ML//7_logistic_reg//Exercise//HR_comma_sep.csv\")\n",
    "df.head() \n",
    "\n",
    "df.columns"
   ]
  },
  {
   "cell_type": "code",
   "execution_count": 2,
   "metadata": {},
   "outputs": [],
   "source": [
    "X_train, Y_train, X_test, Y_test = train_test_split(df[['satisfaction_level', 'last_evaluation', 'number_project',\n",
    "       'average_montly_hours', 'time_spend_company', 'Work_accident',\n",
    "       'promotion_last_5years', 'Department', 'salary']], df.left, test_size=.10,random_state=10)\n",
    "\n",
    "HR_model = LogisticRegression()\n",
    "HR_model.fit(X_train,Y_train)"
   ]
  },
  {
   "cell_type": "code",
   "execution_count": 31,
   "metadata": {},
   "outputs": [
    {
     "data": {
      "text/plain": [
       "Text(69,0.5,'Truth')"
      ]
     },
     "execution_count": 31,
     "metadata": {},
     "output_type": "execute_result"
    },
    {
     "data": {
      "text/plain": [
       "<Figure size 432x288 with 0 Axes>"
      ]
     },
     "metadata": {},
     "output_type": "display_data"
    },
    {
     "data": {
      "image/png": "[encoded data removed]",
      "text/plain": [
       "<Figure size 288x288 with 1 Axes>"
      ]
     },
     "metadata": {
      "needs_background": "light"
     },
     "output_type": "display_data"
    },
    {
     "data": {
      "image/png": "[encoded data removed]",
      "text/plain": [
       "<Figure size 288x288 with 1 Axes>"
      ]
     },
     "metadata": {
      "needs_background": "light"
     },
     "output_type": "display_data"
    },
    {
     "data": {
      "image/png": "[encoded data removed]",
      "text/plain": [
       "<Figure size 288x288 with 1 Axes>"
      ]
     },
     "metadata": {
      "needs_background": "light"
     },
     "output_type": "display_data"
    },
    {
     "data": {
      "image/png": "[encoded data removed]",
      "text/plain": [
       "<Figure size 288x288 with 1 Axes>"
      ]
     },
     "metadata": {
      "needs_background": "light"
     },
     "output_type": "display_data"
    },
    {
     "data": {
      "image/png": "[encoded data removed]",
      "text/plain": [
       "<Figure size 288x288 with 1 Axes>"
      ]
     },
     "metadata": {
      "needs_background": "light"
     },
     "output_type": "display_data"
    },
    {
     "data": {
      "image/png": "[encoded data removed]",
      "text/plain": [
       "<Figure size 288x288 with 1 Axes>"
      ]
     },
     "metadata": {
      "needs_background": "light"
     },
     "output_type": "display_data"
    },
    {
     "data": {
      "image/png": "[encoded data removed]",
      "text/plain": [
       "<Figure size 720x504 with 2 Axes>"
      ]
     },
     "metadata": {
      "needs_background": "light"
     },
     "output_type": "display_data"
    }
   ],
   "source": [
    "#################### Multiclass Classification ############################\n",
    "\n",
    "# Project - Recognize the handwritten digits\n",
    "\n",
    "%matplotlib inline\n",
    "import matplotlib.pyplot as plt\n",
    "from sklearn.datasets import load_digits\n",
    "\n",
    "digits = load_digits()\n",
    "dir(digits) #['DESCR', 'data', 'images', 'target', 'target_names']\n",
    "digits.data[0] # Will give sample data\n",
    "\n",
    "plt.gray()\n",
    "for i in range(5):\n",
    "    plt.matshow(digits.images[i])\n",
    "\n",
    "digits.target[0:5] #array([0, 1, 2, 3, 4])\n",
    "\n",
    "from sklearn.model_selection import train_test_split\n",
    "X_train, X_test, Y_train, Y_test = train_test_split(digits.data,digits.target, test_size=0.2)\n",
    "\n",
    "len(X_train) #1437\n",
    "\n",
    "from sklearn.linear_model import LogisticRegression\n",
    "model =LogisticRegression()\n",
    "#y_train.shape\n",
    "model.fit(X_train,Y_train)\n",
    "model.score(X_test,Y_test) #0.9805555555555555\n",
    "\n",
    "#Picking up random sample\n",
    "plt.matshow(digits.images[67])\n",
    "digits.target[67]\n",
    "\n",
    "model.predict(digits.data[0:5]) #array([6])\n",
    "\n",
    "y_predicted = model.predict(X_test)\n",
    "from sklearn.metrics import confusion_matrix\n",
    "cm = confusion_matrix(Y_test, y_predicted)\n",
    "cm\n",
    "\n",
    "import seaborn as sn\n",
    "plt.figure(figsize=(10,7))\n",
    "sn.heatmap(cm, annot=True)\n",
    "plt.xlabel('Predicted')\n",
    "plt.ylabel('Truth')\n"
   ]
  },
  {
   "cell_type": "code",
   "execution_count": null,
   "metadata": {},
   "outputs": [],
   "source": [
    "######################### Exercise ################################"
   ]
  },
  {
   "cell_type": "code",
   "execution_count": null,
   "metadata": {},
   "outputs": [],
   "source": [
    "#Performace of a model \n",
    "\n",
    "#Precision is inversely propotional to recall.\n",
    "\n",
    "#Fscore is (2*precision *recall)/precision +recall\n",
    "\n",
    "#from sklearn.metrics import average_precision_score\n",
    "#from sklearn.metrics import precisionn_recall_score\n",
    "\n",
    "#Calculate the average precision and the PR curve\n",
    "average_precision =average_precision_score(y_test, y_pred)\n",
    "\n",
    "#Obtain precision and recall\n",
    "precision, recall, _ = precision_recall_curve(y_test,y_pred)\n",
    "\n",
    "#ROC curve - receiver operaring characterstic curve\n",
    "\n",
    "#Its is curve between true positive rate(y Axis) and false postive rate(X axis)\n",
    "\n",
    "#Obtain model probabilites \n",
    "probs=model.predict_prob(X_test)\n",
    "\n",
    "#Print ROC curve using probabities\n",
    "print(model.roc_auc_score(y_test,prob[:,1]))\n",
    "\n",
    "#Confusion Matrix and Classification Report\n",
    "from sklearn.matrix import classification_report, confusion_matrix\n",
    "\n",
    "#Obtain Prediction\n",
    "y_pred = model.predict(X_test)\n",
    "\n",
    "#Print classification report using prediction\n",
    "\n",
    "print(classification_report(y_test, y_pred)\n",
    "      \n",
    "#Print confusion matrix using prediction \n",
    "print(confusion_matrix(y_test, predicted))"
   ]
  },
  {
   "cell_type": "code",
   "execution_count": null,
   "metadata": {},
   "outputs": [],
   "source": [
    "#The key difference between the two performance metrics, is that ROC curves will be the same no matter what the baseline \n",
    "#probability is. Precision and Recall may be more useful in practice for needle-in-haystack type problems, or problems \n",
    "#where the \"positive\" class is more interesting than the negative class."
   ]
  },
  {
   "cell_type": "code",
   "execution_count": null,
   "metadata": {},
   "outputs": [],
   "source": []
  }
 ],
 "metadata": {
  "kernelspec": {
   "display_name": "Python 3",
   "language": "python",
   "name": "python3"
  },
  "language_info": {
   "codemirror_mode": {
    "name": "ipython",
    "version": 3
   },
   "file_extension": ".py",
   "mimetype": "text/x-python",
   "name": "python",
   "nbconvert_exporter": "python",
   "pygments_lexer": "ipython3",
   "version": "3.7.3"
  }
 },
 "nbformat": 4,
 "nbformat_minor": 2
}
