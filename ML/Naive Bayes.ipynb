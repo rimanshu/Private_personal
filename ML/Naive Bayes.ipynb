{
 "cells": [
  {
   "cell_type": "markdown",
   "metadata": {},
   "source": [
    "# Naive Bayes"
   ]
  },
  {
   "cell_type": "code",
   "execution_count": null,
   "metadata": {},
   "outputs": [],
   "source": [
    "# Naive baise classifier works on principles of conditional probability as given by bayes theorem \n",
    "#Examples - Customer classification, Credit risk, Health Risk predictions, Spam detections.\n",
    "\n",
    "######################### Bayes theorem concepts ############################\n",
    "\n",
    "#https://medium.com/@srishtisawla/unlocking-bayess-theorem-1e6973886129\n",
    "#P(A|B) = P(A)* P(B|A) / P(B).\n",
    "#https://towardsdatascience.com/naive-bayes-in-machine-learning-f49cc8f831b4\n",
    "#https://towardsdatascience.com/probability-for-data-science-9770b26643d0l\n",
    "#https://www.youtube.com/watch?v=99MN-rl8jGY\n",
    "\n",
    "# Types of Naive Bayes - gaussian, Multinomial and Bernolli.\n",
    "# Gaussian Model - It is used in classification and i assumes that features follows normal distribution. \n",
    "#Good for making predicions from normally distributed features.\n",
    "\n",
    "# Multinomail Model - It is used for discreat counts just say text classification. It is good for when your features is \n",
    "#(categorical or continuous) describe discrete frequency count(eg word count)\n",
    "\n",
    "# Bernolli Model - Binomail model is usefull when features are binary. Good for making predictions with binary values. "
   ]
  },
  {
   "cell_type": "code",
   "execution_count": null,
   "metadata": {},
   "outputs": [],
   "source": [
    "#Predictions are independent to each other.\n",
    "\n",
    "#Prior assumptions - This is an assumption that the past condition still hold true. When we make predictions from historic values,\n",
    "# we will get incorrec results if present circumstances have changed.\n",
    "\n",
    "#All regression model maintain a prior assuption as well."
   ]
  },
  {
   "cell_type": "markdown",
   "metadata": {},
   "source": [
    "# Text classifcation using naive bayes"
   ]
  },
  {
   "cell_type": "code",
   "execution_count": 12,
   "metadata": {
    "scrolled": true
   },
   "outputs": [
    {
     "data": {
      "text/plain": [
       "['alt.atheism',\n",
       " 'comp.graphics',\n",
       " 'comp.os.ms-windows.misc',\n",
       " 'comp.sys.ibm.pc.hardware',\n",
       " 'comp.sys.mac.hardware',\n",
       " 'comp.windows.x',\n",
       " 'misc.forsale',\n",
       " 'rec.autos',\n",
       " 'rec.motorcycles',\n",
       " 'rec.sport.baseball',\n",
       " 'rec.sport.hockey',\n",
       " 'sci.crypt',\n",
       " 'sci.electronics',\n",
       " 'sci.med',\n",
       " 'sci.space',\n",
       " 'soc.religion.christian',\n",
       " 'talk.politics.guns',\n",
       " 'talk.politics.mideast',\n",
       " 'talk.politics.misc',\n",
       " 'talk.religion.misc']"
      ]
     },
     "execution_count": 12,
     "metadata": {},
     "output_type": "execute_result"
    }
   ],
   "source": [
    "#Loading necessary libraries\n",
    "%matplotlib inline \n",
    "import pandas as pd\n",
    "import numpy as np\n",
    "import matplotlib.pyplot as plt\n",
    "import seaborn as sns; sns.set()\n",
    "\n",
    "from sklearn.datasets import fetch_20newsgroups\n",
    "\n",
    "data = fetch_20newsgroups()\n",
    "\n",
    "dir(data) #['DESCR', 'data', 'description', 'filenames', 'target', 'target_names']\n",
    "\n",
    "data.target_names"
   ]
  },
  {
   "cell_type": "code",
   "execution_count": 15,
   "metadata": {},
   "outputs": [],
   "source": [
    "#Defining all categories\n",
    "categories = data.target_names\n",
    "\n",
    "#Training and testing the on categories\n",
    "train = fetch_20newsgroups(subset='train', categories=categories)\n",
    "test = fetch_20newsgroups(subset='test', categories=categories)\n",
    "\n",
    "#Printing training data \n",
    "print(train.data[5])\n"
   ]
  },
  {
   "cell_type": "code",
   "execution_count": 36,
   "metadata": {},
   "outputs": [],
   "source": [
    "#Import necessary packages\n",
    "\n",
    "from sklearn.feature_extraction.text import TfidfVectorizer\n",
    "from sklearn.pipeline import make_pipeline\n",
    "#https://www.kaggle.com/baghern/a-deep-dive-into-sklearn-pipelines\n",
    "#Pipelines are a way to streamline a lot of the routine processes, encapsulating little pieces of logic into one function call,\n",
    "#which makes it easier to actually do modeling instead just writing a bunch of code\n",
    "\n",
    "from sklearn.naive_bayes import MultinomialNB\n",
    "\n",
    "#Creating a model based on Multinomail naive bayes\n",
    "model = make_pipeline(TFidVectorizer(), MultinomialNB())\n",
    "\n",
    "# #Traininig the model with the train data.\n",
    "# model.fit(train.data, train.target)\n",
    "\n",
    "# #Creating lables for test data\n",
    "# labels =model.predict(test.data)\n",
    "\n"
   ]
  },
  {
   "cell_type": "code",
   "execution_count": 27,
   "metadata": {},
   "outputs": [],
   "source": [
    "#Creaing confusion matrix and heat map\n",
    "from sklearn.metrics import confusion_matrix\n",
    "mat = confusion_matrix(test.target, test.data)\n",
    "\n",
    "sns.heatamp(mat.T, square=True, annot= True, fmt='d', cbar=False, xticklables =train.target_names, yticklables=ttrain.target.names)\n",
    "\n",
    "#Plotting heatmap of confusing matrix\n",
    "plt.xlable('True lable')\n",
    "plt.ylable('Prediced lable')\n",
    "\n",
    "\n",
    "    "
   ]
  },
  {
   "cell_type": "code",
   "execution_count": 37,
   "metadata": {},
   "outputs": [],
   "source": [
    "#Predicting category on new data based on trained model\n",
    "def predict_category(s, train=train, model=model):\n",
    "    pred=model.predict([s])\n",
    "    return train.target_names([pred[0]])\n",
    "\n",
    "predict_category('Rohit Sharma')"
   ]
  },
  {
   "cell_type": "markdown",
   "metadata": {},
   "source": [
    "# Implementation in Python Using Naive baise to predict spam"
   ]
  },
  {
   "cell_type": "code",
   "execution_count": null,
   "metadata": {},
   "outputs": [],
   "source": [
    "#http://archive.ics.uci.edu/ml/machine-learning-databases/spambase/spambase.data\n",
    "\n"
   ]
  },
  {
   "cell_type": "code",
   "execution_count": 50,
   "metadata": {},
   "outputs": [],
   "source": [
    "from bs4 import BeautifulSoup\n",
    "\n",
    "# import sys\n",
    "# !{sys.executable} -m pip install --upgrade pip\n",
    "\n",
    "from selenium import webdriver\n",
    "driver = webdriver.Chrome(\"C:/Users/rimanshu/Anaconda3/Lib/site-packages/selenium/webdriver/chrome/chromedriver.exe\")"
   ]
  },
  {
   "cell_type": "code",
   "execution_count": 56,
   "metadata": {},
   "outputs": [],
   "source": [
    "import pandas as pd\n",
    "from nltk.corpus import brown\n",
    "import nltk\n",
    "\n"
   ]
  },
  {
   "cell_type": "code",
   "execution_count": 53,
   "metadata": {},
   "outputs": [],
   "source": []
  }
 ],
 "metadata": {
  "kernelspec": {
   "display_name": "Python 3",
   "language": "python",
   "name": "python3"
  },
  "language_info": {
   "codemirror_mode": {
    "name": "ipython",
    "version": 3
   },
   "file_extension": ".py",
   "mimetype": "text/x-python",
   "name": "python",
   "nbconvert_exporter": "python",
   "pygments_lexer": "ipython3",
   "version": "3.7.0"
  }
 },
 "nbformat": 4,
 "nbformat_minor": 2
}
