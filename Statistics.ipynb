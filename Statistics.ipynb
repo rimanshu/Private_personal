{
 "cells": [
  {
   "cell_type": "markdown",
   "metadata": {},
   "source": [
    "# Statistical Concepts"
   ]
  },
  {
   "cell_type": "markdown",
   "metadata": {},
   "source": [
    "https://nbviewer.jupyter.org/github/Yorko/mlcourse.ai/blob/master/jupyter_english/tutorials/statistical_hypothesis_testing_in_python_panin_kirill.ipynb"
   ]
  },
  {
   "cell_type": "markdown",
   "metadata": {},
   "source": [
    "# Outliers"
   ]
  },
  {
   "cell_type": "code",
   "execution_count": null,
   "metadata": {},
   "outputs": [],
   "source": [
    "# Outliers - https://towardsdatascience.com/ways-to-detect-and-remove-the-outliers-404d16608dba\n",
    "#https://medium.com/datadriveninvestor/finding-outliers-in-dataset-using-python-efc3fce6ce32\n",
    "\n",
    "#https://medium.com/codezillas/statistics-review-for-data-scientists-and-management-df8f94760221\n",
    "\n",
    "#In statistics, an outlier is an observation point that is distant from other observations.\n",
    "#The above definition suggests that outlier is something which is separate/different from the crowd\n",
    "\n",
    "#There are two types of analysis we will follow to find the outliers- \n",
    "#Uni-variate(one variable outlier analysis) and Multi-variate(two or more variable outlier analysis).\n",
    "# Discover outliers with visualization tools - Box plot-Wikipedia Definition,\n",
    "\n"
   ]
  },
  {
   "cell_type": "markdown",
   "metadata": {},
   "source": [
    "# Hypothesis"
   ]
  },
  {
   "cell_type": "code",
   "execution_count": null,
   "metadata": {},
   "outputs": [],
   "source": [
    "#https://medium.com/datadriveninvestor/a-quick-guide-to-hypothesis-testing-8c95205f2a1c\n",
    "#https://medium.com/codezillas/statistics-review-for-data-scientists-and-management-df8f94760221\n",
    "#https://medium.com/@ageitgey/machine-learning-is-fun-80ea3ec3c471 ---- very important\n",
    "#https://towardsdatascience.com/hypothesis-testing-in-machine-learning-using-python-a0dc89e169ce\n",
    "\n",
    "#In Hypothesis testing we make an assumption about the data and then perform investigation considering that our assumption is true\n",
    "#Now the observation we get from our investigation is used for validating our assumption.\n",
    "\n",
    "# It sounds confusing but please be patient everything will be clear as you go down.\n",
    "\n",
    "# Let me define some terms :\n",
    "# Null hypothesis(H0) : A null hypothesis is the assumption we made before performing any calculation and consider it to be “true”\n",
    "#initially.\n",
    "# Alternative hypothesis(H1) : An alternative hypothesis is simply opposite of null hypothesis if there is strong evidence against\n",
    "#null hypothesis then we move to alternative hypothesis.\n",
    "# P — Value : P-value is the probability for a given statistical model , when the null hypothesis is true. p-value is used as a \n",
    "#rejection point to provide the smallest level of significance at which the null hypothesis would be rejected.\n",
    "# Test Statistics : A value calculated from a sample or experiment. Test statistics can be any value like mean of a distribution,\n",
    "#frequency of observation or anything it provide evidence either in support or against of null hypothesis.\n"
   ]
  },
  {
   "cell_type": "code",
   "execution_count": 18,
   "metadata": {},
   "outputs": [],
   "source": [
    "#AUC and ROC curve - Relationship between sensivity(recall) and 1- specificity(-ve recall)\n",
    "#https://techgrabyte.com/10-machine-learning-algorithms-application/"
   ]
  },
  {
   "cell_type": "code",
   "execution_count": null,
   "metadata": {},
   "outputs": [],
   "source": [
    "#probability and P&C\n",
    "#Independent Events - P(A and B) = P(A) × P(B)\n",
    "#Conditional or dependent events -P(A and B) = P(A) x P(B|A) or P(B|A) = P(A and B) / P(A) -PB|A means probability of b after a.\n",
    "#70% of your friends like Chocolate, and 35% like Chocolate AND like Strawberry.\n",
    "#What percent of those who like Chocolate also like Strawberry?\n",
    "#P(Strawberry|Chocolate) = P(Chocolate and Strawberry) / P(Chocolate)\n",
    "#Mutually Exclusive events -P(A or B) = P(A) + P(B) coz P(A and B) is 0.\n",
    "#A card cannot be a King AND a Queen at the same time!\n",
    " \n",
    "#Dependent Events (such as removing marbles from a bag) are affected by previous events\n",
    "#Independent events (such as a coin toss) are not affected by previous events\n",
    "\n",
    "#Permutation and Combination \n",
    "#When the order doesn't matter, it is a Combination.\n",
    "#When the order does matter it is a Permutation.\n",
    "#Permutations -There are basically two types of permutation: 10P3\n",
    "#Repetition is Allowed: such as the lock above. It could be \"333\". - n × n × ... (r times) = nr\n",
    "#No Repetition: for example the first three people in a running race. You can't be first and second. n!/(n − r)!\n",
    "\n",
    "#Combinations without Repetition - n!/r!(n − r)!\n",
    "\n",
    "#Bayes Theorem - P(A|B) =\t P(A) P(B|A)/P(B) or P(Rain|Cloud) =  P(Rain) P(Cloud|Rain)/P(Cloud)"
   ]
  },
  {
   "cell_type": "code",
   "execution_count": null,
   "metadata": {},
   "outputs": [],
   "source": [
    "#Mean, Median and Mode Imputation\n",
    "\n",
    "#Using the measures of central tendency involves substituting the missing values with the mean or median for numerical variables\n",
    "#and the mode for categorical variables. The major limitation of using this method is that it leads to biased estimates of the \n",
    "#variances and covariance. The standard errors and test statistics can also be underestimated and overestimated respectively. \n",
    "#This imputation technique works well with when the values are missing completely at random. Scikit-learn comes with an imputed \n",
    "#function in the form sklearn.preprocessing.Imputer(missing_values='NaN', strategy='mean', axis=0, verbose=0, copy=True). \n",
    "#Strategy is the imputation strategy and the default is the \"mean\" of the axis (0 for columns and 1 for rows). \n",
    "#The other strategies are \"median\" and \"most_frequent\". Another API that can be used for this imputation is fancyimpute.\n",
    "#SimpleFill().\n",
    "\n",
    "#The scikit-learn library provides the Imputer() pre-processing class that can be used to replace missing values.\n",
    "\n",
    "#It is a flexible class that allows you to specify the value to replace (it can be something other than NaN) and the \n",
    "#technique used to replace it (such as mean, median, or mode). The Imputer class operates directly on the NumPy array instead \n",
    "# of the DataFrame."
   ]
  },
  {
   "cell_type": "code",
   "execution_count": 15,
   "metadata": {
    "scrolled": true
   },
   "outputs": [
    {
     "name": "stdout",
     "output_type": "stream",
     "text": [
      "Collecting https://get.graphlab.com/GraphLab-Create/2.1/zooninwestmelbourne@yahoo.com/F5BD-2EB8-02F2-F8DC-44AE-8C9D-E440-C965/GraphLab-Create-License.tar.gz\n",
      "  Downloading https://get.graphlab.com/GraphLab-Create/2.1/zooninwestmelbourne@yahoo.com/F5BD-2EB8-02F2-F8DC-44AE-8C9D-E440-C965/GraphLab-Create-License.tar.gz\n",
      "Collecting graphlab-create>=2.1 (from GraphLab-Create-License==2.1)\n"
     ]
    },
    {
     "name": "stderr",
     "output_type": "stream",
     "text": [
      "  Could not find a version that satisfies the requirement graphlab-create>=2.1 (from GraphLab-Create-License==2.1) (from versions: )\n",
      "No matching distribution found for graphlab-create>=2.1 (from GraphLab-Create-License==2.1)\n"
     ]
    }
   ],
   "source": [
    "import sys\n",
    "!{sys.executable} -m pip install graphlab-create\n",
    "\n",
    "import sys\n",
    "!{sys.executable} -m pip install --upgrade pip"
   ]
  }
 ],
 "metadata": {
  "kernelspec": {
   "display_name": "Python 3",
   "language": "python",
   "name": "python3"
  },
  "language_info": {
   "codemirror_mode": {
    "name": "ipython",
    "version": 3
   },
   "file_extension": ".py",
   "mimetype": "text/x-python",
   "name": "python",
   "nbconvert_exporter": "python",
   "pygments_lexer": "ipython3",
   "version": "3.7.3"
  }
 },
 "nbformat": 4,
 "nbformat_minor": 2
}
