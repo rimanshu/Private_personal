{
 "cells": [
  {
   "cell_type": "markdown",
   "metadata": {},
   "source": [
    "# Flask Tutorials"
   ]
  },
  {
   "cell_type": "markdown",
   "metadata": {},
   "source": [
    "https://www.youtube.com/watch?v=NVrL5_f7zOI&list=PLkPmSWtWNIyQ-_mlHIQho9nCnxdbvnQIl&index=18\n",
    "\n",
    "https://realpython.com/flask-blueprint/"
   ]
  },
  {
   "cell_type": "code",
   "execution_count": null,
   "metadata": {},
   "outputs": [],
   "source": [
    "from flask import Flask\n",
    "\n",
    "app = Flask(__name__)\n",
    "\n",
    "@app.route('/')\n",
    "def hello():\n",
    "    return '<h>First Program</h>'\n",
    "\n",
    "if __name__ == '__main__':\n",
    "    app.run()"
   ]
  },
  {
   "cell_type": "code",
   "execution_count": null,
   "metadata": {},
   "outputs": [],
   "source": [
    "https://realpython.com/flask-by-example-part-3-text-processing-with-requests-beautifulsoup-nltk/"
   ]
  },
  {
   "cell_type": "code",
   "execution_count": 4,
   "metadata": {},
   "outputs": [],
   "source": [
    "from scipy.special import comb"
   ]
  },
  {
   "cell_type": "code",
   "execution_count": 6,
   "metadata": {},
   "outputs": [
    {
     "name": "stdout",
     "output_type": "stream",
     "text": [
      "Help on function comb in module scipy.special._basic:\n",
      "\n",
      "comb(N, k, exact=False, repetition=False)\n",
      "    The number of combinations of N things taken k at a time.\n",
      "    \n",
      "    This is often expressed as \"N choose k\".\n",
      "    \n",
      "    Parameters\n",
      "    ----------\n",
      "    N : int, ndarray\n",
      "        Number of things.\n",
      "    k : int, ndarray\n",
      "        Number of elements taken.\n",
      "    exact : bool, optional\n",
      "        If `exact` is False, then floating point precision is used, otherwise\n",
      "        exact long integer is computed.\n",
      "    repetition : bool, optional\n",
      "        If `repetition` is True, then the number of combinations with\n",
      "        repetition is computed.\n",
      "    \n",
      "    Returns\n",
      "    -------\n",
      "    val : int, float, ndarray\n",
      "        The total number of combinations.\n",
      "    \n",
      "    See Also\n",
      "    --------\n",
      "    binom : Binomial coefficient ufunc\n",
      "    \n",
      "    Notes\n",
      "    -----\n",
      "    - Array arguments accepted only for exact=False case.\n",
      "    - If N < 0, or k < 0, then 0 is returned.\n",
      "    - If k > N and repetition=False, then 0 is returned.\n",
      "    \n",
      "    Examples\n",
      "    --------\n",
      "    >>> from scipy.special import comb\n",
      "    >>> k = np.array([3, 4])\n",
      "    >>> n = np.array([10, 10])\n",
      "    >>> comb(n, k, exact=False)\n",
      "    array([ 120.,  210.])\n",
      "    >>> comb(10, 3, exact=True)\n",
      "    120L\n",
      "    >>> comb(10, 3, exact=True, repetition=True)\n",
      "    220L\n",
      "\n"
     ]
    }
   ],
   "source": [
    "com = comb(5, 2, exact = False, repetition=True)\n",
    "help(comb)"
   ]
  },
  {
   "cell_type": "code",
   "execution_count": null,
   "metadata": {},
   "outputs": [],
   "source": []
  }
 ],
 "metadata": {
  "kernelspec": {
   "display_name": "Python 3",
   "language": "python",
   "name": "python3"
  },
  "language_info": {
   "codemirror_mode": {
    "name": "ipython",
    "version": 3
   },
   "file_extension": ".py",
   "mimetype": "text/x-python",
   "name": "python",
   "nbconvert_exporter": "python",
   "pygments_lexer": "ipython3",
   "version": "3.7.3"
  }
 },
 "nbformat": 4,
 "nbformat_minor": 2
}
