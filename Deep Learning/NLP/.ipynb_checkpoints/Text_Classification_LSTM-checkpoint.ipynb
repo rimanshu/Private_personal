{
 "cells": [
  {
   "cell_type": "markdown",
   "metadata": {
    "id": "57WEy6T6lDeI"
   },
   "source": [
    "# Text Classfication using DeepLearning\n",
    "\n",
    "https://github.com/krishnaik06/Fake-New-LSTM\n",
    "\n",
    "https://www.youtube.com/watch?v=-nH4OSyjwSI -- Best NLP projects on kaggle\n",
    "\n",
    "https://stackabuse.com/python-for-nlp-multi-label-text-classification-with-keras/ - for multilabel classification"
   ]
  },
  {
   "cell_type": "code",
   "execution_count": null,
   "metadata": {
    "id": "ktDNib57kdzG"
   },
   "outputs": [],
   "source": [
    "import pandas as pd\n",
    "import numpy as np\n",
    "import nltk, re\n",
    "from nltk.corpus import stopwords\n",
    "import tensorflow as tf\n",
    "from tensorflow.keras.preprocessing.sequence import pad_sequences\n",
    "from tensorflow.keras.preprocessing.text import one_hot\n",
    "from tensorflow.keras.layers import Embedding, Dense, LSTM, Bidirectional, Dropout\n",
    "from tensorflow.keras.models import Sequential\n",
    "\n",
    "from sklearn.metrics import confusion_matrix, accuracy_score, classification_report"
   ]
  },
  {
   "cell_type": "code",
   "execution_count": null,
   "metadata": {
    "id": "bbhHW5ter50t"
   },
   "outputs": [],
   "source": [
    "df = pd.read_csv(\"https://raw.githubusercontent.com/rimanshu/Private_personal/master/Deep%20Learning/RNN/fake_news/train.csv/train.csv\")"
   ]
  },
  {
   "cell_type": "code",
   "execution_count": 1,
   "metadata": {
    "colab": {
     "base_uri": "https://localhost:8080/"
    },
    "executionInfo": {
     "elapsed": 957,
     "status": "ok",
     "timestamp": 1616584644880,
     "user": {
      "displayName": "Rimanshu Mangal",
      "photoUrl": "",
      "userId": "01816973904928346155"
     },
     "user_tz": -330
    },
    "id": "9ou4Amfu3EfJ",
    "outputId": "40b74b50-e2c7-4ac8-a53e-47bb3521e5ae"
   },
   "outputs": [
    {
     "name": "stdout",
     "output_type": "stream",
     "text": [
      "Wed Mar 24 11:17:24 2021       \n",
      "+-----------------------------------------------------------------------------+\n",
      "| NVIDIA-SMI 460.56       Driver Version: 460.32.03    CUDA Version: 11.2     |\n",
      "|-------------------------------+----------------------+----------------------+\n",
      "| GPU  Name        Persistence-M| Bus-Id        Disp.A | Volatile Uncorr. ECC |\n",
      "| Fan  Temp  Perf  Pwr:Usage/Cap|         Memory-Usage | GPU-Util  Compute M. |\n",
      "|                               |                      |               MIG M. |\n",
      "|===============================+======================+======================|\n",
      "|   0  Tesla T4            Off  | 00000000:00:04.0 Off |                    0 |\n",
      "| N/A   53C    P8    10W /  70W |      0MiB / 15109MiB |      0%      Default |\n",
      "|                               |                      |                  N/A |\n",
      "+-------------------------------+----------------------+----------------------+\n",
      "                                                                               \n",
      "+-----------------------------------------------------------------------------+\n",
      "| Processes:                                                                  |\n",
      "|  GPU   GI   CI        PID   Type   Process name                  GPU Memory |\n",
      "|        ID   ID                                                   Usage      |\n",
      "|=============================================================================|\n",
      "|  No running processes found                                                 |\n",
      "+-----------------------------------------------------------------------------+\n"
     ]
    }
   ],
   "source": [
    "!nvidia-smi"
   ]
  },
  {
   "cell_type": "code",
   "execution_count": null,
   "metadata": {
    "colab": {
     "base_uri": "https://localhost:8080/",
     "height": 202
    },
    "executionInfo": {
     "elapsed": 1702,
     "status": "ok",
     "timestamp": 1615374589175,
     "user": {
      "displayName": "Rimanshu Mangal",
      "photoUrl": "",
      "userId": "01816973904928346155"
     },
     "user_tz": -330
    },
    "id": "G0z4dpJMzS4p",
    "outputId": "7925c260-0a77-4cc6-99b5-8f16e65983e1"
   },
   "outputs": [
    {
     "data": {
      "text/html": [
       "<div>\n",
       "<style scoped>\n",
       "    .dataframe tbody tr th:only-of-type {\n",
       "        vertical-align: middle;\n",
       "    }\n",
       "\n",
       "    .dataframe tbody tr th {\n",
       "        vertical-align: top;\n",
       "    }\n",
       "\n",
       "    .dataframe thead th {\n",
       "        text-align: right;\n",
       "    }\n",
       "</style>\n",
       "<table border=\"1\" class=\"dataframe\">\n",
       "  <thead>\n",
       "    <tr style=\"text-align: right;\">\n",
       "      <th></th>\n",
       "      <th>id</th>\n",
       "      <th>title</th>\n",
       "      <th>author</th>\n",
       "      <th>text</th>\n",
       "      <th>label</th>\n",
       "    </tr>\n",
       "  </thead>\n",
       "  <tbody>\n",
       "    <tr>\n",
       "      <th>0</th>\n",
       "      <td>0</td>\n",
       "      <td>House Dem Aide: We Didn’t Even See Comey’s Let...</td>\n",
       "      <td>Darrell Lucus</td>\n",
       "      <td>House Dem Aide: We Didn’t Even See Comey’s Let...</td>\n",
       "      <td>1</td>\n",
       "    </tr>\n",
       "    <tr>\n",
       "      <th>1</th>\n",
       "      <td>1</td>\n",
       "      <td>FLYNN: Hillary Clinton, Big Woman on Campus - ...</td>\n",
       "      <td>Daniel J. Flynn</td>\n",
       "      <td>Ever get the feeling your life circles the rou...</td>\n",
       "      <td>0</td>\n",
       "    </tr>\n",
       "    <tr>\n",
       "      <th>2</th>\n",
       "      <td>2</td>\n",
       "      <td>Why the Truth Might Get You Fired</td>\n",
       "      <td>Consortiumnews.com</td>\n",
       "      <td>Why the Truth Might Get You Fired October 29, ...</td>\n",
       "      <td>1</td>\n",
       "    </tr>\n",
       "    <tr>\n",
       "      <th>3</th>\n",
       "      <td>3</td>\n",
       "      <td>15 Civilians Killed In Single US Airstrike Hav...</td>\n",
       "      <td>Jessica Purkiss</td>\n",
       "      <td>Videos 15 Civilians Killed In Single US Airstr...</td>\n",
       "      <td>1</td>\n",
       "    </tr>\n",
       "    <tr>\n",
       "      <th>4</th>\n",
       "      <td>4</td>\n",
       "      <td>Iranian woman jailed for fictional unpublished...</td>\n",
       "      <td>Howard Portnoy</td>\n",
       "      <td>Print \\nAn Iranian woman has been sentenced to...</td>\n",
       "      <td>1</td>\n",
       "    </tr>\n",
       "  </tbody>\n",
       "</table>\n",
       "</div>"
      ],
      "text/plain": [
       "   id  ... label\n",
       "0   0  ...     1\n",
       "1   1  ...     0\n",
       "2   2  ...     1\n",
       "3   3  ...     1\n",
       "4   4  ...     1\n",
       "\n",
       "[5 rows x 5 columns]"
      ]
     },
     "execution_count": 8,
     "metadata": {
      "tags": []
     },
     "output_type": "execute_result"
    }
   ],
   "source": [
    "df.head()"
   ]
  },
  {
   "cell_type": "code",
   "execution_count": null,
   "metadata": {
    "colab": {
     "base_uri": "https://localhost:8080/"
    },
    "executionInfo": {
     "elapsed": 1038,
     "status": "ok",
     "timestamp": 1615374591095,
     "user": {
      "displayName": "Rimanshu Mangal",
      "photoUrl": "",
      "userId": "01816973904928346155"
     },
     "user_tz": -330
    },
    "id": "w_7TkW_JziKm",
    "outputId": "52971eae-aba5-4a3e-f5b4-b0170e96ab0a"
   },
   "outputs": [
    {
     "data": {
      "text/plain": [
       "(20800, 5)"
      ]
     },
     "execution_count": 9,
     "metadata": {
      "tags": []
     },
     "output_type": "execute_result"
    }
   ],
   "source": [
    "df.shape"
   ]
  },
  {
   "cell_type": "code",
   "execution_count": null,
   "metadata": {
    "colab": {
     "base_uri": "https://localhost:8080/"
    },
    "executionInfo": {
     "elapsed": 1204,
     "status": "ok",
     "timestamp": 1615374593983,
     "user": {
      "displayName": "Rimanshu Mangal",
      "photoUrl": "",
      "userId": "01816973904928346155"
     },
     "user_tz": -330
    },
    "id": "LIlg2Rfnr0b_",
    "outputId": "c8c4de8e-04b6-431a-a851-bab5750a76e8"
   },
   "outputs": [
    {
     "data": {
      "text/plain": [
       "(18285, 5)"
      ]
     },
     "execution_count": 10,
     "metadata": {
      "tags": []
     },
     "output_type": "execute_result"
    }
   ],
   "source": [
    "df =df.dropna()\n",
    "df.shape"
   ]
  },
  {
   "cell_type": "code",
   "execution_count": null,
   "metadata": {
    "colab": {
     "base_uri": "https://localhost:8080/"
    },
    "executionInfo": {
     "elapsed": 1105,
     "status": "ok",
     "timestamp": 1615374596431,
     "user": {
      "displayName": "Rimanshu Mangal",
      "photoUrl": "",
      "userId": "01816973904928346155"
     },
     "user_tz": -330
    },
    "id": "7Vyob1WUrdvn",
    "outputId": "dfc5f853-e331-4dba-f7e3-c2ba48109117"
   },
   "outputs": [
    {
     "data": {
      "text/plain": [
       "((18285, 4), (18285,))"
      ]
     },
     "execution_count": 11,
     "metadata": {
      "tags": []
     },
     "output_type": "execute_result"
    }
   ],
   "source": [
    "X=df.drop('label', axis=1)\n",
    "y=df['label']\n",
    "X.shape,y.shape"
   ]
  },
  {
   "cell_type": "code",
   "execution_count": null,
   "metadata": {
    "colab": {
     "base_uri": "https://localhost:8080/",
     "height": 35
    },
    "executionInfo": {
     "elapsed": 949,
     "status": "ok",
     "timestamp": 1615374600468,
     "user": {
      "displayName": "Rimanshu Mangal",
      "photoUrl": "",
      "userId": "01816973904928346155"
     },
     "user_tz": -330
    },
    "id": "Hz6rflpFk_2e",
    "outputId": "d2d13838-ca72-42f8-b236-f81de4eb36a3"
   },
   "outputs": [
    {
     "data": {
      "application/vnd.google.colaboratory.intrinsic+json": {
       "type": "string"
      },
      "text/plain": [
       "'2.4.1'"
      ]
     },
     "execution_count": 12,
     "metadata": {
      "tags": []
     },
     "output_type": "execute_result"
    }
   ],
   "source": [
    "tf.__version__"
   ]
  },
  {
   "cell_type": "code",
   "execution_count": null,
   "metadata": {
    "colab": {
     "base_uri": "https://localhost:8080/",
     "height": 35
    },
    "executionInfo": {
     "elapsed": 983,
     "status": "ok",
     "timestamp": 1615374603456,
     "user": {
      "displayName": "Rimanshu Mangal",
      "photoUrl": "",
      "userId": "01816973904928346155"
     },
     "user_tz": -330
    },
    "id": "6hAp8CcrlACX",
    "outputId": "a66902a9-92be-452c-d533-2c0baa10d491"
   },
   "outputs": [
    {
     "data": {
      "application/vnd.google.colaboratory.intrinsic+json": {
       "type": "string"
      },
      "text/plain": [
       "'FLYNN: Hillary Clinton, Big Woman on Campus - Breitbart'"
      ]
     },
     "execution_count": 13,
     "metadata": {
      "tags": []
     },
     "output_type": "execute_result"
    }
   ],
   "source": [
    "## Vocab Size\n",
    "voc_size = 5000\n",
    "\n",
    "messages=X.copy()\n",
    "\n",
    "messages['title'][1]"
   ]
  },
  {
   "cell_type": "code",
   "execution_count": null,
   "metadata": {
    "id": "HqDU68ujlAGB"
   },
   "outputs": [],
   "source": [
    "messages.reset_index(inplace=True)"
   ]
  },
  {
   "cell_type": "code",
   "execution_count": null,
   "metadata": {
    "colab": {
     "base_uri": "https://localhost:8080/"
    },
    "executionInfo": {
     "elapsed": 968,
     "status": "ok",
     "timestamp": 1615374720001,
     "user": {
      "displayName": "Rimanshu Mangal",
      "photoUrl": "",
      "userId": "01816973904928346155"
     },
     "user_tz": -330
    },
    "id": "5uJwKkollAJV",
    "outputId": "450b6691-bba1-413f-9eba-585150fda228"
   },
   "outputs": [
    {
     "name": "stdout",
     "output_type": "stream",
     "text": [
      "[nltk_data] Downloading package stopwords to /root/nltk_data...\n",
      "[nltk_data]   Unzipping corpora/stopwords.zip.\n"
     ]
    },
    {
     "data": {
      "text/plain": [
       "True"
      ]
     },
     "execution_count": 17,
     "metadata": {
      "tags": []
     },
     "output_type": "execute_result"
    }
   ],
   "source": [
    "nltk.download('stopwords')"
   ]
  },
  {
   "cell_type": "code",
   "execution_count": null,
   "metadata": {
    "colab": {
     "base_uri": "https://localhost:8080/"
    },
    "executionInfo": {
     "elapsed": 26340,
     "status": "ok",
     "timestamp": 1615374807901,
     "user": {
      "displayName": "Rimanshu Mangal",
      "photoUrl": "",
      "userId": "01816973904928346155"
     },
     "user_tz": -330
    },
    "id": "4-9ahGuTlAMq",
    "outputId": "13a9f63a-a945-4a5a-98ec-0add2cfe26a0"
   },
   "outputs": [
    {
     "data": {
      "text/plain": [
       "['hous dem aid even see comey letter jason chaffetz tweet',\n",
       " 'flynn hillari clinton big woman campu breitbart',\n",
       " 'truth might get fire',\n",
       " 'civilian kill singl us airstrik identifi',\n",
       " 'iranian woman jail fiction unpublish stori woman stone death adulteri',\n",
       " 'jacki mason hollywood would love trump bomb north korea lack tran bathroom exclus video breitbart',\n",
       " 'beno hamon win french socialist parti presidenti nomin new york time',\n",
       " 'back channel plan ukrain russia courtesi trump associ new york time',\n",
       " 'obama organ action partner soro link indivis disrupt trump agenda',\n",
       " 'bbc comedi sketch real housew isi caus outrag']"
      ]
     },
     "execution_count": 18,
     "metadata": {
      "tags": []
     },
     "output_type": "execute_result"
    }
   ],
   "source": [
    "### Dataset Preprocessing\n",
    "from nltk.stem.porter import PorterStemmer\n",
    "ps = PorterStemmer()\n",
    "corpus = []\n",
    "for i in range(0, len(messages)):\n",
    "    review = re.sub('[^a-zA-Z]', ' ', messages['title'][i])\n",
    "    review = review.lower()\n",
    "    review = review.split()\n",
    "    \n",
    "    review = [ps.stem(word) for word in review if not word in stopwords.words('english')]\n",
    "    review = ' '.join(review)\n",
    "    corpus.append(review)\n",
    "\n",
    "corpus[:10]"
   ]
  },
  {
   "cell_type": "code",
   "execution_count": null,
   "metadata": {
    "colab": {
     "base_uri": "https://localhost:8080/"
    },
    "executionInfo": {
     "elapsed": 1088,
     "status": "ok",
     "timestamp": 1615375066253,
     "user": {
      "displayName": "Rimanshu Mangal",
      "photoUrl": "",
      "userId": "01816973904928346155"
     },
     "user_tz": -330
    },
    "id": "cSxi6jJR2Ecw",
    "outputId": "83a45fde-d932-4821-eb6b-0b499b57c256"
   },
   "outputs": [
    {
     "data": {
      "text/plain": [
       "[[3878, 1858, 3569, 2351, 203, 4768, 455, 330, 3621, 4250],\n",
       " [4221, 4577, 3856, 3349, 2507, 4618, 3514],\n",
       " [3033, 2769, 383, 408],\n",
       " [2193, 3278, 2820, 4888, 458, 4442],\n",
       " [2061, 2507, 771, 3524, 2705, 4906, 2507, 2296, 1417, 627],\n",
       " [2158,\n",
       "  3262,\n",
       "  1566,\n",
       "  3670,\n",
       "  3750,\n",
       "  1600,\n",
       "  589,\n",
       "  1385,\n",
       "  2315,\n",
       "  3940,\n",
       "  22,\n",
       "  269,\n",
       "  1387,\n",
       "  4186,\n",
       "  3514],\n",
       " [4437, 1225, 3518, 254, 3665, 669, 101, 1441, 1364, 3787, 1070],\n",
       " [46, 3250, 2727, 19, 4731, 1422, 1600, 3935, 1364, 3787, 1070],\n",
       " [2131, 211, 1001, 4824, 140, 3245, 3349, 222, 1600, 3935],\n",
       " [2702, 4836, 2924, 4741, 291, 4663, 3791, 2488]]"
      ]
     },
     "execution_count": 19,
     "metadata": {
      "tags": []
     },
     "output_type": "execute_result"
    }
   ],
   "source": [
    "onehot_repr=[one_hot(words,voc_size)for words in corpus] \n",
    "onehot_repr[:10]"
   ]
  },
  {
   "cell_type": "code",
   "execution_count": null,
   "metadata": {
    "colab": {
     "base_uri": "https://localhost:8080/"
    },
    "executionInfo": {
     "elapsed": 1011,
     "status": "ok",
     "timestamp": 1615375239895,
     "user": {
      "displayName": "Rimanshu Mangal",
      "photoUrl": "",
      "userId": "01816973904928346155"
     },
     "user_tz": -330
    },
    "id": "yxYEO3Pr24mP",
    "outputId": "c15bac53-1c0e-45b2-e5b2-bab9233a7cf4"
   },
   "outputs": [
    {
     "name": "stdout",
     "output_type": "stream",
     "text": [
      "[[   0    0    0    0    0    0    0    0    0    0 3878 1858 3569 2351\n",
      "   203 4768  455  330 3621 4250]\n",
      " [   0    0    0    0    0    0    0    0    0    0    0    0    0 4221\n",
      "  4577 3856 3349 2507 4618 3514]\n",
      " [   0    0    0    0    0    0    0    0    0    0    0    0    0    0\n",
      "     0    0 3033 2769  383  408]\n",
      " [   0    0    0    0    0    0    0    0    0    0    0    0    0    0\n",
      "  2193 3278 2820 4888  458 4442]]\n"
     ]
    }
   ],
   "source": [
    "sent_length=20\n",
    "embedded_docs=pad_sequences(onehot_repr,padding='pre',maxlen=sent_length)\n",
    "print(embedded_docs[:4])"
   ]
  },
  {
   "cell_type": "code",
   "execution_count": null,
   "metadata": {
    "colab": {
     "base_uri": "https://localhost:8080/"
    },
    "executionInfo": {
     "elapsed": 6659,
     "status": "ok",
     "timestamp": 1615375512217,
     "user": {
      "displayName": "Rimanshu Mangal",
      "photoUrl": "",
      "userId": "01816973904928346155"
     },
     "user_tz": -330
    },
    "id": "IIW9XdcO3hWA",
    "outputId": "a14fec2a-b468-4acd-fde0-a571b1e4592f"
   },
   "outputs": [
    {
     "name": "stdout",
     "output_type": "stream",
     "text": [
      "Model: \"sequential\"\n",
      "_________________________________________________________________\n",
      "Layer (type)                 Output Shape              Param #   \n",
      "=================================================================\n",
      "embedding (Embedding)        (None, 20, 40)            200000    \n",
      "_________________________________________________________________\n",
      "lstm (LSTM)                  (None, 100)               56400     \n",
      "_________________________________________________________________\n",
      "dense (Dense)                (None, 1)                 101       \n",
      "=================================================================\n",
      "Total params: 256,501\n",
      "Trainable params: 256,501\n",
      "Non-trainable params: 0\n",
      "_________________________________________________________________\n",
      "None\n"
     ]
    }
   ],
   "source": [
    "## Creating model with simple LSTM network\n",
    "embedding_vector_features=40\n",
    "model=Sequential()\n",
    "model.add(Embedding(voc_size,embedding_vector_features,input_length=sent_length))\n",
    "model.add(LSTM(100))\n",
    "model.add(Dense(1,activation='sigmoid'))\n",
    "model.compile(loss='binary_crossentropy',optimizer='adam',metrics=['accuracy'])\n",
    "print(model.summary())"
   ]
  },
  {
   "cell_type": "code",
   "execution_count": null,
   "metadata": {
    "colab": {
     "base_uri": "https://localhost:8080/"
    },
    "executionInfo": {
     "elapsed": 1101,
     "status": "ok",
     "timestamp": 1615375555018,
     "user": {
      "displayName": "Rimanshu Mangal",
      "photoUrl": "",
      "userId": "01816973904928346155"
     },
     "user_tz": -330
    },
    "id": "tl4BYdG23hYZ",
    "outputId": "314a0c8a-5843-4c1d-f4b1-a7421c33bec2"
   },
   "outputs": [
    {
     "data": {
      "text/plain": [
       "(18285, (18285,))"
      ]
     },
     "execution_count": 24,
     "metadata": {
      "tags": []
     },
     "output_type": "execute_result"
    }
   ],
   "source": [
    "len(embedded_docs),y.shape"
   ]
  },
  {
   "cell_type": "code",
   "execution_count": null,
   "metadata": {
    "id": "7gBN9wy83ha7"
   },
   "outputs": [],
   "source": [
    "X_final=np.array(embedded_docs)\n",
    "y_final=np.array(y)"
   ]
  },
  {
   "cell_type": "code",
   "execution_count": null,
   "metadata": {
    "colab": {
     "base_uri": "https://localhost:8080/"
    },
    "executionInfo": {
     "elapsed": 1064,
     "status": "ok",
     "timestamp": 1615375604682,
     "user": {
      "displayName": "Rimanshu Mangal",
      "photoUrl": "",
      "userId": "01816973904928346155"
     },
     "user_tz": -330
    },
    "id": "fKSzt_rc3heN",
    "outputId": "9b48763d-a4f9-4f7f-bed6-46be38a2a6c6"
   },
   "outputs": [
    {
     "data": {
      "text/plain": [
       "((18285, 20), (18285,))"
      ]
     },
     "execution_count": 27,
     "metadata": {
      "tags": []
     },
     "output_type": "execute_result"
    }
   ],
   "source": [
    "X_final.shape,y_final.shape"
   ]
  },
  {
   "cell_type": "code",
   "execution_count": null,
   "metadata": {
    "id": "7GTdAMQ04554"
   },
   "outputs": [],
   "source": [
    "from sklearn.model_selection import train_test_split\n",
    "X_train, X_test, y_train, y_test = train_test_split(X_final, y_final, test_size=0.33, random_state=42)"
   ]
  },
  {
   "cell_type": "code",
   "execution_count": null,
   "metadata": {
    "colab": {
     "base_uri": "https://localhost:8080/"
    },
    "executionInfo": {
     "elapsed": 16736,
     "status": "ok",
     "timestamp": 1615377783679,
     "user": {
      "displayName": "Rimanshu Mangal",
      "photoUrl": "",
      "userId": "01816973904928346155"
     },
     "user_tz": -330
    },
    "id": "VInVXH2M458f",
    "outputId": "78103342-548f-421f-b49a-31b7ecfef9e4"
   },
   "outputs": [
    {
     "name": "stdout",
     "output_type": "stream",
     "text": [
      "Epoch 1/10\n",
      "192/192 [==============================] - 2s 8ms/step - loss: 0.0159 - accuracy: 0.9947 - val_loss: 0.5557 - val_accuracy: 0.9031\n",
      "Epoch 2/10\n",
      "192/192 [==============================] - 2s 8ms/step - loss: 0.0154 - accuracy: 0.9948 - val_loss: 0.5294 - val_accuracy: 0.9099\n",
      "Epoch 3/10\n",
      "192/192 [==============================] - 2s 8ms/step - loss: 0.0125 - accuracy: 0.9959 - val_loss: 0.5318 - val_accuracy: 0.9100\n",
      "Epoch 4/10\n",
      "192/192 [==============================] - 2s 8ms/step - loss: 0.0113 - accuracy: 0.9960 - val_loss: 0.5108 - val_accuracy: 0.9094\n",
      "Epoch 5/10\n",
      "192/192 [==============================] - 2s 8ms/step - loss: 0.0119 - accuracy: 0.9961 - val_loss: 0.5868 - val_accuracy: 0.9057\n",
      "Epoch 6/10\n",
      "192/192 [==============================] - 2s 8ms/step - loss: 0.0135 - accuracy: 0.9963 - val_loss: 0.5925 - val_accuracy: 0.9059\n",
      "Epoch 7/10\n",
      "192/192 [==============================] - 2s 8ms/step - loss: 0.0100 - accuracy: 0.9966 - val_loss: 0.6019 - val_accuracy: 0.9052\n",
      "Epoch 8/10\n",
      "192/192 [==============================] - 2s 8ms/step - loss: 0.0067 - accuracy: 0.9980 - val_loss: 0.6500 - val_accuracy: 0.9082\n",
      "Epoch 9/10\n",
      "192/192 [==============================] - 2s 8ms/step - loss: 0.0054 - accuracy: 0.9983 - val_loss: 0.6114 - val_accuracy: 0.9135\n",
      "Epoch 10/10\n",
      "192/192 [==============================] - 2s 8ms/step - loss: 0.0080 - accuracy: 0.9972 - val_loss: 0.7172 - val_accuracy: 0.9069\n"
     ]
    },
    {
     "data": {
      "text/plain": [
       "<tensorflow.python.keras.callbacks.History at 0x7fdc44414510>"
      ]
     },
     "execution_count": 38,
     "metadata": {
      "tags": []
     },
     "output_type": "execute_result"
    }
   ],
   "source": [
    "### Finally Training\n",
    "model.fit(X_train,y_train,validation_data=(X_test,y_test),epochs=10,batch_size=64)"
   ]
  },
  {
   "cell_type": "code",
   "execution_count": null,
   "metadata": {
    "id": "JyKCk5k145-4"
   },
   "outputs": [],
   "source": [
    "## Creating model with drop out layer\n",
    "embedding_vector_features=40\n",
    "model=Sequential()\n",
    "model.add(Embedding(voc_size,embedding_vector_features,input_length=sent_length))\n",
    "model.add(Dropout(0.3))\n",
    "model.add(LSTM(100))\n",
    "model.add(Dropout(0.3))\n",
    "model.add(Dense(1,activation='sigmoid'))\n",
    "model.compile(loss='binary_crossentropy',optimizer='adam',metrics=['accuracy'])"
   ]
  },
  {
   "cell_type": "code",
   "execution_count": null,
   "metadata": {
    "colab": {
     "base_uri": "https://localhost:8080/"
    },
    "executionInfo": {
     "elapsed": 1321,
     "status": "ok",
     "timestamp": 1615377759543,
     "user": {
      "displayName": "Rimanshu Mangal",
      "photoUrl": "",
      "userId": "01816973904928346155"
     },
     "user_tz": -330
    },
    "id": "J0DCqfZ3BGdM",
    "outputId": "60529d2d-bd59-4585-841e-554f86b4e417"
   },
   "outputs": [
    {
     "name": "stdout",
     "output_type": "stream",
     "text": [
      "Model: \"sequential_2\"\n",
      "_________________________________________________________________\n",
      "Layer (type)                 Output Shape              Param #   \n",
      "=================================================================\n",
      "embedding_2 (Embedding)      (None, 20, 40)            200000    \n",
      "_________________________________________________________________\n",
      "bidirectional (Bidirectional (None, 200)               112800    \n",
      "_________________________________________________________________\n",
      "dropout_2 (Dropout)          (None, 200)               0         \n",
      "_________________________________________________________________\n",
      "dense_2 (Dense)              (None, 1)                 201       \n",
      "=================================================================\n",
      "Total params: 313,001\n",
      "Trainable params: 313,001\n",
      "Non-trainable params: 0\n",
      "_________________________________________________________________\n",
      "None\n"
     ]
    }
   ],
   "source": [
    "## Creating model with bidectional layer.\n",
    "embedding_vector_features=40\n",
    "model1=Sequential()\n",
    "model1.add(Embedding(voc_size,embedding_vector_features,input_length=sent_length))\n",
    "model1.add(Bidirectional(LSTM(100)))\n",
    "model1.add(Dropout(0.3))\n",
    "model1.add(Dense(1,activation='sigmoid'))\n",
    "model1.compile(loss='binary_crossentropy',optimizer='adam',metrics=['accuracy'])\n",
    "print(model1.summary())"
   ]
  },
  {
   "cell_type": "code",
   "execution_count": null,
   "metadata": {
    "colab": {
     "base_uri": "https://localhost:8080/"
    },
    "executionInfo": {
     "elapsed": 970,
     "status": "ok",
     "timestamp": 1615377793663,
     "user": {
      "displayName": "Rimanshu Mangal",
      "photoUrl": "",
      "userId": "01816973904928346155"
     },
     "user_tz": -330
    },
    "id": "AgKI7TH246CV",
    "outputId": "786f24ff-b2c6-4059-93ad-a7989cabe0eb"
   },
   "outputs": [
    {
     "name": "stderr",
     "output_type": "stream",
     "text": [
      "/usr/local/lib/python3.7/dist-packages/tensorflow/python/keras/engine/sequential.py:450: UserWarning: `model.predict_classes()` is deprecated and will be removed after 2021-01-01. Please use instead:* `np.argmax(model.predict(x), axis=-1)`,   if your model does multi-class classification   (e.g. if it uses a `softmax` last-layer activation).* `(model.predict(x) > 0.5).astype(\"int32\")`,   if your model does binary classification   (e.g. if it uses a `sigmoid` last-layer activation).\n",
      "  warnings.warn('`model.predict_classes()` is deprecated and '\n"
     ]
    },
    {
     "data": {
      "text/plain": [
       "0.9068765534382767"
      ]
     },
     "execution_count": 39,
     "metadata": {
      "tags": []
     },
     "output_type": "execute_result"
    }
   ],
   "source": [
    "y_pred=model.predict_classes(X_test)\n",
    "\n",
    "confusion_matrix(y_test,y_pred)\n",
    "\n",
    "accuracy_score(y_test,y_pred)"
   ]
  },
  {
   "cell_type": "code",
   "execution_count": null,
   "metadata": {
    "colab": {
     "base_uri": "https://localhost:8080/"
    },
    "executionInfo": {
     "elapsed": 964,
     "status": "ok",
     "timestamp": 1615377833848,
     "user": {
      "displayName": "Rimanshu Mangal",
      "photoUrl": "",
      "userId": "01816973904928346155"
     },
     "user_tz": -330
    },
    "id": "EXQQP5Z7AOB2",
    "outputId": "c4001667-b63b-4f23-f64b-685cf7f87ea0"
   },
   "outputs": [
    {
     "name": "stdout",
     "output_type": "stream",
     "text": [
      "              precision    recall  f1-score   support\n",
      "\n",
      "           0       0.92      0.91      0.92      3419\n",
      "           1       0.89      0.90      0.89      2616\n",
      "\n",
      "    accuracy                           0.91      6035\n",
      "   macro avg       0.90      0.91      0.91      6035\n",
      "weighted avg       0.91      0.91      0.91      6035\n",
      "\n"
     ]
    }
   ],
   "source": [
    "print(classification_report(y_test,y_pred))"
   ]
  }
 ],
 "metadata": {
  "accelerator": "GPU",
  "colab": {
   "authorship_tag": "ABX9TyMxJTRfwFlR63tvfpJYGeM3",
   "collapsed_sections": [],
   "mount_file_id": "171ib4HELiiyrur0kpw2ZFpYaXFY0dx4H",
   "name": "Text_Classification_LSTM.ipynb",
   "provenance": []
  },
  "kernelspec": {
   "display_name": "Python 3",
   "language": "python",
   "name": "python3"
  },
  "language_info": {
   "codemirror_mode": {
    "name": "ipython",
    "version": 3
   },
   "file_extension": ".py",
   "mimetype": "text/x-python",
   "name": "python",
   "nbconvert_exporter": "python",
   "pygments_lexer": "ipython3",
   "version": "3.8.5"
  }
 },
 "nbformat": 4,
 "nbformat_minor": 1
}
