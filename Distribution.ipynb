{
 "cells": [
  {
   "cell_type": "markdown",
   "metadata": {},
   "source": [
    "# Data Distribution"
   ]
  },
  {
   "cell_type": "code",
   "execution_count": null,
   "metadata": {},
   "outputs": [],
   "source": [
    "#Distribution is relationship between observations in a sample space.\n",
    "#A distribution is simply a collection of data, or scores, on a variable. Usually, these scores are arranged in order from \n",
    "#smallest to largest and then they can be presented graphically.\n",
    "\n",
    "#https://machinelearningmastery.com/statistical-data-distributions/\n",
    "\n",
    "#https://www.youtube.com/watch?v=rzFX5NWojp0\n",
    "\n",
    "#This distribution describes the grouping or the density of the observations, called the probability density function.\n",
    "#https://machinelearningmastery.com/statistical-data-distributions/\n",
    "\n",
    "#A distribution is simply a collection of data, or scores, on a variable. Usually, these scores are arranged in order from \n",
    "#smallest to largest and then they can be presented graphically.\n",
    "\n",
    "#Distributions are often described in terms of their density or density functions.\n",
    "\n",
    "#Density functions are functions that describe how the proportion of data or likelihood of the proportion of observations \n",
    "#change over the range of the distribution.\n",
    "\n",
    "#For continuous distributions, the Gaussian naive Bayes is the algorithm of choice. \n",
    "#For discrete features, multinomial and Bernoulli distributions as popular.\n",
    "\n",
    "#Normal Distribution is always centered on mean or average. Width of curve represents the standard deviations.\n",
    "#Knowing the standard deviation is helpful because normal curve is drawn in such a way that 95% of teh measurment fall between\n",
    "#+/- standard deviation around mean. example babied std is .6 and men is 4 and mean for babies is 20 and men is 70 so. \n",
    "#data is fall in between for babies is 20+/-.3 and 70+/-2\n",
    "\n",
    "#####################  Uniform Distribution  ############################\n",
    "\n",
    "#Uniform distribution is equal probability of selecting values between 0 and 1.\n",
    "\n",
    "############################  Binomail Distribution #######################################\n",
    "\n",
    "#If we use the binomail distribution to calculate the p value then it is called Binomail test.\n",
    "# P value is the probility of the observed data (4 out of 7 people prefer orange) plus the probability of all the possibilities\n",
    "#that are equally likely or rarer.\n",
    "\n"
   ]
  },
  {
   "cell_type": "markdown",
   "metadata": {},
   "source": [
    "# Central Limit Theorem"
   ]
  },
  {
   "cell_type": "code",
   "execution_count": null,
   "metadata": {},
   "outputs": [],
   "source": [
    "#https://www.youtube.com/watch?v=YAlJCEDH2uY&t=238s\n",
    "#https://towardsdatascience.com/the-only-theorem-data-scientists-need-to-know-a50a263d013c\n",
    "#https://towardsdatascience.com/understanding-the-central-limit-theorem-642473c63ad8\n",
    "\n",
    "The Central Limit Theorem states that the sampling distribution of the sample means approaches a normal distribution as the \n",
    "sample size gets larger — no matter what the shape of the population distribution. This fact holds especially true for sample \n",
    "sizes over 30. All this is saying is that as you take more samples, especially large ones, your graph of the sample means will \n",
    "look more like a normal distribution.\n",
    "\n",
    "#The central limit theorem (CLT) is simple. It just says that with a large sample size, sample means are normally distributed.\n",
    "#Default poeple says that sample should be 30. CLT used mainly in Null hhypothesis.\n",
    "\n",
    "#A sample mean is the average of a random subset of a larger group. So if you randomly picked 10 people out of 100 and \n",
    "#recorded their heights, the average of those 10 heights would be the sample mean.\n",
    "\n",
    "# We can draw histogram of that mean and make a bell curve. we will have to take 100 means and make bell curve.\n",
    "\n",
    "#It doesn't matter what distribution you start with but the mean will normally distributed.\n",
    "\n",
    "# We can use mean normal distribution to make confidence interval. If there is diff b/w of mean of two samples than it is called \n",
    "#t test while annova is diff among the mean of three or more samples.\n",
    "\n",
    "#how do you understand how likely some data is when your hypothesis is wrong? To do this you need to construct the range of \n",
    "#values you could see given that your hypothesis is wrong, and then assess the likelihood of your observed value in that context.\n",
    "#Luckily this is exactly what the CLT allows you to do."
   ]
  },
  {
   "cell_type": "code",
   "execution_count": null,
   "metadata": {},
   "outputs": [],
   "source": [
    "# demonstration of the central limit theorem\n",
    "from numpy.random import seed\n",
    "from numpy.random import randint\n",
    "from numpy import mean\n",
    "from matplotlib import pyplot\n",
    "# seed the random number generator\n",
    "seed(1)\n",
    "# calculate the mean of 50 dice rolls 1000 times\n",
    "means = [mean(randint(1, 7, 50)) for _ in range(1000)]\n",
    "# plot the distribution of sample means\n",
    "pyplot.hist(means)\n",
    "pyplot.show()\n",
    "1\n",
    "2\n",
    "3\n",
    "4\n",
    "5\n",
    "6\n",
    "7\n",
    "8\n",
    "9\n",
    "10\n",
    "11\n",
    "12\n",
    "# demonstration of the central limit theorem\n",
    "from numpy.random import seed\n",
    "from numpy.random import randint\n",
    "from numpy import mean\n",
    "from matplotlib import pyplot\n",
    "# seed the random number generator\n",
    "seed(1)\n",
    "# calculate the mean of 50 dice rolls 1000 times\n",
    "means = [mean(randint(1, 7, 50)) for _ in range(1000)]\n",
    "# plot the distribution of sample means\n",
    "pyplot.hist(means)\n",
    "pyplot.show()"
   ]
  }
 ],
 "metadata": {
  "kernelspec": {
   "display_name": "Python 3",
   "language": "python",
   "name": "python3"
  },
  "language_info": {
   "codemirror_mode": {
    "name": "ipython",
    "version": 3
   },
   "file_extension": ".py",
   "mimetype": "text/x-python",
   "name": "python",
   "nbconvert_exporter": "python",
   "pygments_lexer": "ipython3",
   "version": "3.7.3"
  }
 },
 "nbformat": 4,
 "nbformat_minor": 2
}
